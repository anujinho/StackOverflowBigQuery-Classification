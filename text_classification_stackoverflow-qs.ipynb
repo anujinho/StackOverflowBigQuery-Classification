{
 "cells": [
  {
   "cell_type": "markdown",
   "metadata": {},
   "source": [
    "# Import "
   ]
  },
  {
   "cell_type": "code",
   "execution_count": 103,
   "metadata": {
    "ExecuteTime": {
     "end_time": "2020-07-30T14:17:07.210666Z",
     "start_time": "2020-07-30T14:17:04.474474Z"
    }
   },
   "outputs": [
    {
     "name": "stdout",
     "output_type": "stream",
     "text": [
      "[nltk_data] Downloading package wordnet to\n",
      "[nltk_data]     C:\\Users\\Anuj\\AppData\\Roaming\\nltk_data...\n",
      "[nltk_data]   Unzipping corpora\\wordnet.zip.\n"
     ]
    },
    {
     "data": {
      "text/plain": [
       "True"
      ]
     },
     "execution_count": 103,
     "metadata": {},
     "output_type": "execute_result"
    }
   ],
   "source": [
    "nltk.download('wordnet')"
   ]
  },
  {
   "cell_type": "code",
   "execution_count": 1,
   "metadata": {
    "ExecuteTime": {
     "end_time": "2020-08-01T15:52:38.511555Z",
     "start_time": "2020-08-01T15:52:30.642773Z"
    }
   },
   "outputs": [],
   "source": [
    "import matplotlib.pyplot as plt\n",
    "import os\n",
    "import re\n",
    "import shutil\n",
    "import string\n",
    "import tensorflow as tf\n",
    "from tensorflow.keras import preprocessing\n",
    "from tensorflow.keras import losses\n",
    "from tensorflow.keras.layers.experimental.preprocessing import TextVectorization\n",
    "import pandas as pd\n",
    "import numpy as np\n",
    "import glob\n",
    "from collections import defaultdict\n",
    "from pathlib import Path\n",
    "from sklearn import preprocessing\n",
    "from sklearn.model_selection import train_test_split\n",
    "import nltk\n",
    "from nltk.stem import WordNetLemmatizer \n",
    "from nltk.corpus import stopwords\n",
    "from sklearn.feature_extraction.text import CountVectorizer, TfidfVectorizer\n",
    "from sklearn.utils import shuffle\n"
   ]
  },
  {
   "cell_type": "code",
   "execution_count": 2,
   "metadata": {
    "ExecuteTime": {
     "end_time": "2020-08-01T15:52:39.373695Z",
     "start_time": "2020-08-01T15:52:39.333698Z"
    }
   },
   "outputs": [
    {
     "data": {
      "text/plain": [
       "'2.2.0'"
      ]
     },
     "execution_count": 2,
     "metadata": {},
     "output_type": "execute_result"
    }
   ],
   "source": [
    "tf.__version__"
   ]
  },
  {
   "cell_type": "markdown",
   "metadata": {},
   "source": [
    "# Data "
   ]
  },
  {
   "cell_type": "markdown",
   "metadata": {
    "heading_collapsed": true
   },
   "source": [
    "## Extraction "
   ]
  },
  {
   "cell_type": "code",
   "execution_count": 3,
   "metadata": {
    "ExecuteTime": {
     "end_time": "2020-08-01T09:02:51.358878Z",
     "start_time": "2020-08-01T09:02:51.342876Z"
    },
    "hidden": true
   },
   "outputs": [],
   "source": [
    "train_list = glob.glob(\"./stack_overflow_16k/train/*\")\n",
    "test_list = glob.glob(\"./stack_overflow_16k/test/*\")"
   ]
  },
  {
   "cell_type": "code",
   "execution_count": 4,
   "metadata": {
    "ExecuteTime": {
     "end_time": "2020-08-01T09:03:50.497402Z",
     "start_time": "2020-08-01T09:02:53.411987Z"
    },
    "hidden": true,
    "scrolled": false
   },
   "outputs": [
    {
     "data": {
      "text/html": [
       "<div>\n",
       "<style scoped>\n",
       "    .dataframe tbody tr th:only-of-type {\n",
       "        vertical-align: middle;\n",
       "    }\n",
       "\n",
       "    .dataframe tbody tr th {\n",
       "        vertical-align: top;\n",
       "    }\n",
       "\n",
       "    .dataframe thead th {\n",
       "        text-align: right;\n",
       "    }\n",
       "</style>\n",
       "<table border=\"1\" class=\"dataframe\">\n",
       "  <thead>\n",
       "    <tr style=\"text-align: right;\">\n",
       "      <th></th>\n",
       "      <th>label</th>\n",
       "      <th>text</th>\n",
       "    </tr>\n",
       "  </thead>\n",
       "  <tbody>\n",
       "    <tr>\n",
       "      <th>0</th>\n",
       "      <td>./stack_overflow_16k/train\\csharp</td>\n",
       "      <td>\"how to pause loop while time is ticking i hav...</td>\n",
       "    </tr>\n",
       "    <tr>\n",
       "      <th>0</th>\n",
       "      <td>./stack_overflow_16k/train\\csharp</td>\n",
       "      <td>\"get the y axis height of webbrowser control d...</td>\n",
       "    </tr>\n",
       "    <tr>\n",
       "      <th>0</th>\n",
       "      <td>./stack_overflow_16k/train\\csharp</td>\n",
       "      <td>\"how to skip day when there is no store openin...</td>\n",
       "    </tr>\n",
       "    <tr>\n",
       "      <th>0</th>\n",
       "      <td>./stack_overflow_16k/train\\csharp</td>\n",
       "      <td>\"how to add items to a property of type list w...</td>\n",
       "    </tr>\n",
       "    <tr>\n",
       "      <th>0</th>\n",
       "      <td>./stack_overflow_16k/train\\csharp</td>\n",
       "      <td>\"what is the default value when create multi d...</td>\n",
       "    </tr>\n",
       "    <tr>\n",
       "      <th>...</th>\n",
       "      <td>...</td>\n",
       "      <td>...</td>\n",
       "    </tr>\n",
       "    <tr>\n",
       "      <th>0</th>\n",
       "      <td>./stack_overflow_16k/train\\python</td>\n",
       "      <td>\"finding which values are causing runtimewarni...</td>\n",
       "    </tr>\n",
       "    <tr>\n",
       "      <th>0</th>\n",
       "      <td>./stack_overflow_16k/train\\python</td>\n",
       "      <td>\"combine lines (deleting line numbers) to make...</td>\n",
       "    </tr>\n",
       "    <tr>\n",
       "      <th>0</th>\n",
       "      <td>./stack_overflow_16k/train\\python</td>\n",
       "      <td>\"blank reduce issue object has no attribute sn...</td>\n",
       "    </tr>\n",
       "    <tr>\n",
       "      <th>0</th>\n",
       "      <td>./stack_overflow_16k/train\\python</td>\n",
       "      <td>pandas: how to merge columns containing the sa...</td>\n",
       "    </tr>\n",
       "    <tr>\n",
       "      <th>0</th>\n",
       "      <td>./stack_overflow_16k/train\\python</td>\n",
       "      <td>\"else command not running correctly? (blank 3 ...</td>\n",
       "    </tr>\n",
       "  </tbody>\n",
       "</table>\n",
       "<p>8000 rows × 2 columns</p>\n",
       "</div>"
      ],
      "text/plain": [
       "                                label  \\\n",
       "0   ./stack_overflow_16k/train\\csharp   \n",
       "0   ./stack_overflow_16k/train\\csharp   \n",
       "0   ./stack_overflow_16k/train\\csharp   \n",
       "0   ./stack_overflow_16k/train\\csharp   \n",
       "0   ./stack_overflow_16k/train\\csharp   \n",
       "..                                ...   \n",
       "0   ./stack_overflow_16k/train\\python   \n",
       "0   ./stack_overflow_16k/train\\python   \n",
       "0   ./stack_overflow_16k/train\\python   \n",
       "0   ./stack_overflow_16k/train\\python   \n",
       "0   ./stack_overflow_16k/train\\python   \n",
       "\n",
       "                                                 text  \n",
       "0   \"how to pause loop while time is ticking i hav...  \n",
       "0   \"get the y axis height of webbrowser control d...  \n",
       "0   \"how to skip day when there is no store openin...  \n",
       "0   \"how to add items to a property of type list w...  \n",
       "0   \"what is the default value when create multi d...  \n",
       "..                                                ...  \n",
       "0   \"finding which values are causing runtimewarni...  \n",
       "0   \"combine lines (deleting line numbers) to make...  \n",
       "0   \"blank reduce issue object has no attribute sn...  \n",
       "0   pandas: how to merge columns containing the sa...  \n",
       "0   \"else command not running correctly? (blank 3 ...  \n",
       "\n",
       "[8000 rows x 2 columns]"
      ]
     },
     "execution_count": 4,
     "metadata": {},
     "output_type": "execute_result"
    }
   ],
   "source": [
    "train = pd.DataFrame(columns = ['label', 'text'])\n",
    "for dirs in train_list:    \n",
    "    for file in Path(dirs).iterdir():\n",
    "        l1=list()\n",
    "        with open(file, \"r\", encoding='utf-8') as file_open:\n",
    "            l = [dirs, file_open.read()]\n",
    "            l1.append(l)\n",
    "        l1 = np.vstack(l1)\n",
    "        train = pd.concat([train, pd.DataFrame(l1, columns=train.columns)], axis=0)\n",
    "train"
   ]
  },
  {
   "cell_type": "code",
   "execution_count": 5,
   "metadata": {
    "ExecuteTime": {
     "end_time": "2020-08-01T09:03:55.139946Z",
     "start_time": "2020-08-01T09:03:55.123944Z"
    },
    "hidden": true
   },
   "outputs": [
    {
     "data": {
      "text/plain": [
       "./stack_overflow_16k/train\\csharp        2000\n",
       "./stack_overflow_16k/train\\python        2000\n",
       "./stack_overflow_16k/train\\java          2000\n",
       "./stack_overflow_16k/train\\javascript    2000\n",
       "Name: label, dtype: int64"
      ]
     },
     "execution_count": 5,
     "metadata": {},
     "output_type": "execute_result"
    }
   ],
   "source": [
    "train.label.value_counts()"
   ]
  },
  {
   "cell_type": "code",
   "execution_count": 6,
   "metadata": {
    "ExecuteTime": {
     "end_time": "2020-08-01T09:03:56.389411Z",
     "start_time": "2020-08-01T09:03:56.381375Z"
    },
    "hidden": true
   },
   "outputs": [
    {
     "data": {
      "text/plain": [
       "(8000, 2)"
      ]
     },
     "execution_count": 6,
     "metadata": {},
     "output_type": "execute_result"
    }
   ],
   "source": [
    "train.shape"
   ]
  },
  {
   "cell_type": "code",
   "execution_count": 7,
   "metadata": {
    "ExecuteTime": {
     "end_time": "2020-08-01T09:04:57.010319Z",
     "start_time": "2020-08-01T09:03:57.261094Z"
    },
    "hidden": true
   },
   "outputs": [
    {
     "data": {
      "text/html": [
       "<div>\n",
       "<style scoped>\n",
       "    .dataframe tbody tr th:only-of-type {\n",
       "        vertical-align: middle;\n",
       "    }\n",
       "\n",
       "    .dataframe tbody tr th {\n",
       "        vertical-align: top;\n",
       "    }\n",
       "\n",
       "    .dataframe thead th {\n",
       "        text-align: right;\n",
       "    }\n",
       "</style>\n",
       "<table border=\"1\" class=\"dataframe\">\n",
       "  <thead>\n",
       "    <tr style=\"text-align: right;\">\n",
       "      <th></th>\n",
       "      <th>label</th>\n",
       "      <th>text</th>\n",
       "    </tr>\n",
       "  </thead>\n",
       "  <tbody>\n",
       "    <tr>\n",
       "      <th>0</th>\n",
       "      <td>./stack_overflow_16k/test\\csharp</td>\n",
       "      <td>\"how to specify the connection string if the e...</td>\n",
       "    </tr>\n",
       "    <tr>\n",
       "      <th>0</th>\n",
       "      <td>./stack_overflow_16k/test\\csharp</td>\n",
       "      <td>\"maxdegreeofparallelism not limiting the numbe...</td>\n",
       "    </tr>\n",
       "    <tr>\n",
       "      <th>0</th>\n",
       "      <td>./stack_overflow_16k/test\\csharp</td>\n",
       "      <td>\"highlight an option in the listview i created...</td>\n",
       "    </tr>\n",
       "    <tr>\n",
       "      <th>0</th>\n",
       "      <td>./stack_overflow_16k/test\\csharp</td>\n",
       "      <td>\"how can i declare ^ in a string or character ...</td>\n",
       "    </tr>\n",
       "    <tr>\n",
       "      <th>0</th>\n",
       "      <td>./stack_overflow_16k/test\\csharp</td>\n",
       "      <td>\"blank optimization of nested for loops i am t...</td>\n",
       "    </tr>\n",
       "    <tr>\n",
       "      <th>...</th>\n",
       "      <td>...</td>\n",
       "      <td>...</td>\n",
       "    </tr>\n",
       "    <tr>\n",
       "      <th>0</th>\n",
       "      <td>./stack_overflow_16k/test\\python</td>\n",
       "      <td>\"replacing a word that matches with a key is n...</td>\n",
       "    </tr>\n",
       "    <tr>\n",
       "      <th>0</th>\n",
       "      <td>./stack_overflow_16k/test\\python</td>\n",
       "      <td>\"how to pass a list of arguments to blank comm...</td>\n",
       "    </tr>\n",
       "    <tr>\n",
       "      <th>0</th>\n",
       "      <td>./stack_overflow_16k/test\\python</td>\n",
       "      <td>\"blank script won't print when called from ano...</td>\n",
       "    </tr>\n",
       "    <tr>\n",
       "      <th>0</th>\n",
       "      <td>./stack_overflow_16k/test\\python</td>\n",
       "      <td>\"combine lists of strings element-wise with sp...</td>\n",
       "    </tr>\n",
       "    <tr>\n",
       "      <th>0</th>\n",
       "      <td>./stack_overflow_16k/test\\python</td>\n",
       "      <td>\"plotting array of size (n,m,i) as n distingui...</td>\n",
       "    </tr>\n",
       "  </tbody>\n",
       "</table>\n",
       "<p>8000 rows × 2 columns</p>\n",
       "</div>"
      ],
      "text/plain": [
       "                               label  \\\n",
       "0   ./stack_overflow_16k/test\\csharp   \n",
       "0   ./stack_overflow_16k/test\\csharp   \n",
       "0   ./stack_overflow_16k/test\\csharp   \n",
       "0   ./stack_overflow_16k/test\\csharp   \n",
       "0   ./stack_overflow_16k/test\\csharp   \n",
       "..                               ...   \n",
       "0   ./stack_overflow_16k/test\\python   \n",
       "0   ./stack_overflow_16k/test\\python   \n",
       "0   ./stack_overflow_16k/test\\python   \n",
       "0   ./stack_overflow_16k/test\\python   \n",
       "0   ./stack_overflow_16k/test\\python   \n",
       "\n",
       "                                                 text  \n",
       "0   \"how to specify the connection string if the e...  \n",
       "0   \"maxdegreeofparallelism not limiting the numbe...  \n",
       "0   \"highlight an option in the listview i created...  \n",
       "0   \"how can i declare ^ in a string or character ...  \n",
       "0   \"blank optimization of nested for loops i am t...  \n",
       "..                                                ...  \n",
       "0   \"replacing a word that matches with a key is n...  \n",
       "0   \"how to pass a list of arguments to blank comm...  \n",
       "0   \"blank script won't print when called from ano...  \n",
       "0   \"combine lists of strings element-wise with sp...  \n",
       "0   \"plotting array of size (n,m,i) as n distingui...  \n",
       "\n",
       "[8000 rows x 2 columns]"
      ]
     },
     "execution_count": 7,
     "metadata": {},
     "output_type": "execute_result"
    }
   ],
   "source": [
    "test = pd.DataFrame(columns = ['label', 'text'])\n",
    "for dirs in test_list:    \n",
    "    for file in Path(dirs).iterdir():\n",
    "        l1=list()\n",
    "        with open(file, \"r\", encoding='utf-8') as file_open:\n",
    "            l = [dirs, file_open.read()]\n",
    "            l1.append(l)\n",
    "        l1 = np.vstack(l1)\n",
    "        test = pd.concat([test, pd.DataFrame(l1, columns=train.columns)], axis=0)\n",
    "test"
   ]
  },
  {
   "cell_type": "code",
   "execution_count": 8,
   "metadata": {
    "ExecuteTime": {
     "end_time": "2020-08-01T09:05:17.448565Z",
     "start_time": "2020-08-01T09:05:17.432527Z"
    },
    "hidden": true
   },
   "outputs": [
    {
     "data": {
      "text/plain": [
       "./stack_overflow_16k/train\\csharp        2000\n",
       "./stack_overflow_16k/train\\python        2000\n",
       "./stack_overflow_16k/train\\java          2000\n",
       "./stack_overflow_16k/train\\javascript    2000\n",
       "Name: label, dtype: int64"
      ]
     },
     "execution_count": 8,
     "metadata": {},
     "output_type": "execute_result"
    }
   ],
   "source": [
    "train.label.value_counts()"
   ]
  },
  {
   "cell_type": "code",
   "execution_count": 9,
   "metadata": {
    "ExecuteTime": {
     "end_time": "2020-08-01T09:05:18.068823Z",
     "start_time": "2020-08-01T09:05:18.052816Z"
    },
    "hidden": true
   },
   "outputs": [
    {
     "data": {
      "text/plain": [
       "(8000, 2)"
      ]
     },
     "execution_count": 9,
     "metadata": {},
     "output_type": "execute_result"
    }
   ],
   "source": [
    "test.shape"
   ]
  },
  {
   "cell_type": "markdown",
   "metadata": {},
   "source": [
    "## Load "
   ]
  },
  {
   "cell_type": "code",
   "execution_count": 10,
   "metadata": {
    "ExecuteTime": {
     "end_time": "2020-08-01T09:05:19.078309Z",
     "start_time": "2020-08-01T09:05:18.958035Z"
    }
   },
   "outputs": [],
   "source": [
    "train.to_pickle('./stack_overflow_16k/train.pkl')\n",
    "test.to_pickle('./stack_overflow_16k/test.pkl')"
   ]
  },
  {
   "cell_type": "code",
   "execution_count": 338,
   "metadata": {
    "ExecuteTime": {
     "end_time": "2020-08-01T15:32:12.928654Z",
     "start_time": "2020-08-01T15:32:12.888700Z"
    }
   },
   "outputs": [],
   "source": [
    "train = pd.read_pickle('./stack_overflow_16k/train.pkl')\n",
    "test = pd.read_pickle('./stack_overflow_16k/test.pkl')\n",
    "train = train.reset_index(drop=True); test = test.reset_index(drop=True)"
   ]
  },
  {
   "cell_type": "code",
   "execution_count": null,
   "metadata": {
    "ExecuteTime": {
     "end_time": "2020-08-01T15:52:58.960983Z",
     "start_time": "2020-08-01T15:52:58.592947Z"
    }
   },
   "outputs": [],
   "source": [
    "train.to_pickle('./stack_overflow_16k/train1.pkl')\n",
    "test.to_pickle('./stack_overflow_16k/test1.pkl')"
   ]
  },
  {
   "cell_type": "code",
   "execution_count": 4,
   "metadata": {
    "ExecuteTime": {
     "end_time": "2020-08-01T15:53:09.029541Z",
     "start_time": "2020-08-01T15:53:08.933510Z"
    }
   },
   "outputs": [],
   "source": [
    "train = pd.read_pickle('./stack_overflow_16k/train1.pkl')\n",
    "test = pd.read_pickle('./stack_overflow_16k/test1.pkl')\n",
    "train = train.reset_index(drop=True); test = test.reset_index(drop=True)"
   ]
  },
  {
   "cell_type": "code",
   "execution_count": 5,
   "metadata": {
    "ExecuteTime": {
     "end_time": "2020-08-01T15:53:11.626229Z",
     "start_time": "2020-08-01T15:53:11.610232Z"
    }
   },
   "outputs": [],
   "source": [
    "train.label = train.label.apply(lambda x: x[-4:-1])"
   ]
  },
  {
   "cell_type": "code",
   "execution_count": 6,
   "metadata": {
    "ExecuteTime": {
     "end_time": "2020-08-01T15:53:12.599426Z",
     "start_time": "2020-08-01T15:53:12.591430Z"
    }
   },
   "outputs": [],
   "source": [
    "test.label = test.label.apply(lambda x: x[-4:-1])"
   ]
  },
  {
   "cell_type": "code",
   "execution_count": 7,
   "metadata": {
    "ExecuteTime": {
     "end_time": "2020-08-01T15:53:42.125094Z",
     "start_time": "2020-08-01T15:53:42.109085Z"
    }
   },
   "outputs": [],
   "source": [
    "le = preprocessing.LabelEncoder()\n",
    "train.label = le.fit_transform(train.label)\n",
    "test.label = le.fit_transform(test.label)"
   ]
  },
  {
   "cell_type": "markdown",
   "metadata": {},
   "source": [
    "# Pre-Process "
   ]
  },
  {
   "cell_type": "code",
   "execution_count": 14,
   "metadata": {
    "ExecuteTime": {
     "end_time": "2020-08-01T15:54:16.409225Z",
     "start_time": "2020-08-01T15:54:16.401220Z"
    }
   },
   "outputs": [],
   "source": [
    "def clean_text(t):\n",
    "    stop_words = set(stopwords.words('english')) \n",
    "    t = nltk.word_tokenize(t)\n",
    "    a = [word.lower() for word in t if word.isalpha()]\n",
    "    a = [word for word in a if not word in stop_words]\n",
    "    a = ' '.join(a)\n",
    "    #a = a.replace('')\n",
    "    lem = WordNetLemmatizer()\n",
    "    a = lem.lemmatize(a)\n",
    "    return a"
   ]
  },
  {
   "cell_type": "code",
   "execution_count": 15,
   "metadata": {
    "ExecuteTime": {
     "end_time": "2020-08-01T15:54:56.740260Z",
     "start_time": "2020-08-01T15:54:21.066394Z"
    }
   },
   "outputs": [],
   "source": [
    "X_train['text'] = X_train['text'].apply(lambda x: clean_text(x))\n",
    "#X_val['text'] = X_val['text'].apply(lambda x: clean_text(x))"
   ]
  },
  {
   "cell_type": "code",
   "execution_count": 16,
   "metadata": {
    "ExecuteTime": {
     "end_time": "2020-08-01T15:55:01.565120Z",
     "start_time": "2020-08-01T15:55:00.727002Z"
    }
   },
   "outputs": [
    {
     "name": "stdout",
     "output_type": "stream",
     "text": [
      "Total Unique Words/Tokens in the Corpus: 41066\n"
     ]
    }
   ],
   "source": [
    "vectorizer = CountVectorizer()\n",
    "X = vectorizer.fit_transform(X_train['text'])\n",
    "print('Total Unique Words/Tokens in the Corpus:', len(vectorizer.get_feature_names()))"
   ]
  },
  {
   "cell_type": "markdown",
   "metadata": {},
   "source": [
    "# Learning "
   ]
  },
  {
   "cell_type": "markdown",
   "metadata": {
    "heading_collapsed": true
   },
   "source": [
    "## Embeddings "
   ]
  },
  {
   "cell_type": "markdown",
   "metadata": {
    "hidden": true
   },
   "source": [
    "**Using TF TextVectorizer to map tokens to integer indices**"
   ]
  },
  {
   "cell_type": "code",
   "execution_count": 18,
   "metadata": {
    "ExecuteTime": {
     "end_time": "2020-07-30T19:45:35.807582Z",
     "start_time": "2020-07-30T19:45:34.931982Z"
    },
    "hidden": true
   },
   "outputs": [],
   "source": [
    "selected_vocab = 10000 #27,145 total words in the training corpus\n",
    "max_sample_len = 250\n",
    "\n",
    "vectorize_layer = TextVectorization(\n",
    "    #standardize=clean_text,\n",
    "    max_tokens=selected_vocab,\n",
    "    output_mode='int',\n",
    "    output_sequence_length=max_sample_len)"
   ]
  },
  {
   "cell_type": "code",
   "execution_count": 19,
   "metadata": {
    "ExecuteTime": {
     "end_time": "2020-07-30T19:45:37.337091Z",
     "start_time": "2020-07-30T19:45:36.829624Z"
    },
    "hidden": true
   },
   "outputs": [
    {
     "name": "stderr",
     "output_type": "stream",
     "text": [
      "C:\\Users\\Anuj\\Anaconda3\\lib\\site-packages\\tensorflow\\python\\keras\\layers\\preprocessing\\text_vectorization.py:338: VisibleDeprecationWarning: Creating an ndarray from ragged nested sequences (which is a list-or-tuple of lists-or-tuples-or ndarrays with different lengths or shapes) is deprecated. If you meant to do this, you must specify 'dtype=object' when creating the ndarray\n",
      "  return np.array(preprocessed_data.to_list())\n"
     ]
    },
    {
     "name": "stdout",
     "output_type": "stream",
     "text": [
      "9999\n",
      "[b'gt', b'lt', b'string', b'new', b'blank', b'int', b'code', b'return', b'public', b'class', b'function', b'file', b'amp', b'list', b'get', b'void', b'var', b'object', b'want', b'like', b'using', b'print', b'value', b'name', b'else', b'input', b'x', b'static', b'error', b'number', b'method', b'would', b'array', b'one', b'true', b'line', b'use', b'data', b'need', b'way', b'false', b'trying', b'main', b'b', b'program', b'private', b'text', b'null', b'n', b'user', b'c', b'double', b'help', b'type', b'first', b'time', b'problem', b'result', b'set', b'know', b'e', b'output', b'make', b'variable', b'example', b'enter', b'add', b'following', b'try', b'work', b'please', b'loop', b'two', b'case', b'values', b'button', b'create', b'run', b'tried', b'id', b'script', b'j', b'something', b'break', b'find', b'args', b'call', b'date', b'import', b'getting', b'working', b'question', b'key', b'self', b'another', b'could', b'def', b'div', b'word', b'exception', b'numbers', b'scanner', b'write', b'files', b'change', b'form', b'also', b'index', b'read', b'item', b'test', b'open', b'check', b'row', b'works', b'different', b'second', b'count', b'ca', b'start', b'see', b'answer', b'p', b'wrong', b'integer', b'image', b'possible', b'url', b'without', b'end', b'used', b'range', b'last', b'catch', b'page', b'display', b'right', b'str', b'html', b'current', b'however', b'inside', b'event', b'found', b'objects', b'sure', b'message', b'thanks', b'path', b'element', b'total', b'convert', b'simple', b'k', b'byte', b'game', b'f', b'click', b'application', b'correct', b'property', b'title', b'select', b'returns', b'random', b'r', b'option', b'alert', b'z', b'called', b'num', b'methods', b'statement', b'let', b'able', b'char', b'td', b'understand', b'http', b'arraylist', b'variables', b'access', b'point', b'part', b'boolean', b'len', b'final', b'created', b'instead', b'many', b'length', b'show', b'server', b'size', b'table', b'next', b'module', b'instance', b'pass', b'order', b'every', b'long', b'project', b'remove', b'solution', b'lines', b'running', b'format', b'got', b'contains', b'even', b'node', b'anyone', b'multiple', b'given', b'words', b'go', b'dictionary', b'command', b'think', b'still', b'put', b'sender', b'fine', b'someone', b'sum', b'none', b'functions', b'issue', b'elements', b'seems', b'width', b'process', b'window', b'times', b'directory', b'must', b'search', b'constructor', b'color', b'l', b'say', b'float', b'counter', b'really', b'player', b'source', b'letter', b'js', b'body', b'specific', b'console', b'back', b'within', b'always', b'v', b'thread', b'system', b'items', b'position', b'take', b'left', b'foreach', b'field', b'database', b'results', b'based', b'classes', b'default', b'block', b'password', b'invalid', b'temp', b'empty', b'year', b'update', b'reference', b'score', b'parameter', b'already', b'throws', b'parent', b'keep', b'height', b'far', b'done', b'windows', b'store', b'idea', b'override', b'day', b'br', b'level', b'link', b'amount', b'https', b'hello', b'character', b'strings', b'li', b'creating', b'looks', b'currently', b'adding', b'filename', b'advance', b'writing', b'give', b'column', b'names', b'figure', b'max', b'folder', b'expected', b'metamakeslist', b'gives', b'fix', b'etc', b'response', b'much', b'interface', b'extends', b'label', b'eventargs', b'undefined', b'replace', b'looking', b'computer', b'guess', b'choice', b'best', b'state', b'bool', b'well', b'added', b'task', b'properties', b'difference', b'characters', b'better', b'email', b'lists', b'sort', b'content', b'age', b'obj', b'single', b'month', b'location', b'stop', b'load', b'information', b'head', b'going', b'const', b'box', b'since', b'made', b'g', b'elif', b'arr', b'good', b'decimal', b'version', b'reading', b'errors', b'look', b'arguments', b'appreciated', b'seem', b'tell', b'may', b'library', b'defined', b'request', b'foo', b'val', b'app', b'address', b'reason', b'throw', b'solve', b'making', b'implement', b'fields', b'price', b'valid', b'move', b'attribute', b'send', b'three', b'employee', b'hours', b'copy', b'argument', b'written', b'username', b'parameters', b'thank', b'around', b'save', b'everything', b'customer', b'base', b'thing', b'syntax', b'original', b'global', b'client', b'switch', b'play', b'calling', b'anything', b'selected', b'root', b'takes', b'missing', b'map', b'keys', b'gets', b'shows', b'post', b'img', b'document', b'book', b'student', b'min', b'entered', b'child', b'h', b'tag', b'match', b'json', b'compare', b'action', b'info', b'nested', b'web', b'w', b'either', b'seconds', b'person', b'full', b'users', b'rows', b'execute', b'yes', b'service', b'operator', b'except', b'calculate', b'prints', b'im', b'correctly', b'package', b'equal', b'control', b'insert', b'explain', b'delete', b'ioexception', b'clicked', b'split', b'place', b'ex', b'datetime', b'similar', b'ok', b'edit', b'span', b'model', b'basically', b'required', b'expression', b'condition', b'browser', b'bit', b'bar', b'api', b'nothing', b'wondering', b'implements', b'contain', b'timer', b'submit', b'programming', b'col', b'exit', b'typeof', b'says', b'duplicate', b'whether', b'passed', b'tr', b'product', b'jbutton', b'screen', b'description', b'small', b'note', b'exist', b'connection', b'top', b'pattern', b'local', b'hour', b'continue', b'menu', b'matrix', b'log', b'properly', b'mean', b'logic', b'integers', b'bufferedreader', b'xml', b'red', b'prompt', b'generate', b'world', b'trouble', b'things', b'target', b'options', b'might', b'account', b'space', b'abstract', b'types', b'q', b'press', b'car', b'thought', b'days', b'protected', b'printing', b'actually', b'though', b'sorry', b'runs', b'returning', b'little', b'csv', b'certain', b'textbox', b'firstname', b'dict', b'close', b'average', b'status', b'images', b'balance', b'assign', b'arrays', b'clear', b'checkbox', b'assignment', b'actual', b'define', b'datatable', b'super', b'stored', b'previous', b'statements', b'available', b'points', b'jquery', b'recent', b'query', b'rectangle', b'google', b'dont', b'questions', b'less', b'entry', b'area', b'unknown', b'never', b'giving', b'cost', b'achieve', b'whole', b'sample', b'inputs', b'columns', b'u', b'separate', b'metamake', b'letters', b'collection', b'background', b'tuple', b'stuff', b'sql', b'simply', b'reader', b'minutes', b'changes', b'ask', b'stuck', b'started', b'problems', b'memory', b'hi', b'goes', b'basic', b'structure', b'ideas', b'gm', b'wrote', b'supposed', b'mouse', b'learning', b'iterate', b'named', b'large', b'come', b'callback', b'uses', b'unable', b'custom', b'cmd', b'wanted', b'via', b'stream', b'extract', b'exists', b'approach', b'view', b'param', b'diecastmanulist', b'checked', b'answers', b'typeerror', b'starting', b'passing', b'operation', b'follows', b'contents', b'center', b'calls', b'ip', b'frame', b'context', b'choose', b'objsqlparameter', b'bytes', b'turn', b'rate', b'needs', b'exactly', b'complete', b'binary', b'wo', b'settimeout', b'build', b'zero', b'several', b'per', b'loops', b'kind', b'containing', b'cell', b'calculator', b'website', b'rather', b'outside', b'card', b'quite', b'modify', b'font', b'changed', b'win', b'record', b'pretty', b'old', b'machine', b'jframe', b'allow', b'worked', b'section', b'needed', b'means', b'lot', b'login', b'determine', b'testing', b'shown', b'easy', b'buttons', b'zip', b'side', b'maybe', b'makes', b'group', b'flag', b'dynamically', b'digits', b'connect', b'cases', b'unique', b'suggestions', b'happening', b'yet', b'tostring', b'handle', b'direction', b'compile', b'city', b'bad', b'appreciate', b'creates', b'attributes', b'appear', b'prime', b'people', b'parse', b'mode', b'hashmap', b'hard', b'filter', b'course', b'converting', b'config', b'studio', b'comes', b'chrome', b'abc', b'visual', b'particular', b'partial', b'nodes', b'implementation', b'finally', b'expect', b'directly', b'author', b'symbol', b'support', b'sequence', b'port', b'negative', b'stringbuilder', b'site', b'include', b'cant', b'week', b'token', b'showing', b'jpanel', b'header', b'generic', b'checking', b'salary', b'radio', b'language', b'enum', b'stack', b'sorted', b'finding', b'confused', b'canvas', b'tree', b'together', b'saying', b'nbsp', b'maximum', b'lastname', b'happens', b'execution', b'excel', b'entire', b'download', b'country', b'codes', b'changing', b'automatically', b'attempt', b'third', b'thinking', b'session', b'returned', b'provide', b'msg', b'ie', b'extension', b'append', b'todo', b'physicsvector', b'paper', b'highest', b'generated', b'func', b'four', b'declare', b'coding', b'ans', b'starts', b'selection', b'rest', b'quantity', b'appears', b'weight', b'spaces', b'setting', b'scores', b'modified', b'grade', b'executed', b'draw', b'ways', b'src', b'resolve', b'queue', b'desired', b'buffer', b'behavior', b'ul', b'rock', b'myclass', b'math', b'fill', b'evt', b'avoid', b'allowed', b'tries', b'today', b'snippet', b'scope', b'repeat', b'ref', b'practice', b'outputs', b'namespace', b'asked', b'actionperformed', b'wait', b'updated', b'sqlcommand', b'specified', b'raise', b'printed', b'piece', b'minute', b'loading', b'initialize', b'incorrect', b'graphics', b'failed', b'equals', b'board', b'step', b'socket', b'removing', b'install', b'due', b'displayed', b'definition', b'compiler', b'big', b'understanding', b'square', b'round', b'regex', b'na', b'including', b'declared', b'children', b'validate', b'sentence', b'pick', b'later', b'grid', b'graph', b'fails', b'displays', b'quiz', b'guys', b'green', b'dynamic', b'commands', b'sometimes', b'picture', b'money', b'keyword', b'issues', b'digit', b'details', b'dataset', b'algorithm', b'addoption', b'acc', b'style', b'runtime', b'receive', b'prevent', b'native', b'member', b'loaded', b'intptr', b'hope', b'handler', b'executing', b'enters', b'assigned', b'across', b'vs', b'tax', b'states', b'sign', b'scissors', b'perform', b'mark', b'looping', b'learn', b'inner', b'five', b'existing', b'examples', b'dt', b'doctype', b'clicking', b'anybody', b'taking', b'reverse', b'looked', b'installed', b'hide', b'happen', b'converted', b'comma', b'believe', b'beginner', b'white', b'throwing', b'success', b'seen', b'res', b'quit', b'positive', b'params', b'mm', b'goal', b'debug', b'datarow', b'building', b'suppose', b'short', b'regular', b'radius', b'panel', b'pages', b'matching', b'listener', b'lambda', b'internal', b'extra', b'detect', b'dates', b'closed', b'checks', b'ch', b'came', b'arg', b'accept', b'unit', b'tags', b'room', b'matter', b'initial', b'greatly', b'displaying', b'dictionaries', b'delegate', b'coordinates', b'comparing', b'bottom', b'active', b'actionevent', b'video', b'txt', b'separated', b'probably', b'occurs', b'least', b'instances', b'ienumerable', b'external', b'enough', b'asking', b'whenever', b'welcome', b'stock', b'sqlparameter', b'sorting', b'real', b'manually', b'initialized', b'great', b'fixed', b'corresponding', b'conversion', b'cast', b'blue', b'bitmap', b'apply', b'according', b'threads', b'reset', b'prototype', b'pdf', b'otherwise', b'iteration', b'increment', b'hidden', b'greater', b'environment', b'deck', b'cards', b'beginning', b'solutions', b'retrieve', b'php', b'modules', b'mistake', b'keeps', b'java', b'high', b'exact', b'cause', b'async', b'us', b'suggest', b'standard', b'searching', b'saved', b'echo', b'displaytext', b'await', b'along', b'vector', b'sense', b'readonly', b'purpose', b'popup', b'parts', b'parseint', b'jar', b'init', b'efficient', b'directories', b'diecastmanu', b'twice', b'track', b'tab', b'sqlconnection', b'setup', b'provided', b'onclick', b'links', b'linkedlist', b'jlabel', b'interest', b'finished', b'dropdown', b'dr', b'deleted', b'db', b'cursor', b'configuration', b'coming', b'circle', b'substring', b'sc', b'present', b'os', b'odd', b'meta', b'lost', b'general', b'events', b'equivalent', b'entries', b'english', b'category', b'unexpected', b'th', b'tests', b'st', b'situation', b'said', b'minimum', b'matches', b'iframe', b'forms', b'followed', b'filepath', b'feel', b'comparison', b'bunch', b'asks', b'years', b'trigger', b'triangle', b'somehow', b'software', b'settings', b'scale', b'removed', b'performance', b'network', b'interval', b'host', b'generator', b'fileinputstream', b'doesnt', b'doc', b'derived', b'completely', b'cat', b'article', b'allows', b'advice', b'accessing', b'yield', b'wrapper', b'upload', b'team', b'setinterval', b'role', b'prop', b'printwriter', b'players', b'parsing', b'online', b'masala', b'lets', b'implemented', b'explanation', b'err', b'enumerate', b'dll', b'demo', b'confirm', b'con', b'timestamp', b'sub', b'references', b'rank', b'power', b'operations', b'operand', b'nums', b'normal', b'night', b'nice', b'movie', b'initializecomponent', b'homework', b'hit', b'hh', b'fact', b'eg', b'documentation', b'depending', b'container', b'common', b'webpage', b'streamreader', b'strange', b'requirement', b'home', b'bufferedwriter', b'assume', b'assembly', b'winner', b'validation', b'successfully', b'sets', b'infinite', b'fetch', b'domain', b'dice', b'behaviour', b'anyway', b'anonymous', b'adds', b'upon', b'saw', b'roman', b'quotes', b'pos', b'op', b'moment', b'iterator', b'internet', b'inputstreamreader', b'hand', b'getname', b'extern', b'ends', b'drop', b'dllimport', b'distance', b'complex', b'chars', b'calculation', b'various', b'urls', b'tool', b'slow', b'searched', b'scroll', b'scripts', b'report', b'push', b'moving', b'months', b'members', b'linked', b'job', b'individual', b'filewriter', b'filereader', b'easier', b'dog', b'de', b'comments', b'accomplish', b'terminal', b'simpledateformat', b'sent', b'sec', b'related', b'ran', b'powder', b'period', b'pay', b'obviously', b'objdatarow', b'keyboard', b'half', b'framework', b'eval', b'editor', b'design', b'calendar', b'away', b'actionlistener', b'writer', b'unfortunately', b'shift', b'sales', b'perfectly', b'mylist', b'mid', b'included', b'ignore', b'gui', b'follow', b'countdown', b'controls', b'colors', b'causing', b'become', b'wins', b'virtual', b'sys', b'steps', b'speed', b'sleep', b'requests', b'referenced', b'records', b'randomly', b'phone', b'pair', b'ones', b'occurred', b'nan', b'messages', b'libraries', b'inheritance', b'handling', b'fruit', b'driver', b'dir', b'completed', b'company', b'boxes', b'blanks', b'warning', b'wants', b'usrtrans', b'traceback', b'template', b'students', b'snake', b'ship', b'shell', b'rid', b'restart', b'require', b'replaced', b'playing', b'others', b'opened', b'limit', b'leave', b'john', b'front', b'executes', b'el', b'eclipse', b'damage', b'connected', b'clicks', b'cars', b'assigning', b'additional', b'useful', b'usage', b'tutorial', b'textarea', b'special', b'song', b'solid', b'smallest', b'scan', b'register', b'recursive', b'reads', b'pressed', b'necessary', b'merge', b'loads', b'importing', b'human', b'functionality', b'formatting', b'fail', b'elem', b'depth', b'consider', b'chose', b'black', b'auto', b'attempting', b'ar', b'whatever', b'sound', b'requires', b'remaining', b'processing', b'offset', b'mobile', b'memorystream', b'managed', b'mail', b'implementing', b'holds', b'gpa', b'gender', b'finds', b'duplicates', b'delay', b'combination', b'axis', b'almost', b'valueerror', b'typed', b'sending', b'refresh', b'prefix', b'pointer', b'places', b'obvious', b'numeric', b'microsoft', b'launch', b'headers', b'hash', b'fname', b'enemy', b'drive', b'discount', b'conn', b'chosen', b'behind', b'wall', b'tools', b'tokens', b'surname', b'summary', b'struct', b'stores', b'services', b'school', b'region', b'produce', b'parsefloat', b'moves', b'mouseevent', b'mind', b'middle', b'lowest', b'low', b'levels', b'interpreter', b'guessing', b'filenotfoundexception', b'fast', b'facing', b'divide', b'declaring', b'currency', b'contact', b'comment', b'border', b'although', b'alternative', b'addition', b'yearborn', b'wrap', b'wish', b'whose', b'whats', b'verify', b'uncaught', b'tested', b'taken', b'straight', b'specifically', b'render', b'proper', b'populate', b'pop', b'paths', b'myfunction', b'multiply', b'multiplication', b'generates', b'expecting', b'ds', b'dot', b'dom', b'dollars', b'decided', b'copied', b'choices', b'appropriate', b'xp', b'writes', b'textfield', b'storing', b'series', b'runnable', b'relevant', b'pin', b'interruptedexception', b'hold', b'fullname', b'exercise', b'equation', b'edge', b'customers', b'conditions', b'combobox', b'combine', b'clean', b'bug', b'audio', b'anywhere', b'animal', b'ajax', b'absolute', b'weapon', b'vehicle', b'typing', b'thus', b'term', b'sheet', b'share', b'resource', b'represents', b'represent', b'progress', b'produces', b'numpy', b'newbie', b'mentioned', b'lose', b'lock', b'literal', b'linux', b'latest', b'labels', b'join', b'generating', b'fully', b'firefox', b'export', b'exe', b'door', b'currentword', b'css', b'couple', b'coin', b'causes', b'built', b'binding', b'wont', b'walk', b'specify', b'somebody', b'skip', b'saving', b'resources', b'replacing', b'regiment', b'reduce', b'received', b'processes', b'pm', b'plus', b'opening', b'net', b'nai', b'magic', b'logger', b'jtextfield', b'inputstream', b'infile', b'increase', b'important', b'implicitly', b'ilist', b'food', b'folders', b'fileoutputstream', b'destination', b'delta', b'contextmenu', b'compiled', b'classname', b'checkboxes', b'calc', b'begin', b'arial', b'weird', b'waiting', b'tuples', b'timeout', b'terms', b'strategy', b'stops', b'ss', b'signature', b'safe', b'remote', b'regarding', b'recently', b'quote', b'putting', b'programs', b'pairs', b'orange', b'opens', b'objectid', b'myarray', b'monday', b'media', b'localhost', b'listview', b'finish', b'ever', b'evaluate', b'ending', b'enable', b'dosomething', b'copies', b'blah', b'becomes', b'visible', b'userinput', b'uri', b'upper', b'trial', b'therefore', b'subclass', b'streamwriter', b'seeing', b'scenario', b'relative', b'operators', b'myobject', b'ms', b'modifying', b'lvl', b'luck', b'lower', b'located', b'largest', b'httpwebrequest', b'hoping', b'history', b'guessed', b'games', b'future', b'flow', b'encoding', b'dialog', b'deleting', b'declaration', b'cut', b'component', b'business', b'bounds', b'userid', b'thrown', b'tasks', b'suit', b'stackoverflow', b'singleton', b'serializable', b'roll', b'rn', b'rgba', b'refer', b'redirect', b'pull', b'proxy', b'priority', b'prefer', b'plugin', b'plan', b'pics', b'perhaps', b'padding', b'mine', b'meaning', b'manager', b'logging', b'kill', b'instantiate', b'inherit', b'income', b'ids', b'health', b'guide', b'gregoriancalendar', b'filled', b'en', b'documents', b'disabled', b'dimension', b'diff', b'decode', b'cpu', b'constant', b'comparr', b'chat', b'attributeerror', b'yearlevel', b'wonder', b'userchoice', b'updating', b'transform', b'timezone', b'soon', b'rolled', b'richting', b'req', b'representation', b'repeating', b'rand', b'percentage', b'overwrite', b'mysql', b'mouseclicked', b'met', b'la', b'invoke', b'inputted', b'immediately', b'illegalargumentexception', b'identical', b'hey', b'helper', b'hashcode', b'guesses', b'free', b'filestream', b'faster', b'entering', b'engine', b'department', b'debugging', b'deal', b'curious', b'concatenate', b'computerchoice', b'comprehension', b'closing', b'cd', b'capture', b'btn', b'attempts', b'attached', b'versions', b'updates', b'uint', b'ui', b'turns', b'trade', b'told', b'stay', b'sale', b'reply', b'recursion', b'quot', b'outer', b'ordered', b'often', b'noticed', b'monthly', b'mapping', b'listed', b'layout', b'keyevent', b'instanceof', b'identifier', b'hex', b'helpful', b'gold', b'fun', b'formula', b'embed', b'easily', b'dist', b'dispose', b'developer', b'daynum', b'copying', b'compareto', b'calculations', b'calculates', b'beer', b'ago', b'aaa', b'unsure', b'subtract', b'struggling', b'smaller', b'rule', b'projects', b'pip', b'perfect', b'ns', b'mouseadapter', b'longer', b'knowledge', b'intended', b'initialization', b'indexof', b'indexerror', b'getvalue', b'getters', b'forward', b'formatted', b'entity', b'docs', b'defining', b'confusing', b'concept', b'bufferedimage', b'blocks', b'vowels', b'unsupported', b'till', b'tables', b'swap', b'stupid', b'strong', b'stanley', b'solved', b'skills', b'ready', b'ratio', b'rating', b'products', b'placed', b'payment', b'myvalues', b'music', b'major', b'inventory', b'imported', b'hostname', b'handles', b'everyone', b'eventhandler', b'ensure', b'elegant', b'downloading', b'device', b'dataframe', b'counting', b'counterupdate', b'controller', b'considered', b'compute', b'coins', b'cc', b'calculated', b'bicycle', b'bank', b'arrow', b'applied', b'appending', b'admin', b'actor', b'went', b'unicode', b'ten', b'temperature', b'tells', b'stopped', b'somewhere', b'sex', b'secret', b'repeated', b'python', b'programmer', b'portion', b'pixel', b'past', b'parallel', b'outcome', b'optional', b'okay', b'obtain', b'meslimpeza', b'men', b'iterable', b'href', b'helps', b'fn', b'feature', b'extracting', b'essentially', b'drag', b'downloaded', b'divs', b'difficulty', b'datagridview', b'creation', b'cookie', b'conditional', b'checkout', b'books', b'associated', b'android', b'accounts', b'youtube', b'wan', b'visited', b'vectorcomponents', b'topic', b'tmp', b'sun', b'subject', b'stdin', b'setters', b'servers', b'scalelist', b'registry', b'regexp', b'recursively', b'reaches', b'previously', b'posts', b'pc', b'paste', b'nullpointerexception', b'nn', b'milliseconds', b'metadata', b'marks', b'mainform', b'knows', b'iterating', b'isinstance', b'inherited', b'indices', b'imagine', b'imageicon', b'higher', b'grab', b'gave', b'focus', b'fitheadercard', b'fire', b'figured', b'factory', b'dirs', b'desktop', b'del', b'counts', b'contacts', b'compiles', b'com', b'bye', b'bind', b'ages', b'yearnow', b'translate', b'took', b'tile', b'thoughts', b'supported', b'sunday', b'suggestion', b'strip', b'strict', b'south', b'serial', b'selector', b'reload', b'reflection', b'receiving', b'reached', b'pandas', b'overloaded', b'overflow', b'normally', b'non', b'mask', b'locale', b'loc', b'life', b'keyvaluepair', b'isbn', b'interfaces', b'interested', b'instructions', b'inserted', b'improve', b'ii', b'flat', b'filenames', b'fileinfo', b'fairly', b'expressions', b'exceptions', b'effect', b'dx', b'disable', b'directoryinfo', b'credentials', b'coordinate', b'contained', b'components', b'comp', b'collision', b'collections', b'clock', b'caused', b'casting', b'callable', b'browsers', b'bob', b'birthday', b'bin', b'aware', b'authentication', b'assuming', b'alphabetically', b'xmlhttprequest', b'vowel', b'unchecked', b'ubuntu', b'turning', b'training', b'timespan', b'threadid', b'textfile', b'tester', b'syntaxerror', b'synchronized', b'stub', b'station', b'starttime', b'shared', b'rules', b'removes', b'rem', b'rect', b'reasons', b'quick', b'profit', b'plot', b'plain', b'phrase', b'pause', b'parser', b'overriding', b'nullable', b'nameerror', b'missed', b'miles', b'manage', b'male', b'mac', b'longest', b'lives', b'live', b'linq', b'known', b'keywords', b'ideally', b'huge', b'heap', b'getter', b'garbage', b'fuel', b'experience', b'especially', b'escape', b'encountered', b'dimensions', b'difficult', b'df', b'developing', b'develop', b'delimiter', b'crash', b'converts', b'computerscore', b'compiling', b'comparator', b'colour', b'clients', b'classa', b'chart', b'bullet', b'bonus', b'bold', b'blankic', b'bbb', b'availablehomes', b'assert', b'asp', b'alpha', b'alias', b'ac', b'unless', b'underlying', b'tom', b'teacher', b'slide', b'shape', b'sentences', b'sends', b'se', b'review', b'respective', b'registration', b'procedure', b'pid', b'permission', b'party', b'partsarray', b'parsed', b'owner', b'onload', b'objectoutputstream', b'notice', b'lowercase', b'logical', b'listbox', b'jdk', b'ide', b'httpwebresponse', b'globals', b'features', b'factorial', b'exec', b'exam', b'encoded', b'employees', b'division', b'da', b'curr', b'culture', b'compilation', b'clone', b'chain', b'calculating', b'boxmed', b'bottles', b'bigger', b'ball', b'ascii', b'apart', b'angle', b'agent', b'addresses', b'accountname', b'xrange', b'weekday', b'webclient', b'utc', b'uploaded', b'unhandled', b'ugly', b'truck', b'triggered', b'trace', b'tail', b'suggested', b'successful', b'storage', b'sources', b'solving', b'simulate', b'silly', b'setb', b'separator', b'resulting', b'repaint', b'rec', b'qty', b'pure', b'possibly', b'pokemon', b'planets', b'ping', b'perimeter', b'packet', b'neither', b'medium', b'listen', b'latitude', b'jsfiddle', b'jmenuitem', b'isnan', b'invoked', b'inserting', b'includes', b'idle', b'identity', b'identify', b'house', b'histogram', b'hint', b'happened', b'getdata', b'force', b'flask', b'fiddle', b'extend', b'ext', b'explicitly', b'errormessage', b'entirely', b'distinct', b'differently', b'dialimpeza', b'constructors', b'consecutive', b'combo', b'classpath', b'cache', b'activity', b'aa', b'xyz', b'xxx', b'xmlnode', b'worker', b'vertex', b'typelines', b'tower', b'totally', b'tips', b'stylesheet', b'stats', b'sqldataadapter', b'sprite', b'splitting', b'sizes', b'simplified', b'setter', b'seta', b'selecting', b'searches', b'rotate', b'rgb', b'resolved', b'research', b'release', b'regardless', b'recognize', b'realize', b'randomnum', b'quarter', b'px', b'ps', b'programmatically', b'pounds', b'picked', b'percent', b'notsimple', b'man', b'lo', b'larger', b'jtextarea', b'jsp', b'ive', b'instruction', b'indented', b'imports', b'hwnd', b'hourlyrate', b'hexadecimal', b'hangman', b'gotten', b'gone', b'ff', b'factors', b'explorer', b'encrypt', b'ein', b'easiest', b'dollar', b'disease', b'cycle', b'csvfile', b'construct', b'compared', b'coded', b'chance', b'care', b'boxsm', b'boxlg', b'bits', b'bitmapfileheader', b'attack', b'arithmetic', b'apparently', b'aktuell', b'adjacent', b'actions', b'accessible', b'accepts', b'yellow', b'xmldocument', b'writebytearray', b'weeks', b'vm', b'treemap', b'tkinter', b'thats', b'textrpg', b'ssn', b'sie', b'screenshot', b'savefile', b'rolldice', b'resultset', b'responses', b'repeats', b'referring', b'quadratic', b'punctuation', b'promise', b'production', b'printer', b'principal', b'pi', b'peter', b'palindrome', b'paint', b'packages', b'onto', b'oledbcommand', b'older', b'offer', b'obtained', b'numofhourworked', b'notation', b'noob', b'navigate', b'margin', b'march', b'mainwindow', b'ls', b'lnode', b'license', b'lib', b'kindly', b'kg', b'jlist', b'inputfile', b'idx', b'hr', b'hot', b'happy', b'guid', b'goto', b'getattr', b'genre', b'friend', b'fires', b'fibonacci', b'fff', b'factor', b'everytime', b'eventlistener', b'equipment', b'ended', b'encrypted', b'drawing', b'dots', b'dock', b'deprecated', b'dd', b'datacolumn', b'currentos', b'converter', b'confusion', b'complicated', b'commented', b'chunk', b'characteranalyzer', b'brand', b'brackets', b'availableapartments', b'advantage', b'act', b'achieved', b'accepted', b'zoom', b'xpos', b'watch', b'van', b'usually', b'transition', b'strength', b'spot', b'spent', b'sounds', b'signed', b'shuffle', b'sh', b'security', b'secuencia', b'resize', b'requirements', b'represented', b'replaces', b'referenceerror', b'rectangles', b'quickly', b'publisher', b'provider', b'proceed', b'prices', b'png', b'pipe', b'pictures', b'payload', b'passes', b'parents', b'overwriting', b'occur', b'mouseout', b'minor', b'master', b'marked', b'management', b'lots', b'longitude', b'light', b'libs', b'leading', b'jfilechooser', b'itemname', b'ints', b'integerset', b'indicate', b'incremented', b'inches', b'hashset', b'groups', b'gray', b'getcontentpane', b'friends', b'frequency', b'forth', b'fleet', b'filechecker', b'figuring', b'fd', b'entrypoint', b'endtime', b'enabled', b'edited', b'dynaphore', b'doubles', b'disk', b'diameter', b'desc', b'denied', b'decide', b'curve', b'currentcell', b'cs', b'comparable', b'commas', b'cols', b'chooses', b'bom', b'blz', b'apple', b'animate', b'analysis', b'adjust', b'accessed', b'abs', b'ypos', b'xx', b'wpf', b'west', b'weather', b'vign', b'tutorials', b'transfer', b'tip', b'tensorflow', b'sw', b'subset', b'stringbuffer', b'streams', b'smtpclient', b'sentinel', b'sections', b'reversed', b'remember', b'relatively', b'recognized', b'ray', b'productid', b'prod', b'printarray', b'primary', b'populated', b'pool', b'pointers', b'plate', b'pic', b'permissions', b'paragraph', b'pack', b'opt', b'opposite', b'occurrence', b'objectinputstream', b'newly', b'myfunc', b'multi', b'monthname', b'monitor', b'mention', b'manipulation', b'manipulate', b'maintain', b'love', b'likely', b'lead', b'king', b'jvm', b'january', b'ist', b'intent', b'installing', b'inputline', b'initially', b'indice', b'impossible', b'hp', b'hits', b'hence', b'handled', b'gridview', b'firstoperand', b'favorite', b'failing', b'eventually', b'enemies', b'embedded', b'elapsed', b'efficiently', b'dump', b'divisor', b'direct', b'dim', b'digital', b'degree', b'defaultvalue', b'decimalformat', b'datainputstream', b'currentvalue', b'csi', b'constants', b'concat', b'combinations', b'clearly', b'clearinterval', b'cleaner', b'chicken', b'cb', b'buy', b'bb', b'baseclass', b'balls', b'atilde', b'artist', b'arraylists', b'arbitrary', b'applications', b'animation', b'allowing', b'alerts', b'yyyy', b'xsi', b'ws', b'whereas', b'websites', b'war', b'volume', b'ver', b'velocity', b'validateform', b'traverse', b'toggle', b'throughout', b'terminate', b'templates', b'talking', b'supply', b'submitted', b'studying', b'startdate', b'standardverse', b'slider', b'skafoi', b'simpler', b'shutdown', b'shirt', b'setlasterror', b'seperate', b'sb', b'rounding', b'rewrite', b'resultat', b'raw', b'quality', b'purchase', b'provides', b'prompts', b'processed', b'priorityqueue', b'prior', b'pressing', b'positions', b'pok\\xc3\\xa9mon', b'phase', b'pdb', b'outfile', b'occured', b'objective', b'numerical', b'numberformatexception', b'netbeans', b'myname', b'modal', b'mi', b'messy', b'menuchoice', b'maps', b'mailmessage', b'machines', b'lookup', b'listviewitem', b'lies', b'languages', b'knowing', b'keyup', b'javascript', b'instantiated', b'inputarray', b'initializer', b'independent', b'incorrectly', b'ignored', b'icon', b'helloworld', b'fit', b'fired', b'findvalue', b'female', b'exits', b'exclude', b'endpoint', b'edges', b'earlier', b'dwste', b'doubt', b'development', b'detection', b'described', b'decision', b'debugger', b'datatype', b'dark', b'currentquestion', b'criteria', b'crashes', b'courseform', b'continues', b'compression', b'cnt', b'closure', b'cipher', b'chr', b'certificate', b'cert', b'capacity', b'cancellationtoken', b'caller', b'cached', b'bubblesortable', b'blob', b'bear', b'baz', b'batch', b'aval', b'appended', b'apache', b'anymore', b'answered', b'advise', b'accumulator', b'ab', b'xs', b'weeknum', b'webbrowser', b'water', b'viewfullsite', b'venitbrut', b'varchar', b'unpack', b'unix', b'trim', b'tname', b'tcpclient', b'suspect', b'subtraction', b'subsequent', b'strs', b'spring', b'splitted', b'sol', b'slower', b'sin', b'signal', b'ships', b'shares', b'shall', b'servlet', b'serversocket', b'seller', b'scene', b'ret', b'respectively', b'resp', b'requested', b'relationship', b'regards', b'receives', b'reach', b'randomfrominterval', b'randint', b'pv', b'println', b'predefined', b'posted', b'postcode', b'planet', b'outputstream', b'oracle', b'oop', b'office', b'objimapindex', b'noun', b'north', b'nearest', b'mystring', b'myfile', b'moved', b'mouseeventargs', b'monthtitle', b'meet', b'lst', b'locate', b'linear', b'limited', b'keypressed', b'kb', b'jmenu', b'intersection', b'installation', b'indexing', b'implicit', b'handlers', b'gmt', b'getindex', b'gate', b'extremely', b'express', b'exchange', b'exams', b'euler', b'equality', b'eof', b'earth', b'distribution', b'detail', b'deposit', b'dependency', b'dependencies', b'deletes', b'datasource', b'currenttime', b'currentstate', b'correctanswers', b'consonant', b'considering', b'codec', b'cm', b'closes', b'cash', b'carry', b'cancel', b'buf', b'broadcast', b'bring', b'bound', b'bmp', b'benefit', b'bean', b'backup', b'axes', b'attach', b'argv', b'anchor', b'alt', b'alist', b'addr', b'ad', b'activecities', b'acceptable', b'zeros', b'worksheet', b'whitespace', b'wanting', b'vessel', b'vertices', b'verbose', b'userscore', b'unmanaged', b'ulong', b'turned', b'treenode', b'translator', b'tiles', b'temparray', b'tea', b'tcp', b'tahoma', b'subclasses', b'stumped', b'study', b'stopping', b'startup', b'stands', b'squares', b'squareid', b'sqldatareader', b'spear', b'slice', b'six', b'simplify', b'shipping', b'separately', b'selenium', b'selects', b'segment', b'sampledto', b'safari', b'rolls', b'reuse', b'retrieving', b'repeatedly', b'rename', b'remain', b'registered', b'redirects', b'ram', b'raised', b'purposes', b'profile', b'prizes', b'presses', b'pixels', b'pieces', b'picturebox', b'picks', b'park', b'parentheses', b'outputting', b'optimize', b'opposed', b'opacity', b'occurrences', b'notification', b'newval', b'mysqlconnection', b'myphrase', b'msdn', b'mouseover', b'mot', b'mismatch', b'minus', b'meant', b'matchstick', b'lorem', b'listitem', b'likes', b'keeping', b'journal', b'interactive', b'insufficient', b'inputid', b'inline', b'indexes', b'indentation', b'hotspot', b'holding', b'highly', b'highlight', b'hack', b'guidance', b'getwidth', b'generation', b'gameobject', b'ftp', b'frequent', b'fr', b'floor', b'floats', b'film', b'february', b'familiar', b'facebook', b'face', b'explicit', b'exiting', b'executable', b'epoch', b'emp', b'ebdata', b'dy', b'dst', b'dropdownlist', b'dlls', b'didnt', b'detected', b'despite', b'designing', b'depends', b'dec', b'dealing', b'datestring', b'datagrid', b'dashes', b'currentline', b'ctrl', b'ct', b'corner', b'cookies', b'contract', b'cont', b'consists', b'connecting', b'closest', b'classb', b'choosing', b'caught', b'candidate', b'bytearrayinputstream', b'bval', b'bla', b'attempted', b'asynchronous', b'assignments', b'animals', b'anaconda', b'album', b'accurate', b'york', b'xelement', b'writeline', b'withdraw', b'wise', b'winforms', b'wednesday', b'wed', b'webrequest', b'verdieping', b'varies', b'upto', b'universal', b'units', b'totalsentiment', b'totalseconds', b'tie', b'tc', b'tamagotchi', b'suits', b'studentid', b'stringtokenizer', b'stones', b'stocks', b'ssh', b'sr', b'sp', b'sn', b'shutting', b'shorter', b'setimage', b'setdefaultcloseoperation', b'seq', b'scrolling', b'savingsaccount', b'sat', b'rs', b'rounds', b'resolution', b'representing', b'remainder', b'reject', b'redirected', b'readline', b'readable', b'rb', b'puts', b'pulling', b'pseudo', b'propertyinfo', b'productname', b'prize', b'primitive', b'prev', b'pops', b'playerselection', b'platform', b'placeholder', b'pl', b'pizza', b'picking', b'phrases', b'pencil', b'patterns', b'paid', b'overrides', b'overlap', b'originally', b'orderid', b'oledbconnection', b'objecttype', b'numrows', b'notes', b'newstones', b'nav', b'myvariables', b'mozilla', b'movies', b'movement', b'mon', b'models', b'mirror', b'manner', b'loopcounter', b'logs', b'locations', b'locally', b'listeners', b'linenumber', b'linearnode', b'learned', b'leads', b'layer', b'launched', b'keydown', b'jerry', b'isnt', b'ipsum', b'ipaddress', b'interesting', b'intarray', b'inorder', b'innerhtml', b'initialise', b'incompatible', b'huidigeverdieping', b'hopefully', b'helping', b'heads', b'googling', b'generally', b'gemeente', b'geben', b'fs', b'fourth', b'formatvalue', b'foobar', b'flex', b'filtered', b'filetype', b'filelist', b'feed', b'fee', b'family', b'fade', b'expiry', b'epilogh', b'encryption', b'encode', b'emails', b'drow', b'divided', b'disposing', b'differentiate', b'die', b'dianotifica', b'dest', b'describe', b'den', b'definitions', b'deep', b'decorator', b'dead', b'currentdate', b'credits', b'cos', b'constantly', b'connections', b'computerselection', b'compound', b'compares', b'collect', b'clickedcell', b'clause', b'clarification', b'cities', b'chunks', b'childrens', b'charset', b'cents', b'cart', b'caption', b'canceltoken', b'bytearrayoutputstream', b'breaks', b'bmi', b'blankpath', b'backend', b'assistance', b'assist', b'antall', b'anolimpeza', b'alphabet', b'zinyak', b'wich', b'viewmodel', b'videos', b'vary', b'vanilla', b'uppercase', b'uploading', b'unsigned', b'unsafe', b'trivial', b'transaction', b'touch', b'timerpartial', b'tied', b'throwable', b'threw', b'threshold', b'thousands', b'theimage', b'testobject', b'terminated', b'telephone', b'symbols', b'supplied', b'superclass', b'suitable', b'structures', b'stockcode', b'stating', b'startangle', b'stage', b'spp', b'splashscreen', b'songs', b'smatrix', b'slideindex', b'skipping', b'simplest', b'shorten', b'shop', b'setsize', b'serialization', b'seqgen', b'sep', b'sees', b'secondoperand', b'secondclass', b'rx', b'routedeventargs', b'rikishi', b'revenue', b'resultstring', b'replacement', b'repeatmenu', b'remains', b'regnumber', b'referencing', b'quesname', b'queries', b'props', b'practices', b'potential', b'pizzadiameter', b'performs', b'overwrites', b'overridden', b'overall', b'ordinal', b'numsum', b'nu', b'neighbours', b'near', b'mysqlcommand', b'morning', b'modification', b'miss', b'million', b'messing', b'messed', b'mat', b'mailto', b'logged', b'logfile', b'listing', b'linecount', b'le', b'lat', b'lab', b'knew', b'keyerror', b'june', b'jump', b'jaljira', b'invoking', b'instantiation', b'inspect', b'initcomponents', b'incrementing', b'inconsistent', b'incoming', b'ignoring', b'htmldocument', b'hrs', b'hover', b'hero', b'heady', b'headx', b'grateful', b'goodbye', b'gb', b'ga', b'fw', b'french', b'fos', b'formatter', b'fooobject', b'firstclass', b'finder', b'filling', b'feedback', b'extracted', b'extensions', b'eventobj', b'encounter', b'employeename', b'employeeid', b'employeedata', b'ele', b'editing', b'duplicated', b'doe', b'dob', b'dn', b'divisible', b'dividing', b'dis', b'devices', b'dev', b'degrees', b'decoded', b'decimals', b'daydate', b'dateformat', b'customerid', b'curly', b'cultureinfo', b'countries', b'core', b'cool', b'concrete', b'concatenation', b'clipboard', b'challenge', b'cells', b'bw', b'broker', b'broken', b'borrower', b'blocking', b'blankscript', b'beta', b'behave', b'beats', b'backgroundworker', b'aux', b'attachment', b'assettexture', b'ascending', b'articles', b'armor', b'april', b'approaches', b'apologize', b'alright', b'alice', b'abcd', b'zone', b'yesterday', b'xhr', b'worth', b'wheel', b'weekaverages', b'waits', b'volgendeverdieping', b'usercontrol', b'urn', b'upgrade', b'uniform', b'understood', b'twenty', b'trick', b'transparent', b'translation', b'timeuntilstart', b'theform', b'textboxes', b'testscores', b'ternary', b'targetcelllocation', b'systems', b'sugar', b'substrings', b'stresses', b'sth', b'stays', b'stat', b'star', b'spreadsheet', b'spam', b'sorts', b'somthing', b'smooth', b'slides', b'slicing', b'simulation', b'setvisible', b'settitle', b'setdata', b'seemed', b'secure', b'sdf', b'samples', b'salad', b'runscored', b'route', b'responsetime', b'renderfullsite', b'registrypathdata', b'redundant', b'realized', b'randomnumber', b'rabbit', b'quarters', b'pyshell', b'pycharm', b'progressbar', b'processor', b'printf', b'preserve', b'preferably', b'plane', b'plaintext', b'pie', b'physical', b'payout', b'parentid', b'parameterized', b'pad', b'overwritten', b'overload', b'outputformat', b'ordereddict', b'opinion', b'operating', b'ooblankbootcamp', b'oledb', b'oct', b'occurring', b'objarray', b'nt', b'noon', b'newvalue', b'newstring', b'newlist', b'newline', b'neat', b'navigation', b'mystr', b'myservice', b'myobj', b'myint', b'mycard', b'multiplying', b'moveplusattack', b'moveallowed', b'morse', b'mixed', b'mistakes', b'minmax', b'mess', b'meow', b'menus', b'mechanism', b'mdi', b'mb', b'manorlevel', b'macro', b'losing', b'loses', b'liftactieeventargs', b'lazy', b'latestproductvalue', b'keyreleased', b'keylist', b'kept', b'iterations', b'iterates', b'interpreted', b'interact', b'insertion', b'initializing', b'initializes', b'inherits', b'indoor', b'immutable', b'iis', b'hundreds', b'httpresponsemessage', b'heres', b'helped', b'heavy', b'hashtable', b'gson', b'grouping', b'gps', b'googled', b'getheight', b'geta', b'geometry', b'fullpath', b'fri', b'formdata', b'footer', b'flowlayout', b'firing', b'finishes', b'filesystemwatcher', b'feeling', b'faced', b'extended', b'experienced', b'exitbuttonhandler', b'ev', b'euro', b'est', b'es', b'entrycontenttable', b'elevator', b'ektopisma', b'ef', b'east', b'dowork', b'docx', b'disposed', b'discriminant', b'disc', b'differences', b'developers', b'developed', b'detects', b'designed', b'der', b'deployed', b'delimited', b'defines', b'decrypt', b'dayaverages', b'databag', b'dataarray', b'containers', b'construction', b'constructed', b'consisting', b'configure', b'computers', b'combining', b'clue', b'cleartimeout', b'clearemptyspace', b'clarify', b'citizen', b'circles', b'bytearray', b'buffered', b'btw', b'bought', b'bot', b'blankc', b'binarysearch', b'bet', b'belong', b'bellow', b'beautifulsoup', b'basics', b'bankaccount', b'backslash', b'avg', b'availablefeature', b'automatic', b'atm', b'assumed', b'assignmentstatuscode', b'arrival', b'arrayofdays', b'appearing', b'appeared', b'amounts', b'administrator', b'addeventlistener', b'absurd', b'xsd', b'wraps', b'windowbuttonhandler', b'willing', b'wachtrij', b'volumes', b'vmrolecapabilityitem', b'viewer', b'utility', b'updatesquare', b'unitprice', b'underscore', b'unclear', b'turnover', b'tue', b'tt', b'trees', b'towards', b'ton', b'timestep', b'ticket', b'tick', b'tic', b'thumbnail', b'throwonerror', b'threading', b'thousand', b'thereiswinner', b'thechar', b'thebuycommissionpercentage', b'temporary', b'tclass', b'tbody', b'targetdirectory', b'swatch', b'sumpath', b'sudoku', b'subsubsection', b'subscribe', b'subprocess', b'subfolders', b'subdirectory', b'story', b'stockname', b'stockid', b'statename', b'stacktrace', b'sqrt', b'sqlexception', b'splash', b'somewhat', b'slot', b'shuffled', b'showed', b'shortened', b'shoot', b'setvalue', b'setcookie', b'september', b'sensor', b'secondary', b'sealed', b'scrub', b'scorearray', b'science', b'schedule', b'sarah', b'sambornsiposssthra', b'ry', b'routine', b'rotation', b'roomtype', b'rnd', b'rights', b'richtextbox', b'rgame', b'retry', b'restarting', b'responsestring', b'resolving', b'repetition', b'rendered', b'removal', b'realdata', b'readfile', b'ratings', b'randomgreetings', b'que', b'purchased', b'profitamount', b'printstream', b'presented', b'preferred', b'pivot', b'phead', b'performing', b'percolation', b'pepper', b'pen', b'peace', b'paymentplan', b'pasted', b'partitioning', b'pane', b'pa', b'outputfile', b'outlook', b'outline', b'ounces', b'oriented', b'organize', b'orders', b'openfiledialog', b'ontario', b'ol', b'odds', b'observer', b'nummer', b'notify', b'nm', b'newnode', b'newarray', b'netwinning', b'myregistryclass', b'mypoint', b'myimage', b'myform', b'mvc', b'multisegmentbase', b'mp', b'mod', b'misvalue', b'methodname', b'messagebox', b'median', b'matcher', b'matched', b'masterlist', b'makemenuitem', b'mainclass', b'loan', b'lname', b'liftdirection', b'kw', b'kjedetmengde', b'keypress', b'jumbled', b'july', b'jugador', b'jsonobject', b'jpopupmenu', b'jpg', b'jdbc', b'iseferlistesi', b'io', b'invoice', b'interpret', b'indexoutofboundsexception', b'increasing', b'inc', b'illegal', b'ignorecase', b'idarray', b'humanscore', b'hooks', b'hitpoints', b'hints', b'heard', b'hear', b'gross', b'grades', b'goldbalance', b'getx', b'getclass', b'gconveyor', b'fv', b'fullscreen', b'fruits', b'frm', b'flags', b'fizz', b'fish', b'firstword', b'firstlist', b'filters', b'fills', b'fb', b'fallen', b'exponent', b'expensive', b'everywhere', b'evaluates', b'env', b'efficiency', b'effective', b'ea', b'duration', b'dowoffset', b'doors', b'doelverdieping', b'documented', b'displayname', b'discountcode', b'dimensional', b'deserialize', b'des', b'definitely', b'defense', b'defaults', b'decoding', b'declarations', b'december', b'dataentry', b'databytelength', b'curvalue', b'currpid', b'cube', b'cross', b'convention', b'consonants', b'connectionstring', b'confidencevalue', b'colorpicker', b'coffee', b'christmas', b'checkboolen', b'chapter', b'cas', b'capital', b'canexecute', b'brown', b'breaking', b'borrow', b'biginteger', b'betamount', b'bat', b'bars', b'backspace', b'autocomplete', b'assigns', b'arcangle', b'apartmentstate', b'annual', b'anarray', b'ambiguous', b'alter', b'alone', b'alif', b'aliases', b'affect', b'adres', b'addstudent', b'acts', b'activate', b'accountnumber', b'accepting', b'yourmpnow', b'yourmp', b'yearchoice', b'xhtml', b'wrappers', b'wrapped', b'worry', b'workbook', b'workaround', b'wikipedia', b'whilst', b'weights', b'weekly', b'webcam', b'wbhandler', b'vote', b'visit', b'violates', b'viewport', b'vid', b'verdiep', b'vectors', b'varying', b'usb', b'usa', b'uploads', b'unpacking', b'unionemployee', b'uninstall', b'underscores', b'um', b'uk', b'typical', b'tx', b'tup', b'tuesday', b'treat', b'toe', b'toarray', b'tn', b'timetaken', b'timesheet', b'timertask', b'ticks', b'thesellcommissionpercentage', b'tg', b'tf', b'texts', b'telling', b'tau', b'targets', b'tan', b'tabular', b'tabs', b'swdistaster', b'svorisesamas', b'svg', b'suppresswarnings', b'suggests', b'subtotal', b'subscriptable', b'structlayout', b'stroke', b'stringtoparametervaluevalue', b'stringtoparametervaluekey', b'stringtoparametervalueentry', b'straat', b'stmt', b'stick', b'stated', b'sqwidth', b'sqheight', b'spades', b'souls', b'somefunction', b'sl', b'sides', b'shots', b'shot', b'shortcut', b'shopping', b'shifting', b'servername', b'sentimentval', b'semtaken', b'sellprice', b'sectionname', b'sectionarray', b'scrape', b'sam', b'salesperson', b'runnernumberinorder', b'runner', b'rowid', b'rowcount', b'rootjson', b'retrieved', b'resume', b'reserved', b'researched', b'refactor', b'recording', b'react', b'ranks', b'rancho', b'ques', b'querytoselectshow', b'quantityofitemsold', b'qs', b'py', b'pushed', b'pu', b'pseudocode', b'proxies', b'providing', b'propertychanged', b'prompted', b'promises', b'projectfile', b'produced', b'proc', b'probability', b'predicate', b'precision', b'precedence', b'pow', b'posting', b'population', b'populating', b'pojo', b'pointf', b'placing', b'pickle', b'petowner', b'persons', b'performed', b'penny', b'particle', b'parametertype', b'overlapping', b'ot', b'optimization', b'operate', b'operands', b'onmouseover', b'onblur', b'nvarchar', b'november', b'nontabularvalue', b'newsndidx', b'newer', b'neighbor', b'nearly', b'ncorrect', b'natural', b'myvar', b'myline', b'multiprocessing', b'multiples', b'multidimensional', b'mousedown', b'mostly', b'morefriends', b'mit', b'militarytime', b'methodinvoker', b'messenger', b'mesnotifica', b'mengdeadt', b'measure', b'maze', b'maxdiv', b'maven', b'matrixreader', b'mapped', b'manual', b'mainly', b'mailer', b'lwz', b'lix', b'litersdisplaced', b'literals', b'literally', b'listoffiles', b'lion', b'lift', b'lettersguessed', b'legend', b'laps', b'land', b'keytyped', b'keystore', b'keylistener', b'keyboardinterrupt', b'jumpswitcher', b'jradiobutton', b'jet', b'jan', b'ix', b'itertools', b'isupper', b'isprime', b'isexpired', b'ios', b'introduction', b'intro', b'interaliterator', b'instantly', b'inputlength', b'inp', b'individually', b'indicating', b'indicates', b'indent', b'increases', b'iam', b'hundred', b'huisnummer', b'horsepower', b'hills', b'hierarchy', b'helvetica', b'held', b'hearts', b'guitar', b'guessletter', b'grosspay', b'greatest', b'github', b'getcolor', b'geoformen', b'geo', b'generics', b'gallons', b'fullbuttonhandler', b'fromuser', b'freq', b'fps', b'formats', b'fis', b'fillcolor', b'filesearch', b'fib', b'ffmpeg', b'fbhandler', b'fashion', b'failure', b'fa', b'expiration', b'excuse', b'exchangerate', b'errno', b'enterprise', b'enddate', b'empid', b'eliminate', b'elevation', b'einai', b'ebhandler', b'duplication', b'dumb', b'dropobject', b'dragging', b'downloads', b'displayvalue', b'dispatch', b'diecast', b'diagonal', b'determining', b'deletion', b'deadline', b'dateobj', b'dasipirktipakuociu', b'cup', b'cucamonga', b'cryptostream', b'critical', b'crane', b'cover', b'correspond', b'continuously', b'consumer', b'computernumber', b'colon', b'cls', b'cleanup', b'classic', b'cl', b'circular', b'cin', b'chino', b'checkcell', b'captcha', b'bytesread', b'buyprice', b'busnum', b'burger', b'buffercopy', b'bricks', b'booking', b'bloblist', b'birth', b'bills', b'beyond', b'besides', b'behaves', b'begins', b'beernum', b'beef', b'battleship', b'basis', b'avail', b'automation', b'automate', b'auth', b'audiosource', b'audiocodec', b'audi', b'asynchronously', b'associative', b'aspect', b'anonotifica', b'align', b'agenamed', b'ag', b'additionally', b'actionresult', b'ability', b'zeroes', b'yzzz', b'xy', b'wizard', b'windowevent', b'wide', b'weekstart', b'weeknumber', b'weekdays', b'webservice', b'webdriver', b'weakmap', b'warnings', b'voynich', b'videotype', b'vice', b'verified', b'venta', b'vendor', b'validationcontext', b'validating', b'usersclass', b'updatefirstname', b'union', b'uncheck', b'unboundlocalerror', b'uid', b'uf', b'tz', b'typhoid', b'typename', b'trough', b'troubles', b'tresult', b'treeset', b'traversing', b'translated', b'train', b'tracking', b'totalqty', b'totalmorango', b'totalmaca', b'tokenize', b'timearr', b'thursday', b'theshares', b'thelist', b'thecompany', b'testequipment', b'terminates', b'temppoint', b'technical', b'tagidnumber', b'tac', b'tableid', b'tablecell', b'ta', b'surface', b'sums', b'sumno', b'summ', b'sudo', b'submitting', b'stumbled', b'stringt', b'statistics', b'stand', b'sqlite', b'splits', b'somevalue', b'somemethod', b'sock', b'snum', b'smtp', b'slug', b'slightly', b'skips', b'skill', b'situations', b'simultaneously', b'showdialog', b'shortest', b'sf', b'settype', b'setthirdsplit', b'setname', b'serialversionuid', b'serialize', b'septembre', b'separators', b'sentiment', b'sell', b'seek', b'secs', b'secondnumber', b'secondaryint', b'scheduler', b'scheduled', b'sbi', b'salmonella', b'sake', b'rownum', b'roles', b'robot', b'road', b'rix', b'rewriting', b'revalidate', b'retrieves', b'respond', b'reservation', b'requestwork', b'repository', b'refreshing', b'refers', b'redo', b'recommended', b'recieve', b'rd', b'rates', b'radiobutton', b'quotient', b'quotation', b'quizzes', b'pylab', b'purchases', b'purchasedhome', b'purchasedapartment', b'projectionkey', b'projectile', b'programme', b'profitloss', b'processstartinfo', b'primaryint', b'priceincents', b'precise', b'pre', b'potentially', b'possibility', b'possibilities', b'portmux', b'populatefromfile', b'polynomial', b'polygon', b'plays', b'playeratk', b'piechart', b'pets', b'personid', b'personal', b'persist', b'performancecounter', b'pennies', b'payamt', b'passid', b'particularly', b'parses', b'parseexception', b'parenthesis', b'parcelistener', b'palette', b'paintcomponent', b'packcost', b'overhead', b'overcome', b'onchange', b'oledbdatareader', b'october', b'obstacle', b'obja', b'ob', b'numerous', b'numericexpression', b'numarr', b'nowhere', b'nov', b'notebook', b'nickels', b'nextspace', b'newtext', b'newdata', b'nesting', b'nenter', b'neighbors', b'navbar', b'namespaces', b'namely', b'myvariable', b'myresult', b'mymethod', b'mygrades', b'mygrade', b'multiplied', b'mpg', b'modifies', b'modifiers', b'modifier', b'mock', b'ml', b'minmpg', b'minimize', b'miliary', b'mie', b'middleindex', b'metric', b'meteodatapoint', b'merging', b'mcisendstring', b'maxval', b'maxmpg', b'matters', b'matchall', b'masterclass', b'manipulating', b'mainloop', b'lparam', b'loss', b'loca', b'loadstep', b'loader', b'lineexception', b'lengths', b'legacy', b'leg', b'ledge', b'led', b'leaves', b'leak', b'leaf', b'leader', b'laufzeit', b'latter', b'laenge', b'kinda', b'killed', b'ki', b'kgs', b'keysize', b'jurie', b'jupyter', b'jane', b'jack', b'iterated', b'iter', b'italian', b'isvalid', b'ispalindrome', b'isnumber', b'isempty', b'ipendpoint', b'involves', b'involved', b'investor', b'inverse', b'inumber', b'intervals', b'interleave', b'integrated', b'insertionsort', b'inject', b'indian', b'implementations', b'imageindex', b'imagearray', b'ihierarchicalentity', b'ifplayed', b'idunique', b'idictionary', b'ideal', b'homepage', b'hobby', b'hmwk', b'highlighted', b'hardware', b'haarcascade', b'gzip', b'guidelines', b'greetingsservice', b'gmail', b'glob', b'git', b'getweather', b'getpages', b'getid', b'getdirect', b'getdate', b'getdamage', b'george', b'gen', b'gemeentenaam', b'fzgh', b'fxml', b'funnet', b'functional', b'fsmstate', b'friendly', b'fp', b'forgive', b'forget', b'forever', b'foreign', b'football', b'foosubobject', b'fo', b'flush', b'flavor', b'fixing', b'firebug', b'fin', b'fifth', b'fg', b'ffffff', b'feet', b'fc', b'fastest', b'falls', b'fall', b'fake', b'extending', b'expose', b'expirydate', b'expenses', b'exp', b'exceeded', b'exampltte', b'evaluated', b'etos', b'et', b'er', b'entities', b'endings', b'employer', b'ellipsis', b'education', b'editable', b'drowranger', b'drivers', b'dns', b'dnode', b'dna', b'distinguish', b'discussion', b'dimes', b'dime', b'dictsearch', b'dic', b'descriptor', b'delimiters', b'delim', b'defaultdict', b'death', b'daysinmonth', b'dateandtime', b'dash', b'dao', b'cycles', b'cy', b'cur', b'ctx', b'crop', b'crawl', b'cpt', b'coords', b'contributes', b'continuous', b'consumed', b'constructing', b'confuses', b'conflict', b'confirmed', b'cone', b'computed', b'computation', b'complain', b'compatibility', b'comparisons', b'compareitem', b'communication', b'communicate', b'comfort', b'collide', b'cn', b'cleaned', b'cix', b'chinese', b'charges', b'charge', b'characterarray', b'chaining', b'celsius', b'cellarray', b'cday', b'cbsize', b'catalogue', b'carbean', b'cancelled', b'bundle', b'builder', b'budget', b'bs', b'bridge', b'breakpoint', b'bread', b'bracket', b'boundedcounter', b'borderlayout', b'boat', b'bmw', b'blocked', b'blist', b'blankfx', b'bill', b'biheight', b'bf', b'became', b'beach', b'banana', b'bag', b'awesome', b'avgtestscore', b'automotive', b'assertequals', b'assemblies', b'argumentexception', b'archive', b'arc', b'apps', b'approval', b'applicable', b'apples', b'appends', b'apikey', b'apartment', b'alphabets', b'alphabetical', b'ae', b'advanced', b'ads', b'actionsquare', b'acctno', b'accountid', b'accordingly', b'zipinputstream', b'yyyymmdd', b'yournpnow', b'yournp', b'yourhpnow', b'yourhp', b'xmlwriter', b'xmldocumentparser', b'xlsx', b'xls', b'xlist', b'writestreamheader', b'wparam', b'workinglist', b'wordtoguess', b'wordlist', b'wondered', b'windowed', b'whichresponse', b'weightedquickunionuf', b'webserver', b'voucher', b'voltage', b'voice', b'vix', b'visitor', b'visibility', b'versa', b'verdana', b'verb', b'vechile', b'variant', b'validates', b'userlist', b'userdata', b'usd', b'urlopen', b'urlconnection', b'updatefieldofview', b'unsuccessful', b'unity', b'underneath', b'und', b'un', b'typeresolver', b'triggers', b'triggering', b'trap', b'topicid', b'tomcat', b'timestamps', b'timeoutduration', b'timeclient', b'tilemapping', b'throught', b'threaded', b'thisthing', b'thirty', b'thinks', b'thesellprice', b'theory', b'thebuyprice', b'terminology', b'tempstring', b'tcpprotocol', b'tbr', b'tally', b'sylls', b'swing', b'sweet', b'supports', b'suite', b'suddenly', b'subdirs', b'subdirectories', b'strokecolor', b'straws', b'stopwatch', b'statetax', b'startat', b'stamp', b'srv', b'spinning', b'specifying', b'specification', b'spawn', b'spark', b'sometime', b'someclass', b'smith', b'smart', b'slashes', b'slash', b'skafous', b'sites', b'sit', b'simulates', b'simplicity', b'signup', b'shuffler', b'sharing', b'servletexception', b'selectedbutton', b'secondword', b'sdk', b'scp', b'scorer', b'schema', b'scanning', b'savings', b'saves', b'saturday', b'satisfied', b'sans', b'rowoftri', b'rowindex', b'rolling', b'rogue', b'rk', b'reversing', b'resultfile', b'resulted', b'restrict', b'requiring', b'requestanimationframe', b'reproduce', b'removepunctuation', b'reloading', b'relevance', b'released', b'regard', b'reg', b'redfactor', b'recreate', b'recommend', b'receiver', b'readbytes', b'rbquarters', b'rbpennies', b'rbnickels', b'rbdimes', b'randomizer', b'randomize', b'rack', b'qwasdasdasde', b'pyramide', b'pwd', b'purge', b'pulled', b'pt', b'prototypes', b'protocol', b'propertyname', b'productivity', b'processdata', b'pro', b'printservice', b'prevents', b'prediction', b'practical', b'pr', b'pprint', b'positional', b'ports', b'portdatastate', b'polymorphism', b'pointing', b'pointed', b'pointcolor', b'plotting', b'playlist', b'playercards', b'played', b'plaintextbytes', b'pidh', b'pet', b'permissionsrequest', b'pending', b'pe', b'payments', b'pathnumber', b'pasting', b'partially', b'parentdetail', b'paperid', b'pagination', b'pagestovisit', b'overloading', b'outputline', b'outcomes', b'oserror', b'origin', b'orderby', b'ops', b'opp', b'omitted', b'oledbdataadapter', b'oh', b'official', b'offense', b'octobre', b'objectmapper', b'nxt', b'numofwins', b'nucleotide', b'ntext', b'nplease', b'novice', b'normalize', b'nonhpbase', b'nombre', b'nom', b'noise', b'nofollow', b'nodelist', b'nobody', b'nim', b'ni', b'nextline', b'newrow', b'nest', b'myinput', b'myinitobj', b'myiframe', b'mydict', b'mydata', b'myarr', b'mult', b'mstudent', b'mouseup', b'moniquethumbs', b'mins', b'minimized', b'minimal', b'mime', b'methodou', b'messagepack', b'menuoption', b'md', b'mcvavgcomp', b'maxdiminch', b'matrixval', b'matlab', b'mathematical', b'matchsticks', b'markdown', b'mana', b'maininterface', b'mainformappearance', b'mailaddress', b'mai', b'lr', b'logo', b'localdatetime', b'liters', b'listitems', b'listening', b'lettergrade', b'lbs', b'lbl', b'lastplaytime', b'laptop', b'laptime', b'lang', b'lan', b'konto', b'junk', b'jscrollpane', b'jmenubar', b'jean', b'jars', b'islower', b'islands', b'isin', b'ipnetwork', b'ioe', b'intrandomnum', b'interaction', b'instructor', b'instant', b'inputlink', b'inheriting', b'ingredients', b'infinity', b'inf', b'indeed', b'increased', b'incorporate', b'importerror', b'imgcount', b'imagedata', b'iglobal', b'idnumber', b'icici', b'iblank', b'htmlstr', b'hourly', b'horse', b'hometeam', b'holiday', b'holder', b'heart', b'hardcode', b'hands', b'gzipbuffer', b'gun', b'groupbox', b'gridlayout', b'grey', b'greeting', b'gravity', b'graphical', b'graphclient', b'graded', b'grabs', b'glass', b'givenposition', b'gf', b'gety', b'getinfo', b'gethitpoints', b'generators', b'gc', b'garam', b'gameover', b'fsmsystem', b'fromdate', b'forum', b'forgot', b'fly', b'floating', b'flights', b'flexible', b'fixes', b'finddiscriminant', b'filtering', b'filein', b'fid', b'fetching', b'feels', b'famous', b'fair', b'externally', b'explaining', b'existence', b'excludesubjectidincheck', b'excellent', b'evaluating', b'errorjs', b'eq', b'enhanced', b'enforce', b'enemyatk', b'endresult', b'emit', b'elevators', b'eir', b'effectively', b'edition', b'eat', b'early', b'dummy', b'drone', b'drink', b'drawn', b'dos', b'dogname', b'doesnot', b'dividend', b'distribute', b'discover', b'directive', b'dicts', b'diamonds', b'determines', b'destwidth', b'destheight', b'descending', b'deploy', b'departure', b'deeply', b'decrement', b'deckinplay', b'ddquantity', b'ddd', b'daylist', b'dateparts', b'datavalue', b'dataitem', b'dataframes', b'das', b'damount', b'cx', b'customerinstance', b'curscene', b'currentslide', b'curhr', b'csvline', b'cruise', b'cr', b'covers', b'costs', b'corresponds', b'correctname', b'coord', b'convenient', b'continuing', b'contactform', b'consumes', b'consul', b'consistent', b'consist', b'connstring', b'confuse', b'conditionals', b'concise', b'compress', b'complexity', b'compact', b'community', b'commission', b'collapsed', b'cokemon', b'coefficient', b'co', b'clv', b'clubs', b'clr', b'cloud', b'clockdritf', b'clears', b'clearing', b'classroom', b'classnotfoundexception', b'clarity', b'ciphertext', b'cid', b'choosen', b'charsequence', b'channel', b'centery', b'centerx', b'caps', b'capitalized', b'camera', b'calcost', b'cal', b'busname', b'buff', b'brings', b'branch', b'braces', b'bp', b'boxheight', b'boot', b'boosterlevel', b'bod', b'boardid', b'blopp', b'births', b'bindingsource', b'bindeventhandlers', b'biggest', b'bid', b'bgr', b'benefits', b'belongs', b'behaving', b'barcode', b'banner', b'awayteam', b'auslagen', b'attributeusage', b'attr', b'atk', b'assertion', b'assemblyresolver', b'aside', b'arrayindexoutofboundsexception', b'armstrong', b'applet', b'annualinterestrate', b'alternatives', b'altered', b'alphanumeric', b'alphabetic', b'alot', b'algorithms', b'al', b'aim', b'afternoon', b'affecting', b'adress', b'adjective', b'activex', b'actionnumber', b'accuracy', b'accomplished', b'accesslevel', b'absurdity', b'abbreviation', b'aan', b'zu', b'zipped', b'zabar', b'yn', b'xtrascheduler', b'xmlns', b'xmlelement', b'writable', b'wrapping', b'workingdirectory', b'withdrawalamount', b'winning', b'winform', b'william', b'websocket', b'webproxy', b'webmethod', b'weaponslots', b'wb', b'waithandle', b'vx', b'vonmises', b'viewed', b'vertically', b'verifier', b'vb', b'variations', b'valueg', b'validity', b'utilizing', b'utilize', b'usual', b'usernumber', b'useless', b'usecapture', b'usages', b'unvalid', b'unresolved', b'universe', b'united', b'uni', b'uname', b'ultimately', b'twitter', b'tweak', b'tvalue', b'ttime', b'ts', b'trip', b'travel', b'transport', b'translates', b'transitionend', b'trailing', b'totalprice', b'totalcontribution', b'toss', b'topics', b'topframe', b'tooltip', b'tofu', b'toconvert', b'tocitem', b'timediff', b'timed', b'tim', b'ties', b'thu', b'thru', b'thirdword', b'theme', b'thekey', b'theaverage', b'tfstatement', b'tfidf', b'textbook', b'testfile', b'testclass', b'terrain', b'teller', b'teardown', b'teams', b'teach', b'tbluser', b'talk', b'synonyms', b'symulacja', b'sydney', b'swapping', b'surveys', b'survey', b'surprise', b'surnames', b'sumneu', b'subsequences', b'subsection', b'subscriber', b'subjects', b'struggled', b'stringproperty', b'strike', b'streamgobbler', b'strdate', b'stopper', b'sting', b'stime', b'steve', b'stdout', b'startnode', b'startloop', b'stackmark', b'stackcrawlmark', b'sslerror', b'ssl', b'srchvlu', b'spock', b'spn', b'spinner', b'spin', b'spelling', b'specialpoints', b'spanish', b'sourcefile', b'soup', b'sortencrypt', b'social', b'snippets', b'sms', b'smessage', b'smallestnoproduct', b'slotcounter', b'slideshow', b'skipped', b'skillset', b'skeleton', b'simplecv', b'shut', b'shelf', b'sharequestionbuy', b'setprice', b'servicecard', b'serves', b'serveradapter', b'sendtabletoexport', b'sellerimpl', b'selectitem', b'selections', b'selectedindex', b'secretword', b'searchtxt', b'scrolls', b'scored', b'scenarios', b'sccm', b'sbyte', b'savefiledialog', b'runtimeexception', b'rsquo', b'routines', b'roleid', b'rijndaelmanaged', b'retval', b'returnval', b'resulthtml', b'restored', b'restore', b'responsible', b'respect', b'resetimage', b'requestmapping', b'reqsummoner', b'reports', b'reduced', b'recurse', b'recieved', b'recid', b'receivedat', b'receipt', b'recall', b'realise', b'realargs', b'readtextfile', b'readsource', b'readers', b'randomrange', b'randomno', b'randomiser', b'randomgen', b'raises', b'quser', b'quoted', b'pygame', b'pworkingset', b'purchaseamount', b'pulls', b'puk', b'publickey', b'ptr', b'psinformat', b'proposed', b'prompting', b'programatically', b'producing', b'processbuilder', b'proceeds', b'problematic', b'printtree', b'principle', b'primes', b'preserving', b'practicing', b'powers', b'popen', b'ponto', b'polyline', b'poll', b'pointhighlightstroke', b'plz', b'playback', b'playagain', b'platforms', b'phonenum', b'pg', b'pear', b'pcwins', b'pcchoice', b'pb', b'patrick', b'patient', b'pathname', b'passwordderivebytes', b'passphrase', b'partofspeech', b'para', b'par', b'packs', b'ownername', b'overview', b'overly', b'ou', b'otag', b'oracledataadapter', b'oracleconnection', b'oraclecommand', b'optimal', b'operatortext', b'opera', b'oops', b'onoma', b'onejan', b'omni', b'occurence', b'obsolete', b'observable', b'objimap', b'oa', b'nv', b'numofq', b'numberonshelf', b'numbered', b'nuget', b'ntlm', b'ntlathos', b'nthe', b'nquestions', b'nose', b'nonetype', b'nodec', b'nitin', b'nicht', b'nexte', b'news', b'newnum', b'newemail', b'newdate', b'networkstream', b'nerror', b'neg', b'nday', b'naming', b'myurl', b'myprogram', b'myglobals', b'mydelayedinitfunc', b'mycontacts', b'mybutton', b'mvvm', b'mutex', b'multithreading', b'multiline', b'mr', b'moviesrc', b'mount', b'monthlyrate', b'monthlypayment', b'mods', b'modifications', b'mobilenumber', b'mnemonic', b'misdirty', b'miniplayer', b'mini', b'mileage', b'mile', b'mike', b'midpoint', b'metrics', b'merged', b'menuitem', b'mentions', b'meat', b'meal', b'mdn', b'mconfiguration', b'mc', b'mbox', b'maths', b'mary', b'marshalas', b'marker', b'maker', b'maintenance', b'mainframe', b'mailing', b'magnifier', b'luxury', b'lumberpiece', b'lu', b'lp', b'lon', b'locked', b'localtime', b'localstorage', b'lizard', b'linking', b'limits', b'levelnumber', b'letra', b'leo', b'lengthy', b'lenght', b'legal', b'leftvalue', b'leftmost', b'leet', b'leaving', b'learnt', b'launching', b'lastpos', b'ktrans', b'ks', b'kilograms', b'kids', b'kid', b'keypair', b'keybytes', b'jython', b'jsonstr', b'jsonnode', b'jsonfactory', b'jqxgrid', b'jpeg', b'journey', b'joueur', b'jonah', b'joined', b'jobkey', b'jfx', b'jcombobox', b'itime', b'isfirst', b'ischecked', b'ipaddr', b'inverted', b'invalidageexception', b'intval', b'intlist', b'interview', b'interrior', b'interpolation', b'internally', b'intensity', b'integrate', b'instreampic', b'instantiating', b'installer', b'inputurl', b'inputstring', b'inputpath', b'inputmismatchexception', b'initvectorbytes', b'initiate', b'initchart', b'informations', b'indentlevel', b'inclusive', b'inbox', b'improving', b'improved', b'immutability', b'imaginary', b'illustrates', b'ignores', b'idisposable', b'ibaseinterface', b'ia', b'huh', b'hugeinteger', b'httpservletresponse', b'httppost', b'httpclient', b'htmllielement', b'htmlencode', b'howmany', b'housing', b'hotkey', b'hosts', b'honestly', b'hls', b'hkd', b'highestindex', b'het', b'heights', b'hasvalidlocation', b'hashes', b'happended', b'hangmangame', b'handsize', b'hall', b'gwidth', b'guy', b'guinea', b'guaranteed', b'grows', b'gridbaglayout', b'grect', b'granted', b'graduation', b'grabbing', b'goblin', b'gincard', b'gettable', b'getresponse', b'getrecursiveurls', b'getmethod', b'getinput', b'gethour', b'german', b'genericthing', b'gathering', b'gather', b'gateway', b'gametype', b'gamestatemanager', b'gainnode', b'gain', b'furl', b'fstream', b'fromserver', b'friday', b'freezes', b'fredsel', b'framewidth', b'frames', b'frameheight', b'foundit', b'formatcounter', b'forgjenger', b'ford', b'forcing', b'forces', b'forced', b'fog', b'flip', b'flashcards', b'fits', b'findtarget', b'findfactors', b'fight', b'fieldofview', b'fh', b'federaltax', b'fastdebug', b'fahrenheit', b'eye', b'extendedclass', b'explore', b'expectedcondition', b'excluding', b'excercise', b'everyvar', b'evenly', b'evaluation', b'etime', b'especies', b'errands', b'epilogi', b'entrypassword', b'engineer', b'enemigo', b'endgame', b'encodingparameters', b'encodedkey', b'enclosing', b'employercontribution', b'employeecontribution', b'emoji', b'elems', b'elemnt', b'electron', b'eisagete', b'eggs', b'eeee', b'ed', b'ease', b'earthisspinning', b'dues', b'druecken', b'driving', b'doubled', b'dolor', b'dogs', b'documentpath', b'dm', b'dl', b'divisors', b'distributed', b'displaytime', b'displaystring', b'disbursal', b'directed', b'diagram', b'di', b'dex', b'deva', b'determined', b'detecting', b'derivation', b'dequeue', b'depositamount', b'denotes', b'denominator', b'delegates', b'deepcopy', b'deducere', b'decrease', b'ddhsimpleprogram', b'dddd', b'dclass', b'dbservice', b'dayofweek', b'dayofmonth', b'david', b'datalist', b'databaseconnectionstring', b'cval', b'customclass', b'custage', b'currenttext', b'currentnode', b'currencyexchange', b'curiosity', b'csiinv', b'credithrs', b'credit', b'crashed', b'coursetype', b'couldnt', b'correctanswer', b'cords', b'cookbook', b'contribution', b'contiguous', b'contenido', b'consumers', b'consolidate', b'connector', b'confirmation', b'configured', b'concern', b'concepts', b'computes', b'composed', b'combined', b'colorvalue', b'colorarray', b'collector', b'collected', b'closures', b'clientid', b'classchoice', b'citystatezip', b'citiestext', b'ciphertextbytes', b'chksport', b'chk', b'childnode', b'chess', b'cheers', b'checklist', b'checkletter', b'checker', b'checkcashregister', b'charging', b'charat', b'chararray', b'channellevels', b'changeposition', b'changeloop', b'changeimg', b'cellposition', b'ccc', b'cardsinhand', b'cardid', b'capable', b'candies', b'cameraray', b'callmodality', b'cage', b'caching', b'bvalid', b'builtin', b'buildings', b'bufferedinputstream', b'bubblesort', b'bubble', b'btndamageinvoiceshow', b'broadcastreceiver', b'breite', b'brain', b'bottle', b'boss', b'bordercolor', b'bookdetailsbean', b'bitvecexpr', b'bitmaps', b'bindingflags', b'binder', b'billnum', b'bijwerken', b'beneath', b'basetype', b'baker', b'backwards', b'azimuth', b'aws', b'avoiding', b'averagegrade', b'autoradiosystem', b'august', b'audiostream', b'attention', b'attaching', b'ate', b'assumption', b'ashwid', b'asd', b'art', b'arrows', b'arraysize', b'arraylength', b'appsettings', b'applying', b'appid', b'apparent', b'apologies', b'apiclient', b'anzahl', b'annoying', b'analyze', b'analyser', b'ampm', b'amountreceived', b'among', b'amet', b'amazing', b'alertshow', b'agreement', b'agility', b'africa', b'adventurer', b'adventure', b'addseconds', b'addresstype', b'activexobject', b'achar', b'abutton', b'absolutely', b'abort', b'abe', b'zoneddatetime', b'zipfile', b'zinssatz', b'zd', b'zair', b'yourpsinow', b'yourpsi', b'yields', b'xxxx', b'xsl', b'xn', b'xmlsolverconfigurer', b'xmlserializer', b'xmldata', b'xd', b'wynik', b'wsdl', b'wrongly', b'writenewline', b'wrds', b'wrappedlist', b'wordt', b'womans', b'windowid', b'wildcard', b'wid', b'wherein', b'wheels', b'wheelcount', b'wawoo', b'wave', b'watermelon', b'watching', b'warrantyfeaturesvm', b'walls', b'waitsecondoperand', b'wa', b'vy', b'vrm', b'voornaam', b'von', b'volgende', b'volatile', b'vmax', b'vetora', b'verifying', b'verbot', b'vending', b'vcard', b'vars', b'vara', b'valueoftype', b'valuef', b'validationresult', b'vailid', b'uuid', b'util', b'userwithdomain', b'userwins', b'userinputs', b'userimage', b'usercarlist', b'urlsnarf', b'uploadbox', b'upgraded', b'updatedisplay', b'unzip', b'unwanted', b'unused', b'unreachable', b'unordered', b'university', b'unitcheckbox', b'unchanged', b'unbound', b'unavailable', b'txtbox', b'twilio', b'ttarget', b'tst', b'tsource', b'tsdispatch', b'tryparse', b'truncated', b'truncate', b'triples', b'treats', b'traversal', b'travelfeaturesvm', b'trapezoid', b'transforms', b'transendeventnames', b'trainer', b'tracklengthinsec', b'trackid', b'tough', b'totalpayment', b'tot', b'toreturn', b'tolowercase', b'todotext', b'todate', b'tl', b'tkey', b'tired', b'tictactoe', b'thisdir', b'thirdclass', b'theres', b'theprofit', b'theargs', b'texttowrite', b'textract', b'testobj', b'testimonial', b'testcasedata', b'terminator', b'templist', b'tempfile', b'techniques', b'tcol', b'tblrow', b'taxdetails', b'tariff', b'targetdate', b'tall', b'tails', b'tackle', b'tableissues', b'tabelldr', b'tabel', b'syntactically', b'syncmode', b'synchronous', b'sync', b'sy', b'switching', b'surprisingly', b'supporting', b'sumofdigits', b'summoner', b'sumarray', b'suicide', b'suffix', b'sudden', b'succesfully', b'substr', b'substitute', b'subsets', b'subsequence', b'submitbutton', b'submission', b'subdomain', b'strx', b'structured', b'strftime', b'strfound', b'street', b'strawsnumber', b'strategies', b'strangely', b'strandsort', b'stearyl', b'statut', b'stathread', b'starttag', b'startlift', b'startidx', b'stars', b'standalone', b'sqdepth', b'spit', b'spending', b'speak', b'spammer', b'songduration', b'somefun', b'solver', b'solidbrush', b'soccer', b'sneak', b'sname', b'snakex', b'smtpserver', b'smarter', b'smalln', b'sline', b'slight', b'skaiciuokle', b'singleinstanceapp', b'sing', b'simpletimeclient', b'signatures', b'showwindowcommand', b'showwindow', b'shifts', b'shellexecute', b'sharp', b'shapes', b'sfilename', b'seven', b'setslide', b'setsamplevalueat', b'setlayout', b'setfirstsplit', b'setenabled', b'setdate', b'setattr', b'sessionfactory', b'servletcontext', b'serverproperties', b'serverport', b'serverconnection', b'serif', b'serialized', b'sequentially', b'sequential', b'sequencelength', b'seperated', b'separating', b'sensitive', b'semicolon', b'semester', b'selectlist', b'selectedoperator', b'selecteddamages', b'selectedcoursetype', b'sel', b'segoe', b'seekbar', b'seed', b'searchengine', b'scrolltop', b'scrollpane', b'scripting', b'scoring', b'scoreboard', b'schraube', b'schelle', b'scannermethod', b'scaled', b'scalar', b'saunf', b'satisfies', b'sansar', b'sandwhich', b'samplevalue', b'salesinfo', b'safety', b'rword', b'rv', b'runvars', b'rt', b'rssi', b'rsrq', b'rsa', b'rover', b'roundpacks', b'rooms', b'roomnum', b'robocopy', b'rnumber', b'rloading', b'ridx', b'rfid', b'returnvalue', b'retries', b'retain', b'restriction', b'restarted', b'responds', b'resets', b'reserve', b'requestor', b'requestdata', b'reporting', b'repetitions', b'removeterm', b'remind', b'registering', b'refreshtoken', b'reflect', b'referred', b'reducing', b'recs', b'recognition', b'reasonable', b'rear', b'realsubject', b'reality', b'readpoint', b'readinput', b'readcookie', b'rdr', b'rc', b'rbfresh', b'ranges', b'randomsecretphrase', b'randomcolor', b'randomamount', b'randflag', b'race', b'queryparameters', b'quanity', b'quadraticformula', b'qarray', b'pyramid', b'pw', b'puzzle', b'punc', b'publish', b'protection', b'propertychangedeventargs', b'proof', b'programmed', b'professor', b'processors', b'prob', b'prism', b'printfilesin', b'pricearray', b'preview', b'pretend', b'prepare', b'preference', b'predict', b'precondition', b'prawy', b'pp', b'powtwo', b'possvals', b'posofdot', b'positioninms', b'portable', b'porreader', b'pork', b'popupcontact', b'polyfill', b'pnum', b'plugins', b'pltoolbox', b'pls', b'playeranswer', b'planning', b'pinpad', b'pig', b'phrasesframe', b'phonebook', b'philip', b'philadelphia', b'persoon', b'permutations', b'permutation', b'peach', b'passwort', b'parodykarreikiadarpirkti', b'painted', b'pai', b'padded', b'packaging', b'overtime', b'overlooking', b'outstream', b'outs', b'outputfilename', b'otherden', b'osx', b'origine', b'originalsongduration', b'openjdk', b'openfile', b'opbounds', b'onpropertychanged', b'oncreate', b'omit', b'offers', b'oder', b'octets', b'objecttest', b'nword', b'numwatermelon', b'numpets', b'numonions', b'numofties', b'numoflosses', b'nummushrooms', b'numericupdown', b'numeral', b'numelements', b'numcookies', b'numcalc', b'numbgues', b'numbervisited', b'numberoflines', b'numbermanipulation', b'numberdays', b'nullreferenceexception', b'nueva', b'nsmgr', b'npercent', b'np', b'notepad', b'notelinkdetail', b'normalizediscountcode', b'normalized', b'nooftickets', b'nomtable', b'nnumber', b'nmin', b'nledgers', b'ninja', b'nincorrect', b'nicholas', b'nicebicycle', b'nfs', b'nexttask', b'nextarg', b'newsnd', b'newprice', b'newposition', b'newpayment', b'newframe', b'newest', b'newdir', b'newcolor', b'newbuff', b'networkcredential', b'netsalary', b'nestedlist', b'neighboring', b'ndx', b'nconversion', b'ncode', b'navigating', b'nature', b'naturally', b'narrowed', b'nameinlib', b'naar', b'naam', b'mysum', b'myslides', b'myfont', b'myevent', b'myconnection', b'mychar', b'mycalhash', b'mycalendar', b'myaverage', b'mvf', b'msgreverse', b'mrs', b'mqttexception', b'mph', b'mouth', b'mouselistener', b'mouseinput', b'motorizedvehicle', b'motor', b'motion', b'mongodb', b'modulename', b'modern', b'mobilecad', b'mix', b'misunderstood', b'mirch', b'minecraft', b'mimagemagnifiermaincontrolpanel', b'millions', b'milk', b'midwest', b'miceage', b'mh', b'methi', b'metfital', b'messageprovider', b'menustate', b'memorycache', b'mem', b'meets', b'mccormick', b'maxy', b'maxx', b'maxima', b'maxid', b'matthew', b'matrices', b'material', b'massive', b'mass', b'maritalstatus', b'mapper', b'mappeduploadpath', b'mans', b'manor', b'manhattan', b'mango', b'mamatorial', b'malformedurlexception', b'mainmenu', b'mainimage', b'mailsender', b'magically', b'magenta', b'macos', b'lowesttemp', b'lowestindex', b'loopcar', b'lookups', b'lonely', b'logon', b'loginpojo', b'loginid', b'logically', b'loghpcalc', b'loadarray', b'literalcontrol', b'listobjects', b'lista', b'linkedhashmap', b'lineid', b'linearr', b'lightmode', b'lidx', b'licensenumber', b'lf', b'lewy', b'leveltwo', b'levelthree', b'levelone', b'levelid', b'letting', b'lemon', b'legs', b'leetcode', b'lecture', b'leastcount', b'lc', b'layers', b'lastvalue', b'kvalue', b'kronosdatetime', b'kreis', b'knowledgebase', b'knight', b'killing', b'kick', b'keyeventargs', b'kenny', b'keeprunning', b'kale', b'jupiter', b'junit', b'jun', b'jumble', b'judge', b'jtabbedpane', b'jsonp', b'jprogressbar', b'joining', b'joinedarea', b'joba', b'jfc', b'jf', b'james', b'jackson', b'itr', b'itemprice', b'itemcode', b'issuetype', b'isset', b'isopen', b'isfull', b'iseven', b'isender', b'iscorrect', b'ischeckedradio', b'ischeckedcheckbox', b'irc', b'iproptemplate', b'intusernum', b'inttime', b'introduced', b'intercept', b'intention', b'intelligence', b'institution', b'insertelement', b'inputfileupload', b'innerthread', b'innerloopflag', b'initializers', b'indoubletap', b'indexer', b'increments', b'inconnu', b'incase', b'importantly', b'immediate', b'imessageprovider', b'imagepanel', b'iii', b'idiomatic', b'identifying', b'identifiers', b'icomparer', b'ice', b'hwktotal', b'humidity', b'hugearray', b'httpservletrequest', b'httpresponse', b'htmlweb', b'hotel', b'hook', b'hitting', b'hill', b'hhhh', b'hgen', b'hexy', b'hexx', b'hasownproperty', b'hashing', b'hardcoded', b'hang', b'handshake', b'halfheight', b'gymmembership', b'guessremaining', b'gsm', b'ground', b'greetings', b'grasp', b'grapes', b'gr', b'googletrans', b'gobj', b'globalvariables', b'gladstoine', b'ginger', b'gggg', b'getscore', b'getresource', b'getrandomint', b'getoperand', b'geting', b'gethealth', b'getfiles', b'getemail', b'getelementbyid', b'getday', b'generatefnos', b'gcc', b'garden', b'gameplay', b'gameentry', b'gama', b'gallery', b'furthermore', b'funny', b'fuelconsumed', b'fstab', b'friendnames', b'fresh', b'frequently', b'freecodecamp', b'fraction', b'forums', b'formating', b'formatexception', b'formal', b'foomapper', b'fooid', b'foodto', b'fonts', b'fm', b'flstatusbar', b'flexibility', b'flaw', b'flash', b'firstimage', b'firstarray', b'filmlist', b'fileupload', b'filetocheck', b'filesystemeventhandler', b'filestore', b'filenum', b'fifteen', b'fieldset', b'fi', b'fed', b'feb', b'fatal', b'fare', b'fallback', b'faces', b'expsecs', b'expr', b'exponential', b'explanations', b'experimenting', b'expects', b'expand', b'excute', b'examtotal', b'everybody', b'eventname', b'evade', b'eur', b'ettercap', b'established', b'errorfoundflag', b'equations', b'enumerable', b'enemycount', b'endtag', b'encryptor', b'encounters', b'encountering', b'encapsulation', b'emergency', b'embedding', b'emailexists', b'emailaddress', b'em', b'elsewhere', b'electronicdevice', b'eight', b'egg', b'ec', b'ebpub', b'eachentrydate', b'dxid', b'dwest', b'duck', b'dtmf', b'dtable', b'dsouth', b'drawntf', b'drawbox', b'dp', b'doworkeventargs', b'dowhile', b'doubts', b'doubly', b'domcontentloaded', b'domainname', b'documentbytes', b'dnorth', b'django', b'divisioncollection', b'discovered', b'disappears', b'disabling', b'directoryfile', b'directions', b'dimentions', b'diffrent', b'differential', b'differ', b'dicetotal', b'dfield', b'detective', b'detailed', b'destroy', b'designation', b'designated', b'descriptions', b'depend', b'deleteelement', b'defensa', b'defaultlistmodel', b'decreasing', b'decompress', b'decksize', b'deast', b'dealer', b'dc', b'dbconn', b'dayspermonth', b'dayposted', b'dayarray', b'dave', b'datetimeoffset', b'datestr', b'datemdft', b'datechangeeventargs', b'dataview', b'dataobject', b'datamember', b'daemon', b'cycling', b'cyan', b'cv', b'customtablecellrenderer', b'customize', b'customertype', b'customername', b'custmonths', b'currentvaluelength', b'currentimage', b'csharp', b'creator', b'createnewfile', b'cream', b'crazy', b'crawler', b'covert', b'correctletters', b'corpus', b'copyright', b'conversions', b'conventional', b'convenience', b'continually', b'contextlib', b'contentstring', b'consumption', b'constraints', b'constraint', b'cons', b'connects', b'congratulations', b'congratulation', b'configuring', b'concerns', b'concerned', b'concatenating', b'compressed', b'completion', b'complains', b'compareweights', b'companyname', b'commit', b'commissionemployee', b'colours', b'college', b'coll', b'cold', b'coeffc', b'coeffb', b'coeffa', b'codepen', b'codecs', b'codeacademy', b'cname', b'clunky', b'club', b'clockwise', b'clip', b'clientsocket', b'clickedletter', b'clickable', b'clever', b'clearresults', b'cleared', b'clearcheckboxes', b'cleanuser', b'clazz', b'classloader', b'circumference', b'chris', b'chop', b'cholera', b'chole', b'choc', b'chilli', b'childdatabase', b'chessboard', b'checkwin', b'checkemail', b'chary', b'charx', b'charscounter', b'channels', b'changeimage', b'cf', b'certaindata', b'celly', b'cellx', b'celllist', b'cbcbcb', b'casing', b'carrier', b'carpet', b'carousel', b'carefully', b'capturing', b'cantranslate', b'canonical', b'candy', b'cancle', b'callsynchronizationmode', b'calcbonus', b'cab', b'bytesize', b'bx', b'bullets', b'bulk', b'bufferrecount', b'buffering', b'btnsubmit', b'btns', b'btnid', b'brunning', b'brought', b'broke', b'bringing', b'boundary', b'bother', b'borrowip', b'borrowie', b'borrowid', b'born', b'bootstrap', b'booleans', b'bolt', b'bodydataobj', b'bm', b'bluej', b'blog', b'blazers', b'bitwise', b'bios', b'bindex', b'bign', b'biggestint', b'bidder', b'bhaji', b'bg', b'bepaalvolgendeverdieping', b'beanmap', b'bc', b'battle', b'baseurl', b'backstake', b'backodds', b'ay', b'ax', b'awk', b'availablefeaturevm', b'authenticate', b'auslagenmwst', b'audiomanager', b'attributelist', b'atomiclong', b'asynccallback', b'aswell', b'asterisks', b'asterisk', b'assemblyname', b'aspects', b'arrcookies', b'arraytolist', b'arrayofmonths', b'arranged', b'arp', b'arithmeticmethod', b'arises', b'areas', b'areacalc', b'archer', b'apr', b'appinquiryind', b'appearances', b'ap', b'answersfile', b'answeredtyped', b'ansible', b'annotations', b'angularjs', b'angular', b'ally', b'allocation', b'allocated', b'allnumbers', b'allkeys', b'alldone', b'alerting', b'aj', b'airpressure', b'aircraft', b'aiming', b'ahead', b'aggregate', b'aged', b'afterwards', b'afraid', b'affected', b'advantages', b'adjusting', b'activities', b'activecnx', b'accounting', b'accessibility', b'abstractcalculator', b'abcdefg', b'aaaa', b'\\xd8\\xb9\\xd9\\x84\\xdb\\x8c', b'\\xd7\\xa2\\xd7\\x95\\xd7\\x9c\\xd7\\x94', b'\\xc3\\xa9', b'zval', b'zoomed', b'zkey', b'zarr', b'za', b'yy', b'yukseklik', b'ypologismos', b'yp', b'yourpick', b'young', b'yesno', b'yd', b'yards', b'yamlreader', b'yahoo', b'xxxxx', b'xpath', b'xnumber', b'xmlattribute', b'xlwt', b'xfbml', b'xdocument', b'xaml', b'wrongletters', b'writeloginfo', b'writedirectories', b'wort', b'worried', b'workers', b'wordsinfiles', b'wordnum', b'wordcount', b'wordarray', b'wonderland', b'woman', b'wishes', b'wirecoords', b'windata', b'widget', b'whitespaces', b'wfc', b'wenn', b'welcomelabel', b'weekend', b'wedding', b'webview', b'webkittransition', b'weathertype', b'wavefilereader', b'wataxrate', b'washington', b'warn', b'wamplayer', b'walking', b'wales', b'wages', b'wabarray', b'vowelgroup', b'vorschussvalue', b'visualstudio', b'vista', b'visitors', b'visiting', b'visaold', b'visanew', b'videodone', b'victoria', b'vfxpanel', b'veuillez', b'vertical', b'versus', b'venit', b'vehicles', b'vbox', b'varraysum', b'varlevel', b'varied', b'variation', b'varfunctest', b'valve', b'valuesone', b'valueperline', b'valued', b'valor', b'validelements', b'validchars', b'validateprofile', b'validatenum', b'validated', b'validatecontent', b'valb', b'vacationsbalance', b'vacationbalance', b'ut', b'userssushant', b'userschoice', b'usersbillynodejsobdnew', b'usernum', b'usernamelabel', b'usernamefield', b'usenumber', b'urllib', b'urlclassloader', b'urbandictionary', b'upperlimit', b'uploadfile', b'uploader', b'upgradespurchasedvals', b'updatepanel', b'uparxoun', b'untill', b'unsupportedoperationexception', b'unsuccessfullabel', b'unsorted', b'unresponsive', b'unnecessary', b'unknownhostexception', b'uniquecodes', b'unidades', b'unesi', b'unescape', b'undergrad', b'una', b'ultimate', b'uemp', b'udp', b'udct', b'typically', b'txtlabel', b'turno', b'tstep', b'trust', b'troops', b'triple', b'triangles', b'tres', b'treating', b'translations', b'transformer', b'transformedbatch', b'transcodingstatus', b'trajdir', b'trainerexp', b'traffic', b'trading', b'toy', b'town', b'totalw', b'totalscore', b'totals', b'totalrotations', b'totalnum', b'totalminutes', b'totalmilespergalon', b'totalmiles', b'totalhours', b'totalgpa', b'totald', b'totalcredits', b'tostringcache', b'topmost', b'toolbox', b'toolbar', b'tonen', b'tomorrow', b'tokval', b'tointeger', b'togglevisible', b'togglebutton', b'tobe', b'toadd', b'tmparray', b'tmax', b'tlak', b'tla', b'titlefromdom', b'timetoset', b'timerstarted', b'timers', b'timeoutsignal', b'timeouts', b'timenow', b'timemessage', b'timeit', b'timedelta', b'ticker', b'tichete', b'tia', b'threecolorsframe', b'threadstart', b'thomas', b'thislock', b'thirdarray', b'thingy', b'thingname', b'thevalues', b'theselltotal', b'therequest', b'thenumber', b'thename', b'thelength', b'thefile', b'thecurrentstory', b'thecount', b'thebuytotal', b'thead', b'thankyou', b'textinput', b'textfieldparser', b'testvar', b'testlistview', b'testgui', b'teslamodels', b'tends', b'tempstringb', b'tempstringa', b'templating', b'templatepath', b'tempid', b'tempbuff', b'tel', b'technique', b'technically', b'teaspoons', b'tblcell', b'targeting', b'targetapartmentid', b'tar', b'tagtype', b'tagtext', b'taglist', b'tagged', b'tablerow', b'systemmanagement', b'syllable', b'sx', b'switched', b'swapped', b'surround', b'surprising', b'surplus', b'surfacearea', b'surely', b'supporto', b'supersample', b'sunny', b'sumy', b'sumx', b'sumv', b'sumold', b'summing', b'suffixes', b'succeeded', b'subtracted', b'subtasks', b'subsvalue', b'submt', b'submitform', b'sublists', b'subjecttaken', b'subbtn', b'stuffresponse', b'studentname', b'strurl', b'structs', b'strscript', b'strout', b'stripped', b'stringweight', b'stringlength', b'stringentity', b'stringarray', b'stridemediawrapper', b'strictly', b'strgold', b'strengthmultiplier', b'streaming', b'storeproducts', b'stopcalcupint', b'stone', b'stepsize', b'steen', b'steam', b'statment', b'staticmethod', b'starttagwidth', b'startswith', b'startpoint', b'startingnumber', b'startapp', b'starrating', b'stages', b'ssid', b'ssend', b'sqlserver', b'spreadsheetdate', b'sports', b'spliting', b'splitdomain', b'spits', b'spidertoexecute', b'sphere', b'specifies', b'specialized', b'spec', b'spawnrnn', b'spawned', b'spacesallowed', b'spaceinfo', b'soy', b'sourcetext', b'sortvalue', b'sortings', b'sortingarray', b'songpath', b'songnameguess', b'someotherclass', b'someobject', b'someobj', b'someclasses', b'somaj', b'solves', b'sold', b'soft', b'snapshot', b'snap', b'smashes', b'smallestnumber', b'slowly', b'slopes', b'slideshows', b'slices', b'sleeping', b'skype', b'sklearn', b'skin', b'sizeable', b'sitting', b'simulating', b'simplifying', b'simpleplayer', b'similarly', b'signin', b'significantly', b'significance', b'shuffledeck', b'showsome', b'showcharwheel', b'shed', b'shebang', b'shaw', b'sharecode', b'shalom', b'setwidgetandrssdisplay', b'setval', b'settoken', b'settime', b'setthirdsegment', b'setsecondsplit', b'setofintegers', b'setisbn', b'setbutton', b'setbackground', b'sessions', b'servo', b'serviceregistry', b'serviceloop', b'servermessage', b'serve', b'serobjectbytes', b'serialnumtxt', b'sequences', b'seqsearch', b'separates', b'sensors', b'sensible', b'sendreceive', b'sendingprocess', b'semcode', b'selling', b'sellcommissionpercentage', b'selectors', b'selecteditemsarray', b'selectartistbyname', b'securityexception', b'secondarray', b'seats', b'searchterm', b'searchfor', b'sd', b'scrollbar', b'screens', b'scramble', b'scrabble', b'scott', b'scotland', b'scommand', b'scolor', b'scnr', b'scipy', b'scholarship', b'scheme', b'schaar', b'scenes', b'scarborough', b'scanned', b'scalevalue', b'sayhello', b'saxreader', b'savingsbalance', b'satisfy', b'samsung', b'salesamount', b'saisir', b'safely', b'rvalue', b'runtimetype', b'runningman', b'rr', b'rprocessing', b'rpg', b'rounded', b'rosettanet', b'roots', b'rootobject', b'rockets', b'robin', b'rob', b'rmifoo', b'rikishilist', b'rightendpoint', b'rhino', b'reveal', b'rev', b'reusable', b'reunion', b'returnme', b'returnchar', b'retrieval', b'resultresponse', b'restructure', b'resizing', b'resig', b'requestmessage', b'reqlvls', b'republic', b'representative', b'reposition', b'reportviewer', b'reportdisplaymodel', b'replies', b'renaming', b'removeid', b'rememberwindowstate', b'reliable', b'relating', b'relates', b'registers', b'registerlabel', b'registerbutton', b'regions', b'refreshes', b'refreshed', b'refactoring', b'redir', b'recsound', b'recorded', b'recompile', b'recognizes', b'recipe', b'recieving', b'rechteck', b'reassign', b'rearrange', b'readlines', b'readboolean', b'rcw', b'rannumber', b'randomvalue', b'randomsong', b'randomname', b'randomised', b'randomcard', b'radiogroup', b'ra', b'quiztitle', b'quickest', b'querystring', b'queryselectorall', b'queryselector', b'queried', b'qualitypoints', b'qualified', b'qr', b'qbutton', b'purposely', b'purify', b'publishing', b'pst', b'prq', b'proto', b'propindex', b'programmers', b'programm', b'professional', b'productstring', b'productkey', b'productarray', b'processform', b'processfile', b'procedurename', b'probabilities', b'printvalue', b'printrec', b'printmenu', b'printjobwatcher', b'printjobevent', b'printinfo', b'printdictionary', b'primegenerator', b'primaryattribute', b'pricescale', b'pressure', b'preferences', b'preferable', b'pragma', b'ppp', b'potato', b'postive', b'postal', b'positioned', b'populates', b'popping', b'poor', b'po', b'pnr', b'plusminussign', b'plusminus', b'playernode', b'playerdamage', b'planned', b'pje', b'pinvoke', b'pinakas', b'pil', b'piglatin', b'pictable', b'pickup', b'photo', b'phil', b'pettype', b'peso', b'perspective', b'personaje', b'percolates', b'pemreader', b'pellet', b'peek', b'peak', b'payoff', b'pauses', b'paul', b'patience', b'patch', b'passwords', b'passwordlabel', b'passwordfield', b'passw', b'parsedhtml', b'parkendpoint', b'paris', b'parenthesesmatch', b'paramlist', b'paramiko', b'papier', b'paladin', b'painteventargs', b'pacman', b'pacific', b'outputarray', b'oussabdalla', b'otime', b'oscilloscope', b'orginal', b'oracleparameter', b'opts', b'optionnum', b'optionbox', b'optionally', b'optimized', b'optgroup', b'opropertyvalue', b'opensocket', b'openport', b'onstoprequested', b'onserverconnectionfailed', b'onmouseenter', b'olddate', b'offspring', b'ocean', b'occuring', b'observe', b'observablelist', b'observablecollection', b'objsmtpindex', b'objectarray', b'nyou', b'ny', b'nvtaxrate', b'numstore', b'numofgames', b'numerator', b'numberofcharcters', b'numberformat', b'nullify', b'nthrows', b'nsw', b'nsim', b'npercentw', b'npercenth', b'npe', b'notifications', b'nos', b'nope', b'noofemployees', b'noderef', b'nodejs', b'nml', b'nmax', b'nine', b'nickname', b'nickel', b'nicer', b'nicely', b'nexttargetsubdir', b'nextset', b'nextlivebroadcast', b'nextinternetbroadcast', b'nextint', b'newtype', b'newsrc', b'newrho', b'newpet', b'newmsg', b'newlines', b'newletterindex', b'newlabel', b'newhead', b'newfile', b'newdivisionid', b'newblanks', b'newarraylist', b'newarea', b'nevertheless', b'neutral', b'networking', b'netpay', b'netbean', b'netaddr', b'nestedcallcontext', b'nestdsatz', b'neighbour', b'needing', b'necessarily', b'ne', b'ndim', b'nd', b'narratives', b'nameinxml', b'nama', b'myvalue', b'myval', b'mytoggle', b'mythread', b'mysqldatareader', b'mysqldataadapter', b'mysoftwareclass', b'mysettings', b'myselect', b'myplaces', b'mypassword', b'mynumbers', b'myip', b'myinterface', b'myindex', b'myimageicon', b'mydiv', b'mydeck', b'mydays', b'mydate', b'mycustomattribute', b'mybike', b'myarrayelement', b'mute', b'multiscorer', b'multiplier', b'mularr', b'mt', b'mssqlserver', b'mscorlib', b'msamanid', b'moztransition', b'moveon', b'movemouse', b'mousemove', b'moreover', b'mood', b'monthview', b'monitoring', b'modulus', b'modulecode', b'modifed', b'mo', b'mistaken', b'miny', b'minx', b'mint', b'millisecond', b'milli', b'milespergalon', b'midnight', b'mice', b'mhotspots', b'methodx', b'methoddelegate', b'meth', b'meters', b'metamodel', b'messageprinter', b'meselements', b'menuhandler', b'mentee', b'memorycalculator', b'membership', b'meeting', b'mediaplayer', b'medi', b'measurement', b'meaningful', b'mealname', b'mealid', b'mdbfile', b'mazecell', b'maxweight', b'maxspeed', b'maxplayers', b'maxpathnumber', b'maximumfractiondigits', b'maxdimpix', b'mavaleur', b'matriz', b'mastertable', b'masonry', b'masking', b'mars', b'markup', b'mar', b'mappings', b'manynumbers', b'manuscript', b'manufacturer', b'mammal', b'makingrec', b'makewords', b'makemakefile', b'makelistofwords', b'makedate', b'makebutton', b'makeblanks', b'mainstring', b'mainpage', b'magnitude', b'magna', b'mag', b'mad', b'lts', b'lstdate', b'lowlevelkeyboardproc', b'losers', b'lookupprofile', b'london', b'logoutbutton', b'logout', b'loglines', b'logisticregression', b'loginbutton', b'logarithm', b'locks', b'locals', b'localization', b'localelang', b'localecountry', b'llist', b'liststock', b'listofnumbers', b'listingsubmitbtn', b'listcollectionview', b'linuxserveradapter', b'linkparser', b'liner', b'lined', b'linebuffered', b'linebreaks', b'limitations', b'limitation', b'likemengder', b'liked', b'ligand', b'liftstatus', b'liftactiehandler', b'licenseno', b'lev', b'lettres', b'lettertoreplace', b'lesson', b'lenghtb', b'lenghta', b'lek', b'leftval', b'leftindex', b'learner', b'leadspotcolor', b'latin', b'late', b'lastly', b'lastcommand', b'laptops', b'laggtill', b'ladder', b'lack', b'labelvaluebean', b'kyronet', b'kwargs', b'ktransinv', b'kronosdatetimeimpl', b'knopdiv', b'kit', b'kinv', b'kinds', b'keytool', b'keyfromfile', b'keyarr', b'keepplaying', b'keeplooking', b'kataskeuhs', b'juin', b'jude', b'jpy', b'josephus', b'joptionpane', b'jointable', b'joinkahoot', b'joincolumn', b'jobc', b'jobb', b'jim', b'jfxdone', b'jclass', b'jason', b'jacob', b'ivalue', b'itypeid', b'itmp', b'ith', b'iterative', b'itemsperchunk', b'itemsarray', b'itemid', b'itemcodeint', b'itemarray', b'isselected', b'isr', b'isprimeheavy', b'isparent', b'isolate', b'iso', b'isnormal', b'isleapyear', b'isefersayisi', b'isdigit', b'isdeleted', b'ischeckedselect', b'irrespective', b'irost', b'ipermissionsrequest', b'ipadress', b'ioerror', b'involving', b'invocation', b'invitedlist', b'inventoryexpander', b'intshortdelegate', b'introwindex', b'intervalfunctions', b'interpretation', b'intermediate', b'interleavedplayer', b'intensive', b'intelligencemultiplier', b'intel', b'integerdigits', b'integerarray', b'insurance', b'inspection', b'insight', b'inserts', b'inputtxt', b'inputting', b'inputtextarea', b'inputseconds', b'inputminutes', b'inputlicenseplate', b'inputhours', b'inputed', b'inputdata', b'inputaretaillightsworking', b'innervar', b'innerdiv', b'innerclass', b'injection', b'initvector', b'initiated', b'initgame', b'informal', b'infooffriends', b'indiabulls', b'indexed', b'independently', b'indents', b'indentationerror', b'inaccessible', b'improper', b'impozit', b'importance', b'implied', b'imp', b'immovable', b'imglist', b'imagetype', b'imageprogram', b'imageholder', b'imagebytes', b'ilvalueslist', b'illegalaccessexception', b'il', b'ihostsourceitem', b'iface', b'ienumerator', b'idselector', b'identified', b'idecklink', b'icellstyle', b'ibeacons', b'iasyncresult', b'hyperlink', b'hwkpoints', b'hwkgrades', b'hv', b'hub', b'htuple', b'httppostedfilebase', b'htmlparser', b'htmlelement', b'htmlattributes', b'hssfworkbook', b'housenumber', b'hoogstebieder', b'hoogste', b'honey', b'honda', b'hobbynavn', b'hitmesteve', b'hist', b'hilo', b'highesttemp', b'hiding', b'heading', b'headertext', b'headerblock', b'hawk', b'havent', b'hate', b'hastypes', b'hangs', b'handy', b'hallway', b'haar', b'ha', b'gzipstream', b'guitarcolor', b'guessmynumbergame', b'groupmember', b'groupby', b'griffin', b'grep', b'gpolygon', b'gpoint', b'gottparam', b'gotoslide', b'goose', b'gon', b'goldinput', b'golden', b'gn', b'girlname', b'getwidthandheight', b'getval', b'getv', b'geturl', b'gettokenfromapi', b'getstrength', b'getselecteduser', b'getresult', b'getrequests', b'getrank', b'getradius', b'getprice', b'getpressed', b'getpassword', b'getparam', b'getobjectdata', b'getobject', b'getnumbers', b'getnumberdays', b'getkey', b'getitem', b'getident', b'gethtml', b'gethashcode', b'getgpa', b'getg', b'getf', b'getenumerator', b'gete', b'getcourseweight', b'getc', b'getaverage', b'getascii', b'genericextfilter', b'genericext', b'generatepdf', b'geid', b'gecko', b'gbp', b'gates', b'gap', b'gamewow', b'gameworld', b'gamestatus', b'gamestate', b'gamesquareid', b'gamesound', b'gameresult', b'gamepanel', b'gamename', b'gained', b'gadget', b'fuses', b'fund', b'functools', b'functioning', b'fuelcurrent', b'fuction', b'fsrc', b'frozen', b'frmevent', b'friendcount', b'framew', b'framebytes', b'fpsinterval', b'fpath', b'fout', b'foundword', b'forty', b'forminit', b'formattime', b'forest', b'forename', b'forecast', b'foldername', b'fluent', b'floors', b'flagger', b'fl', b'fkt', b'fitting', b'fitness', b'firststring', b'firstnode', b'firstn', b'firstdog', b'firstday', b'firstdate', b'firmware', b'firingfunc', b'findresource', b'findgrade', b'finaltime', b'finalprice', b'filltheword', b'filetypecounter', b'filetodownload', b'filetext', b'fileresource', b'filepaths', b'fileout', b'fileloction', b'fileheader', b'filedelete', b'filechooser', b'filearray', b'fighter', b'fieldoffset', b'fever', b'fetches', b'females', b'feets', b'fecha', b'failures', b'factorycallback', b'facilitytype', b'facilitiesavailable', b'extreme', b'extracts', b'extprojects', b'extent', b'exrate', b'expires', b'expert', b'expectation', b'exitbutton', b'exercises', b'exemplify', b'exemplary', b'executor', b'excluded', b'exceptionally', b'exampoints', b'examgrades', b'evnets', b'eventtype', b'eventsubclassa', b'eventrect', b'euros', b'establish', b'essence', b'errorcode', b'errcode', b'ergebnis', b'enums', b'enumerator', b'enumeration', b'entitydirtblob', b'eng', b'enemydamage', b'endless', b'endif', b'encodeuricomponent', b'encoder', b'encapsulate', b'emulate', b'emptype', b'employeeinfopojo', b'emailissent', b'eliminating', b'elementdata', b'elastic', b'een', b'edt', b'ecuatie', b'ect', b'earned', b'earn', b'dwflags', b'dupresults', b'dupes', b'dup', b'dumps', b'duanswer', b'dtype', b'dss', b'dry', b'driven', b'dreader', b'draws', b'dproberts', b'downside', b'doublearray', b'dotranslate', b'dosomethingexternal', b'doprevent', b'donechars', b'donated', b'documentsvisual', b'doaction', b'dmidwest', b'divpreview', b'divisibility', b'displayselecteduser', b'displaylist', b'displayimage', b'disourcesubdir', b'disdata', b'discounts', b'disclaimer', b'disappear', b'dirpath', b'dig', b'difficulties', b'dietwo', b'dies', b'dieone', b'devptr', b'devb', b'derivedclass', b'derive', b'deposited', b'dependent', b'departureairportindex', b'demosquare', b'delyn', b'delivered', b'delayed', b'definitive', b'deficitelem', b'defaultstring', b'defaulted', b'defaultbuffered', b'deeper', b'decides', b'dcount', b'dconverted', b'dcall', b'dayview', b'dayindex', b'daydatefactory', b'datum', b'datetoset', b'datescanned', b'datepicker', b'dateformattingtest', b'datedobject', b'datearr', b'datax', b'datatime', b'datatables', b'datasets', b'datas', b'datareceivedeventhandler', b'datakeys', b'datafield', b'datademo', b'datacontext', b'damavandemailtransceiveisbusy', b'damages', b'damagemin', b'damagemax', b'daltoncarlist', b'dal', b'cvsw', b'cvsh', b'cvaresponse', b'cutting', b'cuts', b'customsettings', b'customa', b'custnos', b'custnoexist', b'custid', b'currfirstname', b'currentsalary', b'currentroute', b'currentpercent', b'currentlocation', b'currentdiv', b'currentcoordinates', b'currencyconverter', b'currcity', b'currchar', b'curcolumn', b'cssstylerule', b'creature', b'createstockcodedetails', b'crashing', b'coverttolowercase', b'cout', b'coupling', b'countdims', b'coucou', b'cote', b'cordcheck', b'copystart', b'copyall', b'cook', b'convertible', b'contributions', b'continuation', b'contestants', b'contactno', b'consuming', b'connectionrequest', b'connectfour', b'conflicts', b'confiscated', b'configurations', b'configurable', b'conditionally', b'concurrently', b'concurrent', b'concerning', b'computations', b'compt', b'composition', b'complextype', b'complexcontent', b'completing', b'completes', b'complaining', b'compatible', b'companyno', b'commisionrate', b'commenttype', b'commenting', b'commandexecutor', b'comm', b'comboone', b'colorwords', b'colortochange', b'colorgenerated', b'colname', b'collisions', b'collidable', b'collectionviewsource', b'collectionofordernumber', b'codewars', b'coder', b'cny', b'cnsql', b'closer', b'cloning', b'cloned', b'clocktimer', b'clienttable', b'clientsecret', b'clickme', b'clickhandler', b'clearer', b'classmethod', b'classinstance', b'classify', b'classical', b'clampset', b'chunked', b'choosetype', b'chooser', b'chips', b'chiffres', b'chf', b'chessknight', b'chemistry', b'cheese', b'checkvalidity', b'checkname', b'checkall', b'chatwindow', b'chatboxes', b'charnumvalue', b'chararrayprice', b'changetext', b'changelistener', b'changealtloop', b'certificates', b'censor', b'cemp', b'cdtd', b'cdata', b'categories', b'cataxrate', b'catapult', b'cass', b'carries', b'carriage', b'cardnum', b'capt', b'capitalize', b'capfirst', b'cap', b'canvaswidth', b'canvasheight', b'calstime', b'callitems', b'callingmethod', b'cakes', b'bytt', b'bypass', b'buying', b'buycommissionpercentage', b'buttongroup', b'bus', b'buildworld', b'builds', b'bufptr', b'btnstop', b'btnedit', b'btndelete', b'btnadd', b'bsondocument', b'brush', b'browsing', b'brooklyn', b'brief', b'brian', b'braille', b'brad', b'brace', b'bprow', b'bowl', b'bots', b'booster', b'booltoupdate', b'bookingid', b'boilerplate', b'bodies', b'bobs', b'bna', b'blopps', b'blogger', b'blockc', b'biwidth', b'binaryreader', b'binaryformatter', b'bigdecimal', b'bfs', b'betty', b'betaarray', b'beside', b'benchmarks', b'benchmarkreturns', b'beforehand', b'becoming', b'beautiful', b'beatles', b'beat', b'beans', b'bdyear', b'bdata', b'bcontains', b'bbbb', b'basemessagedirectory', b'barcelona', b'badinput', b'backgroundpopup', b'backgroundcolor', b'baby', b'avril', b'avr', b'avgweights', b'ave', b'avatar', b'avaliablefeaturesvm', b'automated', b'authscope', b'authors', b'auiliary', b'attrs', b'attacktype', b'attacks', b'attachfile', b'atomicnumtable', b'atom', b'ast', b'associations', b'assets', b'aspx', b'asciitext', b'asc', b'arth', b'arrayone', b'arrayindexoutofbounds', b'arrayapp', b'armydatalist', b'arm', b'arima', b'argue', b'aretooth', b'arent', b'areaname', b'arduino', b'archivo', b'apt', b'appsfolder', b'approximately', b'approved', b'appointments', b'applicationpath', b'applicationname', b'applicableoperators', b'apierror', b'ansi', b'anglerad', b'anexception', b'amongst', b'amnt', b'america', b'ambiguity', b'altogether', b'allocate', b'allfiles', b'alignment', b'albumname', b'alamat', b'airlinemodel', b'aircraftmodel', b'aid', b'agilitymultiplier', b'advertisements', b'advertisement', b'adt', b'adjacentposition', b'adelaide', b'addword', b'addthree', b'addkeylistener', b'addbook', b'adapter', b'adam', b'actualvaluelength', b'actors', b'activeemployees', b'acronym', b'achieving', b'ace', b'accountindex', b'accountholder', b'accountcontainer', b'accomplishing', b'accidentally', b'accesses', b'acces', b'abstractnodeitem', b'abstractgpsreader', b'absolutevalue', b'absent', b'abcdefghijklmnopqrstuvwxyz', b'\\xef\\xbd\\x90\\xc3\\xb2\\xef\\xbd\\x92\\xc6\\x99', b'\\xd7\\xaa\\xd7\\xa8\\xd7\\x92\\xd7\\x99\\xd7\\x9c\\xd7\\x99\\xd7\\x9d', b'\\xd7\\x94\\xd7\\xa2\\xd7\\x95\\xd7\\xa8\\xd7\\xa3', b'\\xd7\\x90', b'zufall', b'zooom', b'zimbabwe', b'zetverdieping', b'zed', b'yzz', b'yyyymmddhhmm', b'yourout', b'yourobjects', b'yolo', b'yep', b'yellowlistener', b'yearlink', b'yeah', b'ycoor', b'yard', b'yahooid', b'xxxxxxxxxxxxxxxx', b'xtp', b'xmlnamespacemanager', b'xmldoc', b'xla', b'xhttp', b'xcoor', b'wv', b'wr', b'workflow', b'workarounds', b'worigin', b'wordstring', b'wordsinnumfiles', b'wooden', b'wolf', b'wndproc', b'wmp', b'wlist', b'wlanclient', b'withsoy', b'withdrw', b'withdrawn', b'withdrawing', b'wit', b'winners', b'winerror', b'wine', b'windowsfont', b'windowserror', b'willfire', b'wildcards', b'wild', b'wiersz', b'wierd', b'wi', b'whoops', b'whoever', b'whitby', b'whereby', b'whatsoever', b'wether', b'welcomed', b'weirdly', b'weeklypay', b'webresponse', b'webpages', b'weapons', b'weaponname', b'waytotrade', b'watchdog', b'warranty', b'warm', b'warehouse', b'wappalyzer', b'walker', b'waited', b'vtn', b'vt', b'vrt', b'vrstica', b'vrijednost', b'vowelcounterapp', b'vorhanden', b'visualizza', b'visualize', b'vision', b'visio', b'virus', b'vindstyrka', b'views', b'viewid', b'videotypeid', b'videojs', b'vibrio', b'verifyurl', b'verbatim', b'venuemappings', b'venue', b'vendors', b'vendorid', b'vehicleprototype', b'vehiclelist', b'vectorsize', b'vaucherid', b'varibles', b'varargs', b'vararg', b'valuemap', b'valuable', b'valinput', b'validstatuscodes', b'validationprovider', b'validatevalues', b'validaterange', b'valg', b'valcurrent', b'valbefore', b'uxxxxxxxx', b'utopian', b'utcstr', b'ushort', b'userwriter', b'uservalue', b'usersusernamedesktop', b'usersapp', b'userprofile', b'userinputint', b'userentry', b'useranswer', b'userage', b'usedvalue', b'usedcar', b'usable', b'urlstring', b'urlserv', b'ur', b'uppercasemessageprinter', b'upgrading', b'upgradespurchased', b'updatetextfield', b'updatefield', b'updatedisbursaltotal', b'updatedataprogress', b'updatedata', b'updatecost', b'updatecommand', b'updatebutton', b'updateamount', b'upc', b'unusual', b'untitled', b'unsubscribe', b'unsortedarray', b'unparseable', b'uno', b'unneeded', b'unnamed', b'unitcheckboxes', b'uniquewords', b'uniqueid', b'unigrams', b'unify', b'unified', b'unfriend', b'unfinished', b'understands', b'understandable', b'uncomment', b'unbalancedparens', b'unaware', b'unassigned', b'ufra', b'udemy', b'udc', b'typeid', b'typedtext', b'typ', b'txtto', b'txtstartdate', b'txtfrom', b'txtcombo', b'twoscomplement', b'twobottles', b'twitchapiz', b'twist', b'twicemoveallowed', b'twelve', b'tval', b'tv', b'tttext', b'ttt', b'tshirt', b'trylogin', b'tryed', b'truly', b'triggerobj', b'triggerbuilder', b'trennzeichen', b'trend', b'tray', b'transferring', b'transferred', b'transceiveemail', b'trajectory', b'traditional', b'trades', b'trademark', b'tradeid', b'tracks', b'tracked', b'tqdm', b'towers', b'touppercase', b'tou', b'totalwithdraws', b'totalsum', b'totalrownum', b'totalmilliseconds', b'totallines', b'totalgui', b'totalgalon', b'totaldeposit', b'totalcost', b'totalchars', b'tons', b'tokyo', b'toknum', b'tokenposition', b'toconnical', b'toc', b'tns', b'tmac', b'tlisten', b'tk', b'titulos', b'titles', b'titleid', b'titlefromdomarray', b'titlefont', b'titlecolor', b'tipuridecafea', b'tiny', b'timing', b'timelist', b'timebetweensteps', b'tidy', b'tickets', b'thur', b'thumbnails', b'thrownexception', b'threadcounter', b'thistime', b'thistext', b'theta', b'thesi', b'thesellcommission', b'theselection', b'ther', b'thepathnumber', b'theobject', b'theirpick', b'thehealth', b'thedamage', b'thebuycommission', b'thanjavoor', b'textvalue', b'texttostring', b'texto', b'textlist', b'textlengthbytes', b'textdata', b'testvalue', b'testcallback', b'testasync', b'terribly', b'terrible', b'tep', b'tenure', b'tempval', b'tempstringc', b'temporaryletter', b'temporarily', b'temperatur', b'tempcount', b'tempcalculate', b'tedious', b'ted', b'teamname', b'teammates', b'teaching', b'tdate', b'tbltable', b'taught', b'targettype', b'targetobject', b'targetelement', b'targetdiv', b'tardis', b'tailor', b'tagid', b'szidotomb', b'systemui', b'systemparametersinfo', b'sysloghandler', b'synchronization', b'symmetrickey', b'sword', b'switzerland', b'swipe', b'svp', b'svgelems', b'svd', b'surprised', b'supplierid', b'supplier', b'superior', b'superhexagon', b'sumnocomp', b'sufficient', b'sudan', b'sucessfully', b'succeed', b'subtracts', b'subtitle', b'substract', b'substitution', b'substate', b'subsquare', b'subsequently', b'subroutine', b'subnetcache', b'submodules', b'submodule', b'sublist', b'sublime', b'subjectstakenno', b'subitem', b'subdir', b'su', b'styles', b'struck', b'strtemp', b'stringvalue', b'stringreader', b'stringout', b'stringetcdcontent', b'stringconnectionstring', b'stringcommandtext', b'stringbodyhtml', b'stringarrayprices', b'stridemediadropzone', b'strfilename', b'streetname', b'streamingcontext', b'strcmdtext', b'stranger', b'stopprogrambyattachingtoitsconsoleandissuingctrlcevent', b'stopmovement', b'stockfile', b'stickynotenodeitem', b'sterile', b'steptwo', b'stepped', b'stephen', b'stemmer', b'steak', b'stderr', b'stcp', b'statvalue', b'statuslist', b'statusitem', b'stattype', b'staticchars', b'stateobject', b'startweekdate', b'starttimer', b'startsequenz', b'startrow', b'startingmoney', b'startingevent', b'startinfo', b'startcounter', b'startcol', b'startbuttonhandler', b'startbal', b'starsystem', b'standing', b'standfordnlp', b'standardized', b'stake', b'staff', b'sslpolicyerrors', b'srlnumber', b'squareindex', b'squared', b'sqlstr', b'sqlexecsp', b'sqlalchemy', b'spread', b'spots', b'spotify', b'sport', b'sponsor', b'spoj', b'spliter', b'splice', b'spiral', b'spidermonkey', b'spider', b'spheres', b'spend', b'spell', b'speaking', b'spawns', b'sourcewidth', b'sourceres', b'sourceheight', b'sourcedirectory', b'sourcedir', b'sour', b'soundplay', b'sortoutputhandler', b'sortingifplayed', b'sorterrorhandler', b'sortedlist', b'sortedl', b'sorteddictionary', b'sortedcopy', b'somevar', b'sometext', b'somestring', b'someservice', b'someserver', b'someparameter', b'somelibobj', b'solutionfound', b'soldier', b'solar', b'softlens', b'snoofemployees', b'snitt', b'snds', b'smoothly', b'smoothing', b'smlksgeneg', b'slots', b'slidingexpiration', b'sleeps', b'sku', b'skafos', b'sizeofarray', b'sized', b'sister', b'sir', b'singer', b'simulator', b'simpledatastructure', b'simonarraylist', b'simon', b'sim', b'signupbox', b'signs', b'significant', b'signals', b'sierpinski', b'sideup', b'sid', b'showyear', b'showslides', b'showlmcbutton', b'showlist', b'shower', b'showdivs', b'showdate', b'showcommands', b'showbirthday', b'showavatar', b'shorthand', b'shortcuts', b'shopify', b'shoots', b'shiva', b'shipperid', b'sherlock', b'sheets', b'sharename', b'shallow', b'sfee', b'seventh', b'setwindowpos', b'setvector', b'setuptools', b'setupbuttons', b'settingsusermy', b'setrank', b'setradius', b'setpublisher', b'setproviderclass', b'setpreferredsize', b'setownername', b'setnextenum', b'setlocationrelativeto', b'setlightstate', b'setid', b'setfocusable', b'setfloat', b'setfirstname', b'setcurrenttile', b'setcurrentfieldname', b'setconsolectrlhandler', b'setcolor', b'setauthor', b'servletoutputstream', b'servicestorun', b'servicename', b'servicebase', b'servertimestampmillis', b'serverstartmain', b'serverenabled', b'servdescript', b'serrations', b'seriously', b'serialnumber', b'serializing', b'serializationinfo', b'senses', b'sendtrace', b'sendto', b'sendmessage', b'sendasync', b'sen', b'semi', b'sellproduct', b'selftest', b'selemphasoff', b'selectsubcat', b'selectfile', b'selectedval', b'selectedstaff', b'selectedradio', b'selectedcourseweight', b'selectedcharacter', b'selectedcell', b'selectedcards', b'selectage', b'segy', b'segundos', b'segotagtype', b'segno', b'sectionvalues', b'secondstring', b'secondly', b'secondform', b'secondarraylist', b'season', b'searchvalue', b'searchresult', b'searchchar', b'scrolled', b'scriptlocation', b'screenwidth', b'screenshots', b'screenheight', b'scratch', b'scissor', b'scheduledtask', b'scatter', b'scanf', b'scalefactor', b'sbl', b'sbhandler', b'saveuser', b'savecopy', b'savechangesasync', b'savebyte', b'savebutton', b'sausage', b'sau', b'satoia', b'sarr', b'sandbox', b'samplea', b'salweek', b'salespeople', b'saledate', b'sad', b'sa', b'ryan', b'runworkertaskasync', b'runprogram', b'runnystack', b'runners', b'runaction', b'rst', b'rss', b'rsaencrypt', b'rps', b'rp', b'rowsaffected', b'rowlength', b'rowdata', b'routing', b'roundtiles', b'roulette', b'rough', b'rotating', b'rootfolder', b'roomsoldier', b'rookies', b'romeo', b'rom', b'rollingdata', b'rollclass', b'robobrowser', b'rm', b'rihanna', b'rightvalue', b'righteye', b'rice', b'ribs', b'rexaim', b'rewritten', b'rewards', b'revision', b'revise', b'reviews', b'reviewing', b'reverses', b'reversal', b'reveals', b'reusability', b'returnstring', b'returnnull', b'resumos', b'resulttf', b'resultrequestoutputs', b'resultlist', b'resultl', b'restrictions', b'restricting', b'restricted', b'restresponse', b'responsive', b'responsesession', b'responseobj', b'responding', b'resourceurl', b'resort', b'resolves', b'resolvenamestype', b'resides', b'resetting', b'researching', b'requesturi', b'requestdetail', b'repr', b'reportprogress', b'replybuffer', b'replicate', b'replenish', b'replay', b'replacingletter', b'replaceall', b'repeattest', b'repair', b'rendering', b'renamed', b'removeitem', b'removehighlight', b'removeeventlistener', b'removeball', b'remotetoken', b'remembers', b'remark', b'remained', b'rely', b'reloaded', b'relies', b'reliably', b'releases', b'releasedate', b'relativeangle', b'rejected', b'reinstall', b'regularly', b'registermap', b'registerlist', b'regiments', b'regcheck', b'refused', b'refueled', b'refreshframe', b'reflected', b'referrer', b'redudant', b'redlistener', b'redirecttoaction', b'redirection', b'redempidfromcsv', b'redefine', b'recursiveiteration', b'recrusive', b'recommendations', b'recipes', b'recievetrace', b'recalculate', b'rebuilding', b'rebuild', b'reappear', b'realtime', b'realgpsreader', b'realaro', b'readname', b'readinstring', b'readgroupbyte', b'readfromfile', b'reaching', b'rdquo', b'rdotnet', b'ratios', b'rationale', b'rateoffire', b'rata', b'raster', b'raspberry', b'rankingmanage', b'ranging', b'ranged', b'rang', b'randomise', b'randomindextoswap', b'randomgenerator', b'randomarrayone', b'randomaccessfile', b'raising', b'radix', b'radiofm', b'radioam', b'radar', b'rabbits', b'qurl', b'quiet', b'queues', b'questiontriescounter', b'questiontries', b'questionid', b'queen', b'qualitypts', b'qualifying', b'qualify', b'qual', b'quadpositive', b'quadneggative', b'qlist', b'pytz', b'pysvc', b'pyinstaller', b'pydelicious', b'pvalidatorkey', b'puzzling', b'putted', b'purgetask', b'purchaseprice', b'punctuations', b'publications', b'psi', b'psexec', b'proxysubject', b'proxyobject', b'providerclass', b'provideproduct', b'protect', b'proptype', b'proprietary', b'proportional', b'propname', b'propertygrid', b'propertychangedeventhandler', b'promising', b'projectsinitiativesmachine', b'projectguid', b'programing', b'programfunction', b'programdisplay', b'profitarray', b'productprice', b'procid', b'processinfo', b'proceeded', b'probleme', b'probk', b'probecontenttype', b'privatekey', b'printpageeventargs', b'printout', b'printlabel', b'printinput', b'printimg', b'printhms', b'printgeoformen', b'printevent', b'printerfont', b'printdocument', b'printagain', b'pricetxt', b'previousmodified', b'preventing', b'presume', b'presenting', b'presentation', b'preparing', b'preparedstatement', b'prepared', b'prenom', b'prematurely', b'prehled', b'preferredcodec', b'predictions', b'precede', b'praesenzzeit', b'practise', b'potion', b'posy', b'postsint', b'postman', b'postdata', b'possibledate', b'posofi', b'poscard', b'portmuxproperty', b'portinvalid', b'portdata', b'porridge', b'por', b'popupstatus', b'popups', b'pontointercecao', b'poloniex', b'polling', b'pocty', b'pocolist', b'poco', b'pname', b'plusdivs', b'plese', b'playslide', b'playround', b'playoneround', b'playername', b'playerchoice', b'plastname', b'plant', b'placeholders', b'pixptr', b'pivoting', b'pistol', b'pipes', b'pinpoint', b'pinnum', b'pining', b'picturetexts', b'picker', b'phtml', b'photos', b'photobyte', b'pfirstname', b'perspectivetransform', b'permissive', b'permanently', b'permanent', b'periods', b'performextract', b'percentual', b'percentages', b'pepe', b'pedal', b'peculiar', b'peachtree', b'pdfs', b'pd', b'pcity', b'paymentamount', b'paycalculator', b'paused', b'pathlib', b'pat', b'passwd', b'passme', b'partnamtxt', b'participantid', b'parsenames', b'parseddt', b'parentnode', b'parentdata', b'parcebutton', b'paramtopass', b'parametrized', b'paragraphs', b'papua', b'paneloptionsobj', b'pallet', b'painting', b'pain', b'pageredirect', b'pager', b'pageheadertext', b'pageheaderfont', b'pageheader', b'paddress', b'packard', b'packagetype', b'overlay', b'outputstreamwriter', b'outputlist', b'outdated', b'ourform', b'ouput', b'otransition', b'otherset', b'othernum', b'orignal', b'organized', b'organization', b'ordering', b'orden', b'opvullen', b'optipng', b'optionbuttonhandler', b'optimizing', b'opponent', b'openbutton', b'oownerinfo', b'oowner', b'oo', b'onsuccess', b'onsubmit', b'onsite', b'onobjectwithprototype', b'onmousedown', b'onlistcaller', b'onkeypress', b'onix', b'onions', b'onhandtxt', b'onhand', b'onerror', b'onebyte', b'onebottle', b'onboard', b'onappsettingschanged', b'omitting', b'oddlist', b'oddity', b'odbcdatareader', b'odbc', b'octet', b'occasionally', b'obtaining', b'obju', b'objsqlconnection', b'objsqlcommand', b'objdataset', b'objclassroom', b'objb', b'objarr', b'obhandler', b'obfuscator', b'numsteps', b'numofu', b'numofs', b'numinshipment', b'numguesses', b'numericgrade', b'numerals', b'numentries', b'numenemies', b'numcharsread', b'numbersstr', b'numberofyears', b'numberofsteps', b'numberofdaysinmonth', b'numberformatinfo', b'numbe', b'numb', b'numasstring', b'numarray', b'nucleotides', b'ntotal', b'nth', b'nstring', b'nselect', b'nrarray', b'nr', b'npm', b'novisitors', b'nounsynset', b'notparent', b'notimplementederror', b'noticias', b'nosuchelementexception', b'nooftiles', b'noofpacks', b'nonzero', b'nonendangeredfish', b'nonce', b'nonatkgain', b'nonatkdefsum', b'noexperience', b'nodevalue', b'noch', b'nobottles', b'nnn', b'nmyanswer', b'nltk', b'nimbus', b'nick', b'nicehippo', b'nhow', b'nhibernate', b'nextsong', b'nextslide', b'nextoperator', b'nextinput', b'nextdouble', b'nextcoordinates', b'nextchar', b'nextcard', b'newton', b'newstr', b'newstartdate', b'newseatsno', b'newseats', b'newscript', b'newsalary', b'newpage', b'newowner', b'newobj', b'newletter', b'newid', b'newgame', b'newfilmname', b'newfilename', b'neural', b'neon', b'nelson', b'ncmdshow', b'nbt', b'nbg', b'nbc', b'nb', b'navy', b'navsix', b'narrow', b'narray', b'nail', b'nachafile', b'naccount', b'myy', b'myvalidator', b'myusername', b'mytype', b'mytime', b'mytask', b'mytable', b'mysubmit', b'mystringwebresource', b'mysin', b'myrandom', b'mynewfunction', b'mymodule', b'mymethodattribute', b'mylinuxserveradapter', b'myhashmap', b'myfirstparam', b'mydictionary', b'mydev', b'myconnectionstring', b'mycomboboxfunctioncolumn', b'mycar', b'mybtn', b'myargs', b'myanimal', b'mx', b'mvt', b'muted', b'muss', b'mushrooms', b'multiplymagic', b'multiplies', b'multiplayer', b'multicast', b'mswap', b'msie', b'msgbox', b'msavefile', b'moverectangle', b'movenumber', b'movemousetest', b'movements', b'mouseeventhandler', b'mouseeventf', b'mountains', b'motd', b'mostevilaccount', b'mostconstword', b'morgan', b'mopenfile', b'monthlyinterestrate', b'monthcounter', b'monobehaviour', b'monate', b'modulo', b'moduletwo', b'moduleone', b'modobj', b'modelandview', b'mobilesite', b'mmirror', b'mlevelcost', b'mlastcursorposition', b'mlabel', b'misunderstanding', b'misses', b'misleading', b'misinitialized', b'minweight', b'minvalue', b'minmaxkeyinobject', b'minindex', b'mines', b'millis', b'milliliters', b'military', b'mikes', b'migrated', b'midterm', b'micr', b'mhkos', b'mfacingdirection', b'mexitcommand', b'mexchange', b'methodtorun', b'methodinfo', b'meter', b'messasge', b'mergeobjects', b'mercury', b'mercedes', b'mental', b'memoryset', b'memorymap', b'memoryerror', b'megiddo', b'mediawallcomputername', b'mediatypewithqualityheadervalue', b'mediailog', b'mdecode', b'mconfigfilename', b'mccain', b'mayo', b'maxtime', b'maxplayersinvalid', b'maxops', b'maxnum', b'maxloss', b'maxlength', b'maxindex', b'maximumdraws', b'maxfilesize', b'matt', b'matic', b'mathproblem', b'materialfloatlabel', b'massout', b'masks', b'martingale', b'martin', b'marketing', b'markertime', b'mantissa', b'mann', b'manipulates', b'manifest', b'mandatory', b'malformed', b'makewysiwyg', b'maketxt', b'makesquare', b'makenoise', b'makemenu', b'makefile', b'maintype', b'mainpassword', b'mails', b'mailbutton', b'mailbox', b'mage', b'macrosk', b'macbook', b'lyrics', b'lying', b'lv', b'ltr', b'lsp', b'lreporte', b'lrangea', b'lowtcount', b'lowgcount', b'lowerleftside', b'lowccount', b'lotto', b'losses', b'lorigin', b'loopcars', b'longeststart', b'longestlength', b'logsprnow', b'logspr', b'logspdnow', b'logspd', b'logoimg', b'logname', b'logmagnow', b'logmag', b'loglcknow', b'loglck', b'loghpcalcnow', b'loggroup', b'logedefnow', b'logedef', b'logeatknow', b'logeatk', b'logdefnow', b'logdef', b'logatknow', b'logatk', b'locker', b'locationhref', b'locateboard', b'localdate', b'loadxmldoc', b'loadedcontent', b'loaddata', b'lloyd', b'liveexport', b'lived', b'lity', b'lite', b'listwords', b'liststring', b'listselectionlistener', b'listobject', b'listin', b'listens', b'listdir', b'listcustomers', b'listboxes', b'linkedin', b'linecolor', b'lincoln', b'lime', b'liking', b'ligne', b'lightning', b'liable', b'lexicographic', b'letterfound', b'lettercharacter', b'lengthtwo', b'lengthone', b'lenghtc', b'leftpressed', b'lefteye', b'leftendpoint', b'leerarchivo', b'leap', b'ldr\\xc3\\xa9\\xc3\\xa9n', b'ldrnul', b'ldquo', b'lblgrosssalary', b'lblemp', b'lb', b'laystake', b'layodds', b'laycom', b'law', b'lately', b'lastupdated', b'lasttrackid', b'lastrotations', b'lastposition', b'lastnode', b'lastindexof', b'lastdigit', b'lastclick', b'laid', b'labs', b'labelrow', b'labelnum', b'labeled', b'laagsteverdieping', b'ku', b'km', b'klm', b'kk', b'kjede', b'kitchen', b'khaled', b'keypass', b'keyname', b'keylistenerexample', b'keyfolder', b'keyfile', b'kbi', b'kate', b'kata', b'kali', b'kahoot', b'jvms', b'jurusan', b'jupdatecustomer', b'jumps', b'jumbledwlist', b'jul', b'juego', b'jtable', b'jsonparser', b'jsoncontent', b'jsearchcustomer', b'jrbyellow', b'jrbred', b'jrbgreen', b'jqwidgets', b'jproperty', b'jp', b'joues', b'jordan', b'joinodd', b'joineven', b'joincolumns', b'johnson', b'johns', b'joe', b'jobtitle', b'jobs', b'jobkeya', b'jobject', b'jobdetail', b'jj', b'jill', b'jersey', b'jeditorpane', b'je', b'jdeletecustomer', b'javscript', b'jasp', b'jargon', b'jarfile', b'japanese', b'janvier', b'jam', b'jaddcustomer', b'iyear', b'itypeuniverse', b'itunes', b'itm', b'itemsperthings', b'itemno', b'itemdescription', b'itemclone', b'isvalidurl', b'isurgent', b'istate', b'issuccessful', b'isprimenumber', b'ispassing', b'isnotempty', b'ismodified', b'islice', b'islessthanten', b'isfile', b'isfast', b'isdash', b'isconnected', b'isbusy', b'isbodyhtml', b'isb', b'isadplaying', b'isactive', b'irrelevant', b'irow', b'iremotedesignerservice', b'iremotecancellationtoken', b'iran', b'ir', b'iport', b'ipad', b'involve', b'invokes', b'invokepropertychanged', b'invokemember', b'invokelater', b'invoicenumber', b'invocationtargetexception', b'invalidoperationexception', b'invalidnumber', b'invalidinput', b'intuitive', b'introduce', b'intprojects', b'intidx', b'interviews', b'intervalhandle', b'interrupt', b'interpreters', b'intergers', b'interactions', b'interacting', b'intents', b'intellisense', b'integration', b'integral', b'insure', b'instructed', b'instream', b'instantiatable', b'instanciate', b'installs', b'insertdataintocategoryandcodesdictionary', b'insertdata', b'insensitive', b'inquiry', b'inputvalue', b'inputslength', b'inputgold', b'inputdigit', b'inputaveragempg', b'inneritem', b'innerexception', b'initiation', b'initials', b'initializea', b'initialised', b'initialisation', b'initgui', b'initailise', b'ingredientlist', b'infourl', b'informative', b'infer', b'inefficient', b'industries', b'indicated', b'indexvalue', b'indexstacks', b'indexofselected', b'indexlist', b'indexers', b'indexclone', b'indenting', b'indefinitely', b'incremental', b'incremement', b'incorporating', b'incompatibility', b'includeexp', b'inclength', b'inbuilt', b'inamingcontainer', b'inactive', b'impression', b'impractical', b'importante', b'implementedtwo', b'implementedone', b'impact', b'imonth', b'imgurl', b'imgtag', b'imgexists', b'imessage', b'imap', b'imagetile', b'imagelist', b'imagefilename', b'imageconverter', b'illustrated', b'illustrate', b'ill', b'ijk', b'ihres', b'ihre', b'ihosttexteditor', b'ihand', b'iformfile', b'iexecutable', b'idxcat', b'idf', b'idatasource', b'icryptotransform', b'icounter', b'icomparable', b'icollection', b'ibigthing', b'iarr', b'iammount', b'hwtotal', b'hworked', b'hurt', b'huidige', b'httpurlconnection', b'httprequestmessage', b'httprequest', b'htmlwork', b'htmlstring', b'htmlmessagefrom', b'htmlmessage', b'htmldivelement', b'htmldata', b'htmlagilitypack', b'hoverbackground', b'houses', b'hourrotations', b'hosted', b'horses', b'horrible', b'horizontal', b'hoogsteverdieping', b'honest', b'hometeamruns', b'homes', b'homerun', b'holidays', b'hnumber', b'hk', b'hippo', b'highlightstaff', b'highlighting', b'hier', b'hidewindowcommand', b'hides', b'hibernate', b'hg', b'hexadecimalnumber', b'helmetslot', b'hell', b'heeft', b'hebt', b'healthbar', b'headerlabelscount', b'hb', b'hasnext', b'hashprintrequestattributeset', b'harry', b'hardlens', b'harder', b'hanukah', b'handleeventsubclassa', b'handed', b'hamburger', b'ham', b'halfwidth', b'hacky', b'hacks', b'hackerrank', b'gword', b'gunnar', b'guest', b'guesstf', b'guessstrtoarr', b'guessl', b'guessinggame', b'guesscheck', b'guessbuttonhandler', b'gudmundsson', b'gudmundsdottir', b'guarantees', b'gsadhm', b'growth', b'growing', b'groupuser', b'grouped', b'greeted', b'greet', b'greenlistener', b'greedy', b'graphserviceclient', b'graphic', b'gram', b'grad', b'grabid', b'grabbed', b'gotuser', b'god', b'gmode', b'gmessage', b'glassfish', b'givendate', b'gim', b'gif', b'ggg', b'gexecuteonce', b'getyesno', b'getyear', b'getw', b'getvehiclelist', b'gettitle', b'gettime', b'getsuit', b'getstatename', b'getstate', b'getspecs', b'getsizeof', b'getsize', b'getsecond', b'getsalesorderinfocallsuccess', b'getred', b'getrandom', b'getquerystring', b'getproduct', b'getposition', b'getplan', b'getperson', b'getpack', b'getobjs', b'getnumber', b'getnodeat', b'getnestedindexofid', b'getmyclass', b'getminute', b'getmessage', b'getmaliste', b'getlowestweekaverages', b'getlowesttemp', b'getlowestdayaverages', b'getlength', b'getlabel', b'gethighestweekaverages', b'gethighesttemp', b'gethighestdayaverages', b'geth', b'getfoo', b'getfirstname', b'getfile', b'getentry', b'getelevation', b'getelement', b'getefficiency', b'getdepthofid', b'getdefaultuserinfo', b'getdatafromemphcforemployeedetails', b'getconfirmmessage', b'getcircuitcomp', b'getchar', b'getcachetoken', b'getbytesbasedonpropertytype', b'getb', b'getarticles', b'getage', b'getaction', b'getacorddocuments', b'getaccount', b'geoip', b'geography', b'genotypes', b'genericmethodtest', b'generatevector', b'generateramdon', b'generatelistfromarray', b'generalized', b'gemaakt', b'gedit', b'geboortedatum', b'ge', b'gavilableamount', b'gaps', b'gameoverhtml', b'gameinformation', b'galon', b'galois', b'gallon', b'gagnes', b'f\\xc3\\xa9vrier', b'fxcop', b'fx', b'futurelist', b'functionone', b'functionalities', b'fullsitecookie', b'fulfil', b'fuelcapacity', b'ft', b'fsm', b'frustrating', b'frontend', b'frequencies', b'franchise', b'frametime', b'framelayout', b'framecount', b'fox', b'foutput', b'foundparents', b'foundlonelyinteger', b'foundfirsttaskname', b'foundation', b'forming', b'former', b'foothing', b'fontmetrics', b'fontbackgroundtest', b'folderbrowserdialog', b'folded', b'fold', b'focused', b'fnum', b'fns', b'flood', b'flist', b'flips', b'flight', b'flatten', b'flago', b'fitheader', b'firstnamespan', b'firstnames', b'firstly', b'firstdigit', b'firebase', b'fino', b'finishing', b'findwindow', b'findtworoot', b'findsimilar', b'findobject', b'findbutton']\n"
     ]
    }
   ],
   "source": [
    "vectorize_layer.adapt(np.array(X_train)) #Generate Vocab -> Index mapping\n",
    "print(len(vectorize_layer.get_vocabulary()))\n",
    "print(vectorize_layer.get_vocabulary())"
   ]
  },
  {
   "cell_type": "code",
   "execution_count": 19,
   "metadata": {
    "ExecuteTime": {
     "end_time": "2020-08-01T09:49:36.516270Z",
     "start_time": "2020-08-01T09:49:36.508270Z"
    },
    "hidden": true
   },
   "outputs": [],
   "source": [
    "embedding_dim = 16"
   ]
  },
  {
   "cell_type": "code",
   "execution_count": 20,
   "metadata": {
    "ExecuteTime": {
     "end_time": "2020-08-01T09:49:38.181151Z",
     "start_time": "2020-08-01T09:49:36.910926Z"
    },
    "hidden": true
   },
   "outputs": [
    {
     "name": "stdout",
     "output_type": "stream",
     "text": [
      "Model: \"sequential_1\"\n",
      "_________________________________________________________________\n",
      "Layer (type)                 Output Shape              Param #   \n",
      "=================================================================\n",
      "embedding (Embedding)        (None, None, 16)          16016     \n",
      "_________________________________________________________________\n",
      "dropout (Dropout)            (None, None, 16)          0         \n",
      "_________________________________________________________________\n",
      "global_average_pooling1d (Gl (None, 16)                0         \n",
      "_________________________________________________________________\n",
      "dropout_1 (Dropout)          (None, 16)                0         \n",
      "_________________________________________________________________\n",
      "dense_5 (Dense)              (None, 8)                 136       \n",
      "_________________________________________________________________\n",
      "dense_6 (Dense)              (None, 4)                 36        \n",
      "=================================================================\n",
      "Total params: 16,188\n",
      "Trainable params: 16,188\n",
      "Non-trainable params: 0\n",
      "_________________________________________________________________\n"
     ]
    }
   ],
   "source": [
    "model = tf.keras.Sequential([\n",
    "  tf.keras.layers.Embedding(1000 + 1, embedding_dim),\n",
    "  tf.keras.layers.Dropout(0.2),\n",
    "  tf.keras.layers.GlobalAveragePooling1D(),\n",
    "  tf.keras.layers.Dropout(0.2),\n",
    "  #tf.keras.layers.Dense(units = 16, activation = 'tanh'),\n",
    "  tf.keras.layers.Dense(units = 8, activation = 'swish'),    \n",
    "  tf.keras.layers.Dense(4)\n",
    "])\n",
    "\n",
    "model.summary()"
   ]
  },
  {
   "cell_type": "code",
   "execution_count": 23,
   "metadata": {
    "ExecuteTime": {
     "end_time": "2020-07-30T19:47:24.655092Z",
     "start_time": "2020-07-30T19:47:24.597233Z"
    },
    "hidden": true
   },
   "outputs": [],
   "source": [
    "model.compile(loss=losses.CategoricalCrossentropy(from_logits=True),\n",
    "              optimizer='adam',\n",
    "              metrics=['accuracy'])"
   ]
  },
  {
   "cell_type": "code",
   "execution_count": 24,
   "metadata": {
    "ExecuteTime": {
     "end_time": "2020-07-30T19:47:28.557089Z",
     "start_time": "2020-07-30T19:47:28.285974Z"
    },
    "hidden": true
   },
   "outputs": [],
   "source": [
    "train_feed = np.array(vectorize_layer(X_train))\n",
    "val_feed = np.array(vectorize_layer(X_val))"
   ]
  },
  {
   "cell_type": "code",
   "execution_count": 25,
   "metadata": {
    "ExecuteTime": {
     "end_time": "2020-07-30T19:47:29.002040Z",
     "start_time": "2020-07-30T19:47:28.981136Z"
    },
    "hidden": true
   },
   "outputs": [],
   "source": [
    "y_train = pd.get_dummies(y_train)\n",
    "y_val = pd.get_dummies(y_val)"
   ]
  },
  {
   "cell_type": "code",
   "execution_count": 26,
   "metadata": {
    "ExecuteTime": {
     "end_time": "2020-07-30T19:47:45.774465Z",
     "start_time": "2020-07-30T19:47:32.344651Z"
    },
    "hidden": true,
    "scrolled": false
   },
   "outputs": [
    {
     "name": "stdout",
     "output_type": "stream",
     "text": [
      "Epoch 1/10\n",
      "400/400 [==============================] - 1s 4ms/step - loss: 1.3589 - accuracy: 0.3708 - val_loss: 1.2897 - val_accuracy: 0.5244\n",
      "Epoch 2/10\n",
      "400/400 [==============================] - 1s 3ms/step - loss: 1.1630 - accuracy: 0.5353 - val_loss: 1.0728 - val_accuracy: 0.5875\n",
      "Epoch 3/10\n",
      "400/400 [==============================] - 1s 3ms/step - loss: 0.9434 - accuracy: 0.6473 - val_loss: 0.9129 - val_accuracy: 0.6525\n",
      "Epoch 4/10\n",
      "400/400 [==============================] - 1s 3ms/step - loss: 0.7868 - accuracy: 0.7023 - val_loss: 0.8127 - val_accuracy: 0.6725\n",
      "Epoch 5/10\n",
      "400/400 [==============================] - 1s 3ms/step - loss: 0.6828 - accuracy: 0.7345 - val_loss: 0.7563 - val_accuracy: 0.6888\n",
      "Epoch 6/10\n",
      "400/400 [==============================] - 1s 3ms/step - loss: 0.6115 - accuracy: 0.7614 - val_loss: 0.7188 - val_accuracy: 0.7056\n",
      "Epoch 7/10\n",
      "400/400 [==============================] - 1s 3ms/step - loss: 0.5502 - accuracy: 0.7845 - val_loss: 0.6989 - val_accuracy: 0.7219\n",
      "Epoch 8/10\n",
      "400/400 [==============================] - 1s 3ms/step - loss: 0.5045 - accuracy: 0.7989 - val_loss: 0.6813 - val_accuracy: 0.7300\n",
      "Epoch 9/10\n",
      "400/400 [==============================] - 1s 3ms/step - loss: 0.4636 - accuracy: 0.8158 - val_loss: 0.6744 - val_accuracy: 0.7375\n",
      "Epoch 10/10\n",
      "400/400 [==============================] - 1s 3ms/step - loss: 0.4235 - accuracy: 0.8359 - val_loss: 0.6728 - val_accuracy: 0.7375\n"
     ]
    }
   ],
   "source": [
    "epochs = 10\n",
    "history = model.fit(\n",
    "    train_feed, np.array(y_train),\n",
    "    validation_data=(val_feed, np.array(y_val)),\n",
    "    epochs=epochs, batch_size=16)"
   ]
  },
  {
   "cell_type": "code",
   "execution_count": 27,
   "metadata": {
    "ExecuteTime": {
     "end_time": "2020-07-30T19:47:49.377942Z",
     "start_time": "2020-07-30T19:47:48.713725Z"
    },
    "hidden": true
   },
   "outputs": [],
   "source": [
    "test_feed = np.array(vectorize_layer(X_test))"
   ]
  },
  {
   "cell_type": "code",
   "execution_count": 28,
   "metadata": {
    "ExecuteTime": {
     "end_time": "2020-07-30T19:47:49.842599Z",
     "start_time": "2020-07-30T19:47:49.830565Z"
    },
    "hidden": true
   },
   "outputs": [],
   "source": [
    "y_test = pd.get_dummies(y_test)"
   ]
  },
  {
   "cell_type": "code",
   "execution_count": 29,
   "metadata": {
    "ExecuteTime": {
     "end_time": "2020-07-30T19:47:51.038396Z",
     "start_time": "2020-07-30T19:47:50.477660Z"
    },
    "hidden": true
   },
   "outputs": [
    {
     "name": "stdout",
     "output_type": "stream",
     "text": [
      "250/250 [==============================] - 0s 2ms/step - loss: 0.6862 - accuracy: 0.7240\n"
     ]
    },
    {
     "data": {
      "text/plain": [
       "[0.6862085461616516, 0.7239999771118164]"
      ]
     },
     "execution_count": 29,
     "metadata": {},
     "output_type": "execute_result"
    }
   ],
   "source": [
    "model.evaluate(test_feed, np.array(y_test))"
   ]
  },
  {
   "cell_type": "markdown",
   "metadata": {},
   "source": [
    "## Count Vectorizer & TFIDF "
   ]
  },
  {
   "cell_type": "markdown",
   "metadata": {},
   "source": [
    "*Use sklearn's classes for Text based feature extraction as the functionality offered is much better, as compared to TF*"
   ]
  },
  {
   "cell_type": "markdown",
   "metadata": {},
   "source": [
    "## Preparing Vocab "
   ]
  },
  {
   "cell_type": "code",
   "execution_count": 26,
   "metadata": {
    "ExecuteTime": {
     "end_time": "2020-08-01T16:04:57.380402Z",
     "start_time": "2020-08-01T16:04:53.607014Z"
    },
    "cell_style": "center"
   },
   "outputs": [],
   "source": [
    "word_list = []\n",
    "for i in train.label.unique():\n",
    "    data = train[train['label']==i]\n",
    "    v = CountVectorizer(ngram_range=(1, 2), max_features=300)\n",
    "    v.fit(data['text'])\n",
    "    word_list.extend(v.get_feature_names()) #extracting 500 top words from each category"
   ]
  },
  {
   "cell_type": "code",
   "execution_count": 29,
   "metadata": {
    "ExecuteTime": {
     "end_time": "2020-08-01T16:05:35.662682Z",
     "start_time": "2020-08-01T16:05:35.646681Z"
    }
   },
   "outputs": [],
   "source": [
    "word_list = list(set(word_list))"
   ]
  },
  {
   "cell_type": "code",
   "execution_count": 42,
   "metadata": {
    "ExecuteTime": {
     "end_time": "2020-08-01T16:09:08.645645Z",
     "start_time": "2020-08-01T16:09:08.629650Z"
    }
   },
   "outputs": [
    {
     "data": {
      "text/plain": [
       "549"
      ]
     },
     "execution_count": 42,
     "metadata": {},
     "output_type": "execute_result"
    }
   ],
   "source": [
    "len(word_list)"
   ]
  },
  {
   "cell_type": "code",
   "execution_count": 43,
   "metadata": {
    "ExecuteTime": {
     "end_time": "2020-08-01T16:09:14.838953Z",
     "start_time": "2020-08-01T16:09:14.822952Z"
    }
   },
   "outputs": [],
   "source": [
    "X_train = pd.DataFrame(train['text'])\n",
    "y_train = train['label']"
   ]
  },
  {
   "cell_type": "code",
   "execution_count": 44,
   "metadata": {
    "ExecuteTime": {
     "end_time": "2020-08-01T16:09:15.367650Z",
     "start_time": "2020-08-01T16:09:15.343691Z"
    }
   },
   "outputs": [],
   "source": [
    "X_train, y_train = shuffle(X_train, y_train, random_state=420)"
   ]
  },
  {
   "cell_type": "code",
   "execution_count": 45,
   "metadata": {
    "ExecuteTime": {
     "end_time": "2020-08-01T16:09:15.823690Z",
     "start_time": "2020-08-01T16:09:15.807643Z"
    }
   },
   "outputs": [],
   "source": [
    "X_test = pd.DataFrame(test['text'])\n",
    "y_test = test['label']"
   ]
  },
  {
   "cell_type": "code",
   "execution_count": 46,
   "metadata": {
    "ExecuteTime": {
     "end_time": "2020-08-01T16:09:16.247656Z",
     "start_time": "2020-08-01T16:09:16.231694Z"
    }
   },
   "outputs": [],
   "source": [
    "X_test, y_test = shuffle(X_test, y_test, random_state=420)"
   ]
  },
  {
   "cell_type": "code",
   "execution_count": 47,
   "metadata": {
    "ExecuteTime": {
     "end_time": "2020-08-01T16:09:22.630361Z",
     "start_time": "2020-08-01T16:09:20.083126Z"
    }
   },
   "outputs": [],
   "source": [
    "tfidf_vect = TfidfVectorizer(vocabulary = word_list, ngram_range=(1,2))\n",
    "tfidf_vect.fit(word_list)\n",
    "train_feed = tfidf_vect.transform(X_train['text'])"
   ]
  },
  {
   "cell_type": "code",
   "execution_count": 48,
   "metadata": {
    "ExecuteTime": {
     "end_time": "2020-08-01T16:09:24.507275Z",
     "start_time": "2020-08-01T16:09:24.491291Z"
    }
   },
   "outputs": [
    {
     "data": {
      "text/plain": [
       "549"
      ]
     },
     "execution_count": 48,
     "metadata": {},
     "output_type": "execute_result"
    }
   ],
   "source": [
    "len(tfidf_vect.get_feature_names())"
   ]
  },
  {
   "cell_type": "code",
   "execution_count": 49,
   "metadata": {
    "ExecuteTime": {
     "end_time": "2020-08-01T16:09:27.637452Z",
     "start_time": "2020-08-01T16:09:27.557450Z"
    }
   },
   "outputs": [],
   "source": [
    "train_feed = pd.DataFrame(train_feed.toarray())\n",
    "train_feed = np.array(train_feed)"
   ]
  },
  {
   "cell_type": "code",
   "execution_count": 50,
   "metadata": {
    "ExecuteTime": {
     "end_time": "2020-08-01T16:09:28.447067Z",
     "start_time": "2020-08-01T16:09:28.431067Z"
    }
   },
   "outputs": [
    {
     "data": {
      "text/plain": [
       "(12000, 549)"
      ]
     },
     "execution_count": 50,
     "metadata": {},
     "output_type": "execute_result"
    }
   ],
   "source": [
    "train_feed.shape"
   ]
  },
  {
   "cell_type": "code",
   "execution_count": 51,
   "metadata": {
    "ExecuteTime": {
     "end_time": "2020-08-01T16:09:32.030977Z",
     "start_time": "2020-08-01T16:09:32.022977Z"
    }
   },
   "outputs": [],
   "source": [
    "y_train = pd.get_dummies(y_train)"
   ]
  },
  {
   "cell_type": "markdown",
   "metadata": {},
   "source": [
    "## Training & Testing"
   ]
  },
  {
   "cell_type": "code",
   "execution_count": 52,
   "metadata": {
    "ExecuteTime": {
     "end_time": "2020-08-01T16:09:37.230632Z",
     "start_time": "2020-08-01T16:09:37.222586Z"
    }
   },
   "outputs": [],
   "source": [
    "input_shape = (12000,549)"
   ]
  },
  {
   "cell_type": "code",
   "execution_count": 53,
   "metadata": {
    "ExecuteTime": {
     "end_time": "2020-08-01T16:09:39.836405Z",
     "start_time": "2020-08-01T16:09:38.944957Z"
    }
   },
   "outputs": [
    {
     "name": "stdout",
     "output_type": "stream",
     "text": [
      "Model: \"sequential\"\n",
      "_________________________________________________________________\n",
      "Layer (type)                 Output Shape              Param #   \n",
      "=================================================================\n",
      "dropout (Dropout)            multiple                  0         \n",
      "_________________________________________________________________\n",
      "dense (Dense)                multiple                  220000    \n",
      "_________________________________________________________________\n",
      "dense_1 (Dense)              multiple                  80200     \n",
      "_________________________________________________________________\n",
      "dense_2 (Dense)              multiple                  804       \n",
      "=================================================================\n",
      "Total params: 301,004\n",
      "Trainable params: 301,004\n",
      "Non-trainable params: 0\n",
      "_________________________________________________________________\n"
     ]
    }
   ],
   "source": [
    "model = tf.keras.Sequential([\n",
    "    #tf.keras.layers.Embedding(selected_vocab + 1, embedding_dim),\n",
    "    tf.keras.layers.Dropout(0.2),\n",
    "    #tf.keras.layers.GlobalAveragePooling1D(),\n",
    "    tf.keras.layers.Dense(units = 400, activation = 'swish'),\n",
    "    #tf.keras.layers.Dense(units = 16, activation = 'tanh'),\n",
    "    tf.keras.layers.Dense(units = 200, activation = 'swish'),    \n",
    "    #tf.keras.layers.Dense(units = 100, activation = 'swish'),    \n",
    "    tf.keras.layers.Dense(4, activation='softmax')\n",
    "])\n",
    "\n",
    "model.build(input_shape)\n",
    "model.summary()"
   ]
  },
  {
   "cell_type": "code",
   "execution_count": 54,
   "metadata": {
    "ExecuteTime": {
     "end_time": "2020-08-01T16:09:45.718743Z",
     "start_time": "2020-08-01T16:09:45.662709Z"
    }
   },
   "outputs": [],
   "source": [
    "model.compile(loss=losses.CategoricalCrossentropy(),\n",
    "              optimizer='adam',\n",
    "              metrics=['accuracy'])\n",
    "es = tf.keras.callbacks.EarlyStopping(monitor='val_loss', mode='min', verbose=1, patience=5)"
   ]
  },
  {
   "cell_type": "code",
   "execution_count": 55,
   "metadata": {
    "ExecuteTime": {
     "end_time": "2020-08-01T16:10:20.494745Z",
     "start_time": "2020-08-01T16:09:46.799188Z"
    },
    "scrolled": true
   },
   "outputs": [
    {
     "name": "stdout",
     "output_type": "stream",
     "text": [
      "Epoch 1/20\n",
      "WARNING:tensorflow:Layer dropout is casting an input tensor from dtype float64 to the layer's dtype of float32, which is new behavior in TensorFlow 2.  The layer has dtype float32 because it's dtype defaults to floatx.\n",
      "\n",
      "If you intended to run this layer in float32, you can safely ignore this warning. If in doubt, this warning is likely only an issue if you are porting a TensorFlow 1.X model to TensorFlow 2.\n",
      "\n",
      "To change all layers to have dtype float64 by default, call `tf.keras.backend.set_floatx('float64')`. To change just this layer, pass dtype='float64' to the layer constructor. If you are the author of this layer, you can disable autocasting by passing autocast=False to the base Layer constructor.\n",
      "\n",
      "600/600 [==============================] - 2s 3ms/step - loss: 0.5962 - accuracy: 0.7621 - val_loss: 0.4138 - val_accuracy: 0.8346\n",
      "Epoch 2/20\n",
      "600/600 [==============================] - 2s 3ms/step - loss: 0.4583 - accuracy: 0.8151 - val_loss: 0.4090 - val_accuracy: 0.8342\n",
      "Epoch 3/20\n",
      "600/600 [==============================] - 2s 3ms/step - loss: 0.4366 - accuracy: 0.8231 - val_loss: 0.4099 - val_accuracy: 0.8363\n",
      "Epoch 4/20\n",
      "600/600 [==============================] - 2s 3ms/step - loss: 0.4246 - accuracy: 0.8289 - val_loss: 0.4102 - val_accuracy: 0.8383\n",
      "Epoch 5/20\n",
      "600/600 [==============================] - 2s 3ms/step - loss: 0.4089 - accuracy: 0.8340 - val_loss: 0.3906 - val_accuracy: 0.8371\n",
      "Epoch 6/20\n",
      "600/600 [==============================] - 2s 3ms/step - loss: 0.4049 - accuracy: 0.8327 - val_loss: 0.3992 - val_accuracy: 0.8375\n",
      "Epoch 7/20\n",
      "600/600 [==============================] - 2s 3ms/step - loss: 0.4021 - accuracy: 0.8353 - val_loss: 0.3944 - val_accuracy: 0.8383\n",
      "Epoch 8/20\n",
      "600/600 [==============================] - 2s 3ms/step - loss: 0.4002 - accuracy: 0.8358 - val_loss: 0.3894 - val_accuracy: 0.8392\n",
      "Epoch 9/20\n",
      "600/600 [==============================] - 2s 3ms/step - loss: 0.3973 - accuracy: 0.8370 - val_loss: 0.3848 - val_accuracy: 0.8371\n",
      "Epoch 10/20\n",
      "600/600 [==============================] - 2s 3ms/step - loss: 0.3888 - accuracy: 0.8388 - val_loss: 0.3835 - val_accuracy: 0.8392\n",
      "Epoch 11/20\n",
      "600/600 [==============================] - 2s 3ms/step - loss: 0.3840 - accuracy: 0.8405 - val_loss: 0.3835 - val_accuracy: 0.8408\n",
      "Epoch 12/20\n",
      "600/600 [==============================] - 2s 3ms/step - loss: 0.3779 - accuracy: 0.8436 - val_loss: 0.3800 - val_accuracy: 0.8446\n",
      "Epoch 13/20\n",
      "600/600 [==============================] - 2s 3ms/step - loss: 0.3689 - accuracy: 0.8455 - val_loss: 0.3809 - val_accuracy: 0.8388\n",
      "Epoch 14/20\n",
      "600/600 [==============================] - 2s 3ms/step - loss: 0.3657 - accuracy: 0.8432 - val_loss: 0.3755 - val_accuracy: 0.8450\n",
      "Epoch 15/20\n",
      "600/600 [==============================] - 2s 3ms/step - loss: 0.3571 - accuracy: 0.8483 - val_loss: 0.3875 - val_accuracy: 0.8396\n",
      "Epoch 16/20\n",
      "600/600 [==============================] - 2s 3ms/step - loss: 0.3600 - accuracy: 0.8475 - val_loss: 0.3881 - val_accuracy: 0.8438\n",
      "Epoch 17/20\n",
      "600/600 [==============================] - 2s 3ms/step - loss: 0.3538 - accuracy: 0.8507 - val_loss: 0.3900 - val_accuracy: 0.8404\n",
      "Epoch 18/20\n",
      "600/600 [==============================] - 2s 3ms/step - loss: 0.3422 - accuracy: 0.8543 - val_loss: 0.3978 - val_accuracy: 0.8458\n",
      "Epoch 19/20\n",
      "600/600 [==============================] - 2s 3ms/step - loss: 0.3419 - accuracy: 0.8551 - val_loss: 0.3987 - val_accuracy: 0.8346\n",
      "Epoch 00019: early stopping\n"
     ]
    }
   ],
   "source": [
    "epochs = 20\n",
    "history = model.fit(\n",
    "    train_feed, np.array(y_train),\n",
    "    validation_split=0.2,\n",
    "    epochs=epochs, batch_size=16, callbacks=[es])"
   ]
  },
  {
   "cell_type": "code",
   "execution_count": 56,
   "metadata": {
    "ExecuteTime": {
     "end_time": "2020-08-01T16:10:37.434456Z",
     "start_time": "2020-08-01T16:10:36.490397Z"
    }
   },
   "outputs": [],
   "source": [
    "tfdif_vect_test = TfidfVectorizer(vocabulary = word_list, ngram_range = (1,2))\n",
    "tfdif_vect_test.fit(word_list)\n",
    "test_feed = tfdif_vect_test.transform(X_test['text'])\n",
    "test_feed = pd.DataFrame(test_feed.toarray())\n",
    "test_feed = np.array(test_feed)"
   ]
  },
  {
   "cell_type": "code",
   "execution_count": 57,
   "metadata": {
    "ExecuteTime": {
     "end_time": "2020-08-01T16:10:38.440768Z",
     "start_time": "2020-08-01T16:10:38.432738Z"
    }
   },
   "outputs": [],
   "source": [
    "y_test_tf = pd.get_dummies(y_test)"
   ]
  },
  {
   "cell_type": "code",
   "execution_count": 58,
   "metadata": {
    "ExecuteTime": {
     "end_time": "2020-08-01T16:10:39.643684Z",
     "start_time": "2020-08-01T16:10:39.242592Z"
    }
   },
   "outputs": [
    {
     "name": "stdout",
     "output_type": "stream",
     "text": [
      "125/125 [==============================] - 0s 2ms/step - loss: 0.3900 - accuracy: 0.8555\n"
     ]
    },
    {
     "data": {
      "text/plain": [
       "[0.3900226950645447, 0.8554999828338623]"
      ]
     },
     "execution_count": 58,
     "metadata": {},
     "output_type": "execute_result"
    }
   ],
   "source": [
    "model.evaluate(test_feed, np.array(y_test_tf))"
   ]
  },
  {
   "cell_type": "code",
   "execution_count": 59,
   "metadata": {
    "ExecuteTime": {
     "end_time": "2020-08-01T16:10:41.946965Z",
     "start_time": "2020-08-01T16:10:41.735040Z"
    }
   },
   "outputs": [
    {
     "data": {
      "image/png": "[encoded data removed]",
      "text/plain": [
       "<Figure size 432x288 with 1 Axes>"
      ]
     },
     "metadata": {
      "needs_background": "light"
     },
     "output_type": "display_data"
    }
   ],
   "source": [
    "plt.plot(history.history['loss'])\n",
    "plt.plot(history.history['val_loss'])\n",
    "plt.title('model loss')\n",
    "plt.ylabel('loss')\n",
    "plt.xlabel('epoch')\n",
    "plt.legend(['train', 'val'], loc='upper left')\n",
    "plt.show()"
   ]
  },
  {
   "cell_type": "code",
   "execution_count": 60,
   "metadata": {
    "ExecuteTime": {
     "end_time": "2020-08-01T16:10:48.069294Z",
     "start_time": "2020-08-01T16:10:47.866640Z"
    }
   },
   "outputs": [
    {
     "data": {
      "image/png": "[encoded data removed]",
      "text/plain": [
       "<Figure size 432x288 with 1 Axes>"
      ]
     },
     "metadata": {
      "needs_background": "light"
     },
     "output_type": "display_data"
    }
   ],
   "source": [
    "from matplotlib import pyplot as plt\n",
    "plt.plot(history.history['accuracy'])\n",
    "plt.plot(history.history['val_accuracy'])\n",
    "plt.title('model accuracy')\n",
    "plt.ylabel('accuracy')\n",
    "plt.xlabel('epoch')\n",
    "plt.legend(['train', 'val'], loc='upper left')\n",
    "plt.show()"
   ]
  },
  {
   "cell_type": "code",
   "execution_count": 61,
   "metadata": {
    "ExecuteTime": {
     "end_time": "2020-08-01T16:10:50.646850Z",
     "start_time": "2020-08-01T16:10:50.361720Z"
    }
   },
   "outputs": [],
   "source": [
    "y_pred = model.predict(test_feed)"
   ]
  },
  {
   "cell_type": "code",
   "execution_count": 62,
   "metadata": {
    "ExecuteTime": {
     "end_time": "2020-08-01T16:10:51.861165Z",
     "start_time": "2020-08-01T16:10:51.853203Z"
    }
   },
   "outputs": [
    {
     "data": {
      "text/plain": [
       "array([[2.00265626e-09, 2.68944089e-09, 3.78716081e-09, 1.00000000e+00],\n",
       "       [3.36815077e-07, 6.38288611e-07, 4.66879499e-07, 9.99998569e-01],\n",
       "       [4.07087319e-02, 1.22644408e-02, 9.42593813e-01, 4.43309452e-03],\n",
       "       ...,\n",
       "       [9.84821618e-01, 1.43317403e-02, 8.32798774e-04, 1.38823625e-05],\n",
       "       [2.04343319e-01, 4.95087028e-01, 1.47460938e-01, 1.53108701e-01],\n",
       "       [2.72403032e-01, 3.38492246e-05, 7.27532744e-01, 3.04147052e-05]],\n",
       "      dtype=float32)"
      ]
     },
     "execution_count": 62,
     "metadata": {},
     "output_type": "execute_result"
    }
   ],
   "source": [
    "y_pred"
   ]
  },
  {
   "cell_type": "code",
   "execution_count": 63,
   "metadata": {
    "ExecuteTime": {
     "end_time": "2020-08-01T16:10:54.157160Z",
     "start_time": "2020-08-01T16:10:53.997822Z"
    }
   },
   "outputs": [],
   "source": [
    "#Evaluation Function\n",
    "import pycm\n",
    "def evaluate_model(Y_actual, Y_predicted):\n",
    "\n",
    "    confusion_matrix_class = pycm.ConfusionMatrix(actual_vector=Y_actual,\n",
    "                                                  predict_vector=Y_predicted)\n",
    "\n",
    "    TPR = []\n",
    "    PPV = []\n",
    "    FPR = []\n",
    "    FNR = []\n",
    "    ACC = []\n",
    "    F1 = []\n",
    "\n",
    "    TPR.append(confusion_matrix_class.overall_stat['TPR Micro'])\n",
    "    PPV.append(confusion_matrix_class.overall_stat['PPV Micro'])\n",
    "    FPR.append(\n",
    "        round((sum(confusion_matrix_class.FP.values()) /\n",
    "               (sum(confusion_matrix_class.FP.values()) +\n",
    "                sum(confusion_matrix_class.TN.values()))), 4))\n",
    "    FNR.append(\n",
    "        round((sum(confusion_matrix_class.FN.values()) /\n",
    "               (sum(confusion_matrix_class.TP.values()) +\n",
    "                sum(confusion_matrix_class.FN.values()))), 4))\n",
    "    ACC.append(\n",
    "        round((sum(confusion_matrix_class.TP.values()) +\n",
    "               sum(confusion_matrix_class.TN.values())) /\n",
    "              (sum(confusion_matrix_class.TP.values()) +\n",
    "               sum(confusion_matrix_class.TN.values()) +\n",
    "               sum(confusion_matrix_class.FP.values()) +\n",
    "               sum(confusion_matrix_class.FN.values())), 4))\n",
    "    F1.append(confusion_matrix_class.overall_stat['F1 Micro'])\n",
    "\n",
    "    for i in confusion_matrix_class.classes:\n",
    "\n",
    "        TPR.append(round(float(confusion_matrix_class.class_stat['TPR'][i]),\n",
    "                         2))\n",
    "\n",
    "        PPV.append(round(float(confusion_matrix_class.class_stat['PPV'][i]),\n",
    "                         2))\n",
    "\n",
    "        FPR.append(round(float(confusion_matrix_class.class_stat['FPR'][i]),\n",
    "                         2))\n",
    "        FNR.append(round(float(confusion_matrix_class.class_stat['FNR'][i]),\n",
    "                         2))\n",
    "\n",
    "        ACC.append(round(float(confusion_matrix_class.class_stat['ACC'][i]),\n",
    "                         2))\n",
    "        F1.append(round(float(confusion_matrix_class.class_stat['F1'][i]), 2))\n",
    "\n",
    "    eval_df = pd.DataFrame()\n",
    "    index = ['overall']\n",
    "    index.extend(confusion_matrix_class.classes)\n",
    "    eval_df['Recall'] = TPR\n",
    "    eval_df['Precision'] = PPV\n",
    "    eval_df['False_Positive_Rate'] = FPR\n",
    "    eval_df['False_Negative_Rate'] = FNR\n",
    "    eval_df['Accuracy'] = ACC\n",
    "    eval_df['F1_Score'] = F1\n",
    "    eval_df.index = index\n",
    "\n",
    "    return (eval_df)"
   ]
  },
  {
   "cell_type": "code",
   "execution_count": 64,
   "metadata": {
    "ExecuteTime": {
     "end_time": "2020-08-01T16:10:54.682283Z",
     "start_time": "2020-08-01T16:10:54.618331Z"
    }
   },
   "outputs": [
    {
     "data": {
      "text/html": [
       "<div>\n",
       "<style scoped>\n",
       "    .dataframe tbody tr th:only-of-type {\n",
       "        vertical-align: middle;\n",
       "    }\n",
       "\n",
       "    .dataframe tbody tr th {\n",
       "        vertical-align: top;\n",
       "    }\n",
       "\n",
       "    .dataframe thead th {\n",
       "        text-align: right;\n",
       "    }\n",
       "</style>\n",
       "<table border=\"1\" class=\"dataframe\">\n",
       "  <thead>\n",
       "    <tr style=\"text-align: right;\">\n",
       "      <th></th>\n",
       "      <th>Recall</th>\n",
       "      <th>Precision</th>\n",
       "      <th>False_Positive_Rate</th>\n",
       "      <th>False_Negative_Rate</th>\n",
       "      <th>Accuracy</th>\n",
       "      <th>F1_Score</th>\n",
       "    </tr>\n",
       "  </thead>\n",
       "  <tbody>\n",
       "    <tr>\n",
       "      <th>overall</th>\n",
       "      <td>83.9</td>\n",
       "      <td>83.9</td>\n",
       "      <td>5.37</td>\n",
       "      <td>16.1</td>\n",
       "      <td>91.95</td>\n",
       "      <td>83.9</td>\n",
       "    </tr>\n",
       "    <tr>\n",
       "      <th>0</th>\n",
       "      <td>89.0</td>\n",
       "      <td>67.0</td>\n",
       "      <td>15.00</td>\n",
       "      <td>11.0</td>\n",
       "      <td>86.00</td>\n",
       "      <td>77.0</td>\n",
       "    </tr>\n",
       "    <tr>\n",
       "      <th>1</th>\n",
       "      <td>74.0</td>\n",
       "      <td>91.0</td>\n",
       "      <td>2.00</td>\n",
       "      <td>26.0</td>\n",
       "      <td>92.00</td>\n",
       "      <td>81.0</td>\n",
       "    </tr>\n",
       "    <tr>\n",
       "      <th>2</th>\n",
       "      <td>90.0</td>\n",
       "      <td>90.0</td>\n",
       "      <td>3.00</td>\n",
       "      <td>10.0</td>\n",
       "      <td>95.00</td>\n",
       "      <td>90.0</td>\n",
       "    </tr>\n",
       "    <tr>\n",
       "      <th>3</th>\n",
       "      <td>83.0</td>\n",
       "      <td>96.0</td>\n",
       "      <td>1.00</td>\n",
       "      <td>17.0</td>\n",
       "      <td>95.00</td>\n",
       "      <td>89.0</td>\n",
       "    </tr>\n",
       "  </tbody>\n",
       "</table>\n",
       "</div>"
      ],
      "text/plain": [
       "         Recall  Precision  False_Positive_Rate  False_Negative_Rate  \\\n",
       "overall    83.9       83.9                 5.37                 16.1   \n",
       "0          89.0       67.0                15.00                 11.0   \n",
       "1          74.0       91.0                 2.00                 26.0   \n",
       "2          90.0       90.0                 3.00                 10.0   \n",
       "3          83.0       96.0                 1.00                 17.0   \n",
       "\n",
       "         Accuracy  F1_Score  \n",
       "overall     91.95      83.9  \n",
       "0           86.00      77.0  \n",
       "1           92.00      81.0  \n",
       "2           95.00      90.0  \n",
       "3           95.00      89.0  "
      ]
     },
     "execution_count": 64,
     "metadata": {},
     "output_type": "execute_result"
    }
   ],
   "source": [
    "y_pred = np.argmax(np.round(y_pred),axis = 1)\n",
    "evaluate_model(np.array(y_test), y_pred)*100"
   ]
  },
  {
   "cell_type": "code",
   "execution_count": null,
   "metadata": {},
   "outputs": [],
   "source": []
  }
 ],
 "metadata": {
  "hide_input": false,
  "kernelspec": {
   "display_name": "Python 3",
   "language": "python",
   "name": "python3"
  },
  "language_info": {
   "codemirror_mode": {
    "name": "ipython",
    "version": 3
   },
   "file_extension": ".py",
   "mimetype": "text/x-python",
   "name": "python",
   "nbconvert_exporter": "python",
   "pygments_lexer": "ipython3",
   "version": "3.6.6"
  },
  "toc": {
   "base_numbering": 1,
   "nav_menu": {},
   "number_sections": true,
   "sideBar": true,
   "skip_h1_title": false,
   "title_cell": "Table of Contents",
   "title_sidebar": "Contents",
   "toc_cell": false,
   "toc_position": {
    "height": "calc(100% - 180px)",
    "left": "10px",
    "top": "150px",
    "width": "231.467px"
   },
   "toc_section_display": true,
   "toc_window_display": true
  }
 },
 "nbformat": 4,
 "nbformat_minor": 2
}
